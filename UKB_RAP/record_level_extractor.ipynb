{
 "cells": [
  {
   "cell_type": "markdown",
   "id": "872ed3ee-80c1-4344-8afc-c6cea5bb5c65",
   "metadata": {
    "tags": []
   },
   "source": [
    "## Notebook - Extract record-level data \n",
    "Author: Dat\n"
   ]
  },
  {
   "cell_type": "markdown",
   "id": "5f6208e9-a17a-4073-82bd-d77b407e36cf",
   "metadata": {},
   "source": [
    "### [Required Spark session] Set up"
   ]
  },
  {
   "cell_type": "code",
   "execution_count": 1,
   "id": "bd7ba0cc-45de-4df9-832d-b8ab4e38b697",
   "metadata": {
    "tags": []
   },
   "outputs": [],
   "source": [
    "import pyspark \n",
    "import dxpy # tools starting with 'dx' are from the DNANexus ecosystem\n",
    "import dxdata\n",
    "from pyspark.sql.functions import when, concat_ws\n",
    "from re import sub"
   ]
  },
  {
   "cell_type": "markdown",
   "id": "4230088f-d1f5-4fd4-8b5d-55e9d8b01d7f",
   "metadata": {},
   "source": [
    "### [Run this only once]"
   ]
  },
  {
   "cell_type": "code",
   "execution_count": 2,
   "id": "c7604f6c-70b5-45a8-888b-272942ad4a62",
   "metadata": {
    "tags": []
   },
   "outputs": [],
   "source": [
    "sc = pyspark.SparkContext()\n",
    "spark = pyspark.sql.SparkSession(sc)"
   ]
  },
  {
   "cell_type": "markdown",
   "id": "fc69ead1-d77e-4b7d-b292-543e61385761",
   "metadata": {},
   "source": [
    "### Dispense the dataset\n",
    "Code to automatically discover the database name and dataset id"
   ]
  },
  {
   "cell_type": "code",
   "execution_count": 3,
   "id": "e178f177-00e3-4834-8313-d4a9d68e3ef4",
   "metadata": {
    "tags": []
   },
   "outputs": [],
   "source": [
    "dispensed_database_name = dxpy.find_one_data_object(\n",
    "    classname=\"database\", \n",
    "    name=\"app*\", \n",
    "    folder=\"/\", \n",
    "    name_mode=\"glob\", \n",
    "    describe=True)[\"describe\"][\"name\"]\n",
    "\n",
    "dispensed_dataset_id = dxpy.find_one_data_object(\n",
    "    typename=\"Dataset\", \n",
    "    name=\"app*.dataset\", \n",
    "    folder=\"/\", \n",
    "    name_mode=\"glob\")[\"id\"]"
   ]
  },
  {
   "cell_type": "markdown",
   "id": "99ed76d7-2f90-44f2-a3c6-706e90c9ead9",
   "metadata": {},
   "source": [
    "### Load data set"
   ]
  },
  {
   "cell_type": "code",
   "execution_count": 4,
   "id": "06f27e74-f095-439d-a08a-529ba740b07a",
   "metadata": {
    "tags": []
   },
   "outputs": [],
   "source": [
    "dataset = dxdata.load_dataset(id=dispensed_dataset_id)"
   ]
  },
  {
   "cell_type": "markdown",
   "id": "a1cfd403-ba6d-430d-ac6d-dd09f693d80e",
   "metadata": {},
   "source": [
    "Check all the available entities"
   ]
  },
  {
   "cell_type": "code",
   "execution_count": 6,
   "id": "82923ad0-0fd3-4838-915e-bd84a9014969",
   "metadata": {
    "tags": []
   },
   "outputs": [
    {
     "data": {
      "text/plain": [
       "[<Entity \"participant\">,\n",
       " <Entity \"covid19_result_england\">,\n",
       " <Entity \"covid19_result_scotland\">,\n",
       " <Entity \"covid19_result_wales\">,\n",
       " <Entity \"gp_clinical\">,\n",
       " <Entity \"gp_scripts\">,\n",
       " <Entity \"gp_registrations\">,\n",
       " <Entity \"hesin\">,\n",
       " <Entity \"hesin_diag\">,\n",
       " <Entity \"hesin_oper\">,\n",
       " <Entity \"hesin_critical\">,\n",
       " <Entity \"hesin_maternity\">,\n",
       " <Entity \"hesin_delivery\">,\n",
       " <Entity \"hesin_psych\">,\n",
       " <Entity \"death\">,\n",
       " <Entity \"death_cause\">,\n",
       " <Entity \"omop_death\">,\n",
       " <Entity \"omop_device_exposure\">,\n",
       " <Entity \"omop_note\">,\n",
       " <Entity \"omop_observation\">,\n",
       " <Entity \"omop_drug_exposure\">,\n",
       " <Entity \"omop_observation_period\">,\n",
       " <Entity \"omop_person\">,\n",
       " <Entity \"omop_procedure_occurrence\">,\n",
       " <Entity \"omop_specimen\">,\n",
       " <Entity \"omop_visit_detail\">,\n",
       " <Entity \"omop_visit_occurrence\">,\n",
       " <Entity \"omop_dose_era\">,\n",
       " <Entity \"omop_drug_era\">,\n",
       " <Entity \"omop_condition_era\">,\n",
       " <Entity \"omop_condition_occurrence\">,\n",
       " <Entity \"omop_measurement\">,\n",
       " <Entity \"olink_instance_0\">,\n",
       " <Entity \"olink_instance_2\">,\n",
       " <Entity \"olink_instance_3\">]"
      ]
     },
     "execution_count": 6,
     "metadata": {},
     "output_type": "execute_result"
    }
   ],
   "source": [
    "dataset.entities"
   ]
  },
  {
   "cell_type": "markdown",
   "id": "aeaf94b1-8254-47c0-8319-9cc6475f957d",
   "metadata": {},
   "source": [
    "### Choose entities of each record-levels table\n",
    "We need to choose \"hesin\" entity for hospital inpatient data \n",
    "\"hesin_diag\" enity"
   ]
  },
  {
   "cell_type": "code",
   "execution_count": 7,
   "id": "496cb49f-9020-45ed-9a74-6c31e331f80c",
   "metadata": {
    "tags": []
   },
   "outputs": [
    {
     "name": "stderr",
     "output_type": "stream",
     "text": [
      "/opt/conda/lib/python3.11/site-packages/thrift/transport/TSSLSocket.py:53: DeprecationWarning: ssl.PROTOCOL_TLS is deprecated\n",
      "  self._context = ssl.SSLContext(ssl_version)\n"
     ]
    }
   ],
   "source": [
    "gp_clinical = dataset[\"gp_clinical\"]\n",
    "gp_script = dataset[\"gp_scripts\"]\n",
    "hesin = dataset[\"hesin\"]\n",
    "hesin_diag = dataset[\"hesin_diag\"]\n",
    "hesin_oper = dataset[\"hesin_oper\"]\n",
    "death = dataset[\"death\"]\n",
    "death_cause = dataset[\"death_cause\"]\n",
    "\n",
    "\n",
    "gp_clinical_data = gp_clinical.retrieve_fields(engine=dxdata.connect())\n",
    "gp_script_data = gp_script.retrieve_fields(engine=dxdata.connect())\n",
    "hesin_data = hesin.retrieve_fields(engine=dxdata.connect())\n",
    "hesin_diag_data = hesin_diag.retrieve_fields(engine=dxdata.connect())\n",
    "hesin_oper_data = hesin_oper.retrieve_fields(engine=dxdata.connect())\n",
    "death_data = death.retrieve_fields(engine=dxdata.connect())\n",
    "death_cause_data = death_cause.retrieve_fields(engine=dxdata.connect())"
   ]
  },
  {
   "cell_type": "markdown",
   "id": "3c114abd-9b6e-454e-9957-3a3fd31d9400",
   "metadata": {},
   "source": [
    "### Note from other notebook: (we need to check if other record level file need the same cleaning process)\n",
    "A small proportion of episodes are missing an episode start date but have different dates associated with the episode. In an optional additional step, we make a new \"dateepiimp\" column which takes the value of \"epistart\", but when that is missing imputes them with \"disdate\" [NOTE - 2022-10-24, UK Biobank's own protocol when producing derived fields is to impute with admidate, epiend and disdate (see https://biobank.ndph.ox.ac.uk/showcase/ukb/docs/first_occurrences_outcomes.pdf, page 8). This notebook will be updated to match.] :"
   ]
  },
  {
   "cell_type": "code",
   "execution_count": 8,
   "id": "36e75011-9f20-4ad3-a870-4285c257af19",
   "metadata": {
    "tags": []
   },
   "outputs": [],
   "source": [
    "hesin_data = hesin_data.withColumn(\"dateepiimp\",\n",
    "                                   when(hesin_data[\"epistart\"].isNotNull(), hesin_data[\"epistart\"]).otherwise(hesin_data[\"disdate\"]))"
   ]
  },
  {
   "cell_type": "code",
   "execution_count": 11,
   "id": "780696cd-3bee-4b16-b1cd-e189b77e84ff",
   "metadata": {
    "tags": []
   },
   "outputs": [],
   "source": [
    "gp_clinical_data.coalesce(1).write.mode(\"overwrite\").option(\"header\", \"true\").csv(\"gp_clinical_data\")\n",
    "gp_script_data.coalesce(1).write.mode(\"overwrite\").option(\"header\", \"true\").csv(\"gp_script_data\")\n",
    "hesin_data.coalesce(1).write.mode(\"overwrite\").option(\"header\", \"true\").csv(\"hesin_data\")\n",
    "hesin_diag_data.coalesce(1).write.mode(\"overwrite\").option(\"header\", \"true\").csv(\"hesin_diag_data\")\n",
    "hesin_oper_data.coalesce(1).write.mode(\"overwrite\").option(\"header\", \"true\").csv(\"hesin_oper_data\")\n",
    "death_data.coalesce(1).write.mode(\"overwrite\").option(\"header\", \"true\").csv(\"death_data\")\n",
    "death_cause_data.coalesce(1).write.mode(\"overwrite\").option(\"header\", \"true\").csv(\"death_cause_data\")"
   ]
  },
  {
   "cell_type": "markdown",
   "id": "63906d75-bd83-4bda-9568-23e0383e4f04",
   "metadata": {
    "tags": []
   },
   "source": [
    "### Write the file on the project storage"
   ]
  },
  {
   "cell_type": "code",
   "execution_count": 19,
   "id": "2def1ac9-5cc4-43d2-bbf5-f40ec82359da",
   "metadata": {
    "tags": []
   },
   "outputs": [
    {
     "name": "stderr",
     "output_type": "stream",
     "text": [
      "2025-02-05 09:06:51,934 WARN metrics.MetricsReporter: Unable to initialize metrics scraping configurations from hive-site.xml. Message:InputStream cannot be null\n",
      "2025-02-05 09:06:52,032 WARN service.DNAxApiSvc: Using default configurations. Unable to find dnanexus.conf.location=null\n",
      "2025-02-05 09:06:52,032 INFO service.DNAxApiSvc: apiserver connection-pool config. MaxPoolSize=10, MaxPoolPerRoute=10,MaxWaitTimeout=60000\n",
      "2025-02-05 09:06:52,032 INFO service.DNAxApiSvc: initializing http connection manager pools\n",
      "2025-02-05 09:06:52,481 INFO service.DNAxApiSvc: Worker process - IdleConnectionMonitorThread disabled\n",
      "2025-02-05 09:06:52,482 INFO service.DNAxApiSvc: Worker process - IdleConnectionMonitorThread disabled\n",
      "2025-02-05 09:06:52,482 INFO service.DNAxApiSvc: initializing DNAxApiSvc\n",
      "2025-02-05 09:07:10,720 WARN service.DNAxApiSvc: Shutting down Runtime service for Connection Pools\n",
      "2025-02-05 09:07:10,721 INFO service.DNAxApiSvc: shutting down httpClientConnManager\n",
      "2025-02-05 09:07:10,722 INFO service.DNAxApiSvc: shutting down httpsClientConnManager\n",
      "2025-02-05 09:07:12,001 WARN metrics.MetricsReporter: Unable to initialize metrics scraping configurations from hive-site.xml. Message:InputStream cannot be null\n",
      "2025-02-05 09:07:12,105 WARN service.DNAxApiSvc: Using default configurations. Unable to find dnanexus.conf.location=null\n",
      "2025-02-05 09:07:12,105 INFO service.DNAxApiSvc: apiserver connection-pool config. MaxPoolSize=10, MaxPoolPerRoute=10,MaxWaitTimeout=60000\n",
      "2025-02-05 09:07:12,105 INFO service.DNAxApiSvc: initializing http connection manager pools\n",
      "2025-02-05 09:07:12,556 INFO service.DNAxApiSvc: Worker process - IdleConnectionMonitorThread disabled\n",
      "2025-02-05 09:07:12,557 INFO service.DNAxApiSvc: Worker process - IdleConnectionMonitorThread disabled\n",
      "2025-02-05 09:07:12,557 INFO service.DNAxApiSvc: initializing DNAxApiSvc\n",
      "2025-02-05 09:07:34,722 WARN service.DNAxApiSvc: Shutting down Runtime service for Connection Pools\n",
      "2025-02-05 09:07:34,722 INFO service.DNAxApiSvc: shutting down httpClientConnManager\n",
      "2025-02-05 09:07:34,723 INFO service.DNAxApiSvc: shutting down httpsClientConnManager\n",
      "2025-02-05 09:07:36,350 WARN metrics.MetricsReporter: Unable to initialize metrics scraping configurations from hive-site.xml. Message:InputStream cannot be null\n",
      "2025-02-05 09:07:36,458 WARN service.DNAxApiSvc: Using default configurations. Unable to find dnanexus.conf.location=null\n",
      "2025-02-05 09:07:36,458 INFO service.DNAxApiSvc: apiserver connection-pool config. MaxPoolSize=10, MaxPoolPerRoute=10,MaxWaitTimeout=60000\n",
      "2025-02-05 09:07:36,458 INFO service.DNAxApiSvc: initializing http connection manager pools\n",
      "2025-02-05 09:07:36,903 INFO service.DNAxApiSvc: Worker process - IdleConnectionMonitorThread disabled\n",
      "2025-02-05 09:07:36,904 INFO service.DNAxApiSvc: Worker process - IdleConnectionMonitorThread disabled\n",
      "2025-02-05 09:07:36,904 INFO service.DNAxApiSvc: initializing DNAxApiSvc\n",
      "2025-02-05 09:08:00,146 WARN service.DNAxApiSvc: Shutting down Runtime service for Connection Pools\n",
      "2025-02-05 09:08:00,147 INFO service.DNAxApiSvc: shutting down httpClientConnManager\n",
      "2025-02-05 09:08:00,147 INFO service.DNAxApiSvc: shutting down httpsClientConnManager\n",
      "2025-02-05 09:08:01,411 WARN metrics.MetricsReporter: Unable to initialize metrics scraping configurations from hive-site.xml. Message:InputStream cannot be null\n",
      "2025-02-05 09:08:01,513 WARN service.DNAxApiSvc: Using default configurations. Unable to find dnanexus.conf.location=null\n",
      "2025-02-05 09:08:01,513 INFO service.DNAxApiSvc: apiserver connection-pool config. MaxPoolSize=10, MaxPoolPerRoute=10,MaxWaitTimeout=60000\n",
      "2025-02-05 09:08:01,513 INFO service.DNAxApiSvc: initializing http connection manager pools\n",
      "2025-02-05 09:08:01,925 INFO service.DNAxApiSvc: Worker process - IdleConnectionMonitorThread disabled\n",
      "2025-02-05 09:08:01,926 INFO service.DNAxApiSvc: Worker process - IdleConnectionMonitorThread disabled\n",
      "2025-02-05 09:08:01,926 INFO service.DNAxApiSvc: initializing DNAxApiSvc\n",
      "2025-02-05 09:08:05,266 WARN service.DNAxApiSvc: Shutting down Runtime service for Connection Pools\n",
      "2025-02-05 09:08:05,267 INFO service.DNAxApiSvc: shutting down httpClientConnManager\n",
      "2025-02-05 09:08:05,268 INFO service.DNAxApiSvc: shutting down httpsClientConnManager\n",
      "2025-02-05 09:08:06,529 WARN metrics.MetricsReporter: Unable to initialize metrics scraping configurations from hive-site.xml. Message:InputStream cannot be null\n",
      "2025-02-05 09:08:06,632 WARN service.DNAxApiSvc: Using default configurations. Unable to find dnanexus.conf.location=null\n",
      "2025-02-05 09:08:06,632 INFO service.DNAxApiSvc: apiserver connection-pool config. MaxPoolSize=10, MaxPoolPerRoute=10,MaxWaitTimeout=60000\n",
      "2025-02-05 09:08:06,632 INFO service.DNAxApiSvc: initializing http connection manager pools\n",
      "2025-02-05 09:08:07,055 INFO service.DNAxApiSvc: Worker process - IdleConnectionMonitorThread disabled\n",
      "2025-02-05 09:08:07,055 INFO service.DNAxApiSvc: Worker process - IdleConnectionMonitorThread disabled\n",
      "2025-02-05 09:08:07,055 INFO service.DNAxApiSvc: initializing DNAxApiSvc\n",
      "2025-02-05 09:08:09,778 WARN service.DNAxApiSvc: Shutting down Runtime service for Connection Pools\n",
      "2025-02-05 09:08:09,779 INFO service.DNAxApiSvc: shutting down httpClientConnManager\n",
      "2025-02-05 09:08:09,780 INFO service.DNAxApiSvc: shutting down httpsClientConnManager\n",
      "2025-02-05 09:08:11,100 WARN metrics.MetricsReporter: Unable to initialize metrics scraping configurations from hive-site.xml. Message:InputStream cannot be null\n",
      "2025-02-05 09:08:11,202 WARN service.DNAxApiSvc: Using default configurations. Unable to find dnanexus.conf.location=null\n",
      "2025-02-05 09:08:11,202 INFO service.DNAxApiSvc: apiserver connection-pool config. MaxPoolSize=10, MaxPoolPerRoute=10,MaxWaitTimeout=60000\n",
      "2025-02-05 09:08:11,202 INFO service.DNAxApiSvc: initializing http connection manager pools\n",
      "2025-02-05 09:08:11,636 INFO service.DNAxApiSvc: Worker process - IdleConnectionMonitorThread disabled\n",
      "2025-02-05 09:08:11,637 INFO service.DNAxApiSvc: Worker process - IdleConnectionMonitorThread disabled\n",
      "2025-02-05 09:08:11,637 INFO service.DNAxApiSvc: initializing DNAxApiSvc\n",
      "2025-02-05 09:08:12,189 WARN service.DNAxApiSvc: Shutting down Runtime service for Connection Pools\n",
      "2025-02-05 09:08:12,189 INFO service.DNAxApiSvc: shutting down httpClientConnManager\n",
      "2025-02-05 09:08:12,190 INFO service.DNAxApiSvc: shutting down httpsClientConnManager\n",
      "2025-02-05 09:08:13,458 WARN metrics.MetricsReporter: Unable to initialize metrics scraping configurations from hive-site.xml. Message:InputStream cannot be null\n",
      "2025-02-05 09:08:13,555 WARN service.DNAxApiSvc: Using default configurations. Unable to find dnanexus.conf.location=null\n",
      "2025-02-05 09:08:13,555 INFO service.DNAxApiSvc: apiserver connection-pool config. MaxPoolSize=10, MaxPoolPerRoute=10,MaxWaitTimeout=60000\n",
      "2025-02-05 09:08:13,555 INFO service.DNAxApiSvc: initializing http connection manager pools\n",
      "2025-02-05 09:08:13,979 INFO service.DNAxApiSvc: Worker process - IdleConnectionMonitorThread disabled\n",
      "2025-02-05 09:08:13,980 INFO service.DNAxApiSvc: Worker process - IdleConnectionMonitorThread disabled\n",
      "2025-02-05 09:08:13,980 INFO service.DNAxApiSvc: initializing DNAxApiSvc\n",
      "2025-02-05 09:08:14,542 WARN service.DNAxApiSvc: Shutting down Runtime service for Connection Pools\n",
      "2025-02-05 09:08:14,543 INFO service.DNAxApiSvc: shutting down httpClientConnManager\n",
      "2025-02-05 09:08:14,544 INFO service.DNAxApiSvc: shutting down httpsClientConnManager\n"
     ]
    },
    {
     "name": "stdout",
     "output_type": "stream",
     "text": [
      "All files copied successfully!\n"
     ]
    }
   ],
   "source": [
    "%%bash\n",
    "# Define an array of dataset names\n",
    "datasets=(\"gp_clinical_data\" \"gp_script_data\" \"hesin_data\" \"hesin_diag_data\" \"hesin_oper_data\" \"death_data\" \"death_cause_data\")\n",
    "\n",
    "# Loop through each dataset and copy it from HDFS\n",
    "for dataset in \"${datasets[@]}\"; do\n",
    "    hdfs dfs -copyToLocal \"/user/root/$dataset\" \"$dataset\" || { echo \"Failed to copy $dataset\"; exit 1; }\n",
    "done\n",
    "\n",
    "echo \"All files copied successfully!\""
   ]
  },
  {
   "cell_type": "code",
   "execution_count": 23,
   "id": "78d18e38-ec95-4aaf-b52a-0b3a4b65e057",
   "metadata": {
    "tags": []
   },
   "outputs": [
    {
     "name": "stdout",
     "output_type": "stream",
     "text": [
      "ID                                file-GyVXgVjJYZjQxFG8g8Y8YZgG\n",
      "Class                             file\n",
      "Project                           project-GyQGxq8JYZjQPJQK6fv05B4B\n",
      "Folder                            /raw_data/record_level\n",
      "Name                              gp_clinical_data.csv\n",
      "State                             closing\n",
      "Visibility                        visible\n",
      "Types                             -\n",
      "Properties                        -\n",
      "Tags                              -\n",
      "Outgoing links                    -\n",
      "Created                           Wed Feb  5 09:13:43 2025\n",
      "Created by                        thiendattran\n",
      " via the job                      job-GyVVqz0JYZjZYPyQ4V8VkGV0\n",
      "Last modified                     Wed Feb  5 09:13:50 2025\n",
      "Media type                        \n",
      "archivalState                     \"live\"\n",
      "cloudAccount                      \"cloudaccount-dnanexus\"\n",
      "ID                                file-GyVXgYjJYZjX370JyvJfbQ9v\n",
      "Class                             file\n",
      "Project                           project-GyQGxq8JYZjQPJQK6fv05B4B\n",
      "Folder                            /raw_data/record_level\n",
      "Name                              gp_script_data.csv\n",
      "State                             closing\n",
      "Visibility                        visible\n",
      "Types                             -\n",
      "Properties                        -\n",
      "Tags                              -\n",
      "Outgoing links                    -\n",
      "Created                           Wed Feb  5 09:13:51 2025\n",
      "Created by                        thiendattran\n",
      " via the job                      job-GyVVqz0JYZjZYPyQ4V8VkGV0\n",
      "Last modified                     Wed Feb  5 09:13:59 2025\n",
      "Media type                        \n",
      "archivalState                     \"live\"\n",
      "cloudAccount                      \"cloudaccount-dnanexus\"\n",
      "ID                                file-GyVXgbjJYZjZ07VvB58K0KFQ\n",
      "Class                             file\n",
      "Project                           project-GyQGxq8JYZjQPJQK6fv05B4B\n",
      "Folder                            /raw_data/record_level\n",
      "Name                              hesin_data.csv\n",
      "State                             closing\n",
      "Visibility                        visible\n",
      "Types                             -\n",
      "Properties                        -\n",
      "Tags                              -\n",
      "Outgoing links                    -\n",
      "Created                           Wed Feb  5 09:13:59 2025\n",
      "Created by                        thiendattran\n",
      " via the job                      job-GyVVqz0JYZjZYPyQ4V8VkGV0\n",
      "Last modified                     Wed Feb  5 09:14:02 2025\n",
      "Media type                        \n",
      "archivalState                     \"live\"\n",
      "cloudAccount                      \"cloudaccount-dnanexus\"\n",
      "ID                                file-GyVXgfjJYZjbfg35Zv6FYX6Z\n",
      "Class                             file\n",
      "Project                           project-GyQGxq8JYZjQPJQK6fv05B4B\n",
      "Folder                            /raw_data/record_level\n",
      "Name                              hesin_diag_data.csv\n",
      "State                             closing\n",
      "Visibility                        visible\n",
      "Types                             -\n",
      "Properties                        -\n",
      "Tags                              -\n",
      "Outgoing links                    -\n",
      "Created                           Wed Feb  5 09:14:03 2025\n",
      "Created by                        thiendattran\n",
      " via the job                      job-GyVVqz0JYZjZYPyQ4V8VkGV0\n",
      "Last modified                     Wed Feb  5 09:14:05 2025\n",
      "Media type                        \n",
      "archivalState                     \"live\"\n",
      "cloudAccount                      \"cloudaccount-dnanexus\"\n",
      "ID                                file-GyVXggQJYZjvBgZbX9PZyFB3\n",
      "Class                             file\n",
      "Project                           project-GyQGxq8JYZjQPJQK6fv05B4B\n",
      "Folder                            /raw_data/record_level\n",
      "Name                              hesin_oper_data.csv\n",
      "State                             closing\n",
      "Visibility                        visible\n",
      "Types                             -\n",
      "Properties                        -\n",
      "Tags                              -\n",
      "Outgoing links                    -\n",
      "Created                           Wed Feb  5 09:14:06 2025\n",
      "Created by                        thiendattran\n",
      " via the job                      job-GyVVqz0JYZjZYPyQ4V8VkGV0\n",
      "Last modified                     Wed Feb  5 09:14:08 2025\n",
      "Media type                        \n",
      "archivalState                     \"live\"\n",
      "cloudAccount                      \"cloudaccount-dnanexus\"\n",
      "ID                                file-GyVXgj8JYZjQ1Y1X59F0qJ4F\n",
      "Class                             file\n",
      "Project                           project-GyQGxq8JYZjQPJQK6fv05B4B\n",
      "Folder                            /raw_data/record_level\n",
      "Name                              death_data.csv\n",
      "State                             closing\n",
      "Visibility                        visible\n",
      "Types                             -\n",
      "Properties                        -\n",
      "Tags                              -\n",
      "Outgoing links                    -\n",
      "Created                           Wed Feb  5 09:14:09 2025\n",
      "Created by                        thiendattran\n",
      " via the job                      job-GyVVqz0JYZjZYPyQ4V8VkGV0\n",
      "Last modified                     Wed Feb  5 09:14:10 2025\n",
      "Media type                        \n",
      "archivalState                     \"live\"\n",
      "cloudAccount                      \"cloudaccount-dnanexus\"\n",
      "ID                                file-GyVXgjQJYZjXxG6bVfb3F799\n",
      "Class                             file\n",
      "Project                           project-GyQGxq8JYZjQPJQK6fv05B4B\n",
      "Folder                            /raw_data/record_level\n",
      "Name                              death_cause_data.csv\n",
      "State                             closing\n",
      "Visibility                        visible\n",
      "Types                             -\n",
      "Properties                        -\n",
      "Tags                              -\n",
      "Outgoing links                    -\n",
      "Created                           Wed Feb  5 09:14:10 2025\n",
      "Created by                        thiendattran\n",
      " via the job                      job-GyVVqz0JYZjZYPyQ4V8VkGV0\n",
      "Last modified                     Wed Feb  5 09:14:11 2025\n",
      "Media type                        \n",
      "archivalState                     \"live\"\n",
      "cloudAccount                      \"cloudaccount-dnanexus\"\n"
     ]
    }
   ],
   "source": [
    "%%bash\n",
    "dx upload gp_clinical_data/*.csv --dest raw_data/record_level/gp_clinical_data.csv\n",
    "dx upload gp_script_data/*.csv --dest raw_data/record_level/gp_script_data.csv\n",
    "dx upload hesin_data/*.csv --dest raw_data/record_level/hesin_data.csv\n",
    "dx upload hesin_diag_data/*.csv --dest raw_data/record_level/hesin_diag_data.csv\n",
    "dx upload hesin_oper_data/*.csv --dest raw_data/record_level/hesin_oper_data.csv\n",
    "dx upload death_data/*.csv --dest raw_data/record_level/death_data.csv\n",
    "dx upload death_cause_data/*.csv --dest raw_data/record_level/death_cause_data.csv"
   ]
  },
  {
   "cell_type": "code",
   "execution_count": null,
   "id": "6ea34fa0-fda5-4b0d-8704-35e52535f973",
   "metadata": {},
   "outputs": [],
   "source": []
  }
 ],
 "metadata": {
  "kernelspec": {
   "display_name": "Python 3 (ipykernel)",
   "language": "python",
   "name": "python3"
  },
  "language_info": {
   "codemirror_mode": {
    "name": "ipython",
    "version": 3
   },
   "file_extension": ".py",
   "mimetype": "text/x-python",
   "name": "python",
   "nbconvert_exporter": "python",
   "pygments_lexer": "ipython3",
   "version": "3.11.5"
  }
 },
 "nbformat": 4,
 "nbformat_minor": 5
}
