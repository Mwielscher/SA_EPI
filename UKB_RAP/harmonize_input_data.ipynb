{
 "cells": [
  {
   "cell_type": "markdown",
   "id": "d6aa249f-1efe-4de5-9def-07554bb0082c",
   "metadata": {},
   "source": [
    "## [DeepPheWAS](https://richard-packer.github.io/DeepPheWAS_site/) is not producing anything - which might be due to incorrect input data format"
   ]
  },
  {
   "cell_type": "markdown",
   "id": "90d3da04-45d6-4007-ac46-6497628b281b",
   "metadata": {},
   "source": [
    "### Environment to run was set up like this:\n",
    "\n",
    "conda create -n DeepPheWAS r-base r-essentials -y  \n",
    "source ~/anaconda3/etc/profile.d/conda.sh  \n",
    "conda activate DeepPheWAS  \n",
    "\n",
    "install.packages(\"devtools\")  \n",
    "install.packages(\"docopt\")  \n",
    "devtools::install_github(\"Richard-Packer/DeepPheWAS\") \n"
   ]
  },
  {
   "cell_type": "markdown",
   "id": "c8f1a57a-eb33-4efc-8320-5ccfdecb2415",
   "metadata": {},
   "source": [
    "### this is where all the test data and stuff is:  \n",
    "/home/fs71407/epiwielsch/anaconda3/envs/DeepPheWAS/lib/R/library/DeepPheWAS/extdata/  \n",
    "including a \"worked_example\" which we will use as template to adjust the input data gathered from UKB-RAP  \n"
   ]
  },
  {
   "cell_type": "markdown",
   "id": "126e3570-5344-45f0-b33d-4514e0311c28",
   "metadata": {},
   "source": [
    "* __KING_coef.csv:__ looks the same\n",
    "* __participant data:__ pre-processing (DeepPheWAS script 1) did not produce any errors so we assume that is alright. \n",
    "* everyting else shows small differences "
   ]
  },
  {
   "cell_type": "markdown",
   "id": "bf85256a-6d7a-4f48-b249-85f94939d7c3",
   "metadata": {},
   "source": [
    "### GP clinical data:  "
   ]
  },
  {
   "cell_type": "markdown",
   "id": "ecc08229-ab79-4c35-b65f-87793657fa1e",
   "metadata": {},
   "source": [
    "### this is how the test data look like:\n",
    "eid,provider,event_dt,read_2,read_3,value1,value2,value3  \n",
    "1015169,3,06/03/2009,,X00DW,,,  \n",
    "1082913,3,31/01/2008,,XaRCF,,,  \n",
    "1073450,3,02/10/2012,,XaRCF,,,  \n",
    "1037203,3,27/08/2014,,XE0VK,,,  \n",
    "1086257,3,25/02/2000,,XaRCF,,,  \n",
    "1087798,3,22/03/2008,,F4236,,,  \n",
    "1021413,3,06/10/2013,,X00DW,,,  \n",
    "1018711,3,05/10/2010,,XaRCF,,,  \n",
    "1040624,3,15/03/1997,,X00DW,,, \n",
    "### this is how the actual data look like:  \n",
    "eid,data_provider,event_dt,read_2,read_3,value1,value2,value3  \n",
    "3494780,3,2001-07-11,,XE2JU,,,  \n",
    "2954119,3,2005-02-08,,XaF6J,,,  \n",
    "5510024,3,2015-05-12,,42N..,0.400,,  \n",
    "2136270,3,2014-03-26,,XaFsp,,,  \n",
    "3060439,3,2008-04-16,,2469.,174.000,,  \n",
    "2364530,3,2001-07-11,,6799.,,,  \n",
    "5245103,3,2009-09-08,,XE2px,353.000,,  \n",
    "4527735,3,2013-10-17,,XE2pb,31.200,,  \n",
    "4093888,3,2014-01-15,,X77Wg,0.000,,  "
   ]
  },
  {
   "cell_type": "code",
   "execution_count": 18,
   "id": "bb0e4e13-d936-4844-a454-f994aaba3fd9",
   "metadata": {},
   "outputs": [],
   "source": [
    "library(lubridate)\n",
    "library(data.table)\n",
    "\n",
    "real.dat=c(\"/gpfs/data/fs71407/magdazeb/application/ukb-structure/application/exploratory_analysis/PheWAS/data/unzipped/\")\n",
    "test.dat=c(\"/gpfs/data/fs71407/magdazeb/application/ukb-structure/application/exploratory_analysis/PheWAS/DeepPheWAS/worked_example/unzipped/\")\n",
    "#gp.test=as.data.table(fread(paste0(test.dat,\"GPC.csv\")))\n",
    "#gp.dat=as.data.table(fread(paste0(real.dat,\"gp_clinical_data.csv\")))"
   ]
  },
  {
   "cell_type": "code",
   "execution_count": 11,
   "id": "1ecdff61-5efc-4f0a-9e4a-feb9963d0381",
   "metadata": {},
   "outputs": [
    {
     "name": "stderr",
     "output_type": "stream",
     "text": [
      "Warning message in eval(expr, envir, enclos):\n",
      "“NAs introduced by coercion”\n"
     ]
    }
   ],
   "source": [
    "##-- looks like value 1 should be numeric\n",
    "gp.dat$value1=as.numeric(as.character(gp.dat$value1))\n",
    "## all other columns only hold NA ---------- so I will set them to NA for the PHEWAS as well "
   ]
  },
  {
   "cell_type": "code",
   "execution_count": 21,
   "id": "843ea5da-7229-4515-b4e9-1bd7037562d9",
   "metadata": {},
   "outputs": [],
   "source": [
    "gp.dat=gp.dat[,c(1:8)]"
   ]
  },
  {
   "cell_type": "code",
   "execution_count": 25,
   "id": "8ef732ec-6cbe-438e-bb08-1fcaf6706a9a",
   "metadata": {},
   "outputs": [],
   "source": [
    "#gp.dat$read_2=NA\n",
    "#gp.dat$read_2=as.logical(gp.dat$read_2)\n",
    "gp.dat$value2=NA\n",
    "gp.dat$value2=as.logical(gp.dat$value2)\n",
    "gp.dat$value3=NA\n",
    "gp.dat$value3=as.logical(gp.dat$value3)"
   ]
  },
  {
   "cell_type": "code",
   "execution_count": 26,
   "id": "a22eb3dc-89e9-4d06-8484-32cb05b6319f",
   "metadata": {},
   "outputs": [
    {
     "data": {
      "text/html": [
       "<table class=\"dataframe\">\n",
       "<caption>A data.table: 6 × 8</caption>\n",
       "<thead>\n",
       "\t<tr><th scope=col>eid</th><th scope=col>provider</th><th scope=col>event_dt</th><th scope=col>read_2</th><th scope=col>read_3</th><th scope=col>value1</th><th scope=col>value2</th><th scope=col>value3</th></tr>\n",
       "\t<tr><th scope=col>&lt;int&gt;</th><th scope=col>&lt;int&gt;</th><th scope=col>&lt;chr&gt;</th><th scope=col>&lt;lgl&gt;</th><th scope=col>&lt;chr&gt;</th><th scope=col>&lt;dbl&gt;</th><th scope=col>&lt;lgl&gt;</th><th scope=col>&lt;lgl&gt;</th></tr>\n",
       "</thead>\n",
       "<tbody>\n",
       "\t<tr><td>1015169</td><td>3</td><td>06/03/2009</td><td>NA</td><td>X00DW</td><td>NA</td><td>NA</td><td>NA</td></tr>\n",
       "\t<tr><td>1082913</td><td>3</td><td>31/01/2008</td><td>NA</td><td>XaRCF</td><td>NA</td><td>NA</td><td>NA</td></tr>\n",
       "\t<tr><td>1073450</td><td>3</td><td>02/10/2012</td><td>NA</td><td>XaRCF</td><td>NA</td><td>NA</td><td>NA</td></tr>\n",
       "\t<tr><td>1037203</td><td>3</td><td>27/08/2014</td><td>NA</td><td>XE0VK</td><td>NA</td><td>NA</td><td>NA</td></tr>\n",
       "\t<tr><td>1086257</td><td>3</td><td>25/02/2000</td><td>NA</td><td>XaRCF</td><td>NA</td><td>NA</td><td>NA</td></tr>\n",
       "\t<tr><td>1087798</td><td>3</td><td>22/03/2008</td><td>NA</td><td>F4236</td><td>NA</td><td>NA</td><td>NA</td></tr>\n",
       "</tbody>\n",
       "</table>\n"
      ],
      "text/latex": [
       "A data.table: 6 × 8\n",
       "\\begin{tabular}{llllllll}\n",
       " eid & provider & event\\_dt & read\\_2 & read\\_3 & value1 & value2 & value3\\\\\n",
       " <int> & <int> & <chr> & <lgl> & <chr> & <dbl> & <lgl> & <lgl>\\\\\n",
       "\\hline\n",
       "\t 1015169 & 3 & 06/03/2009 & NA & X00DW & NA & NA & NA\\\\\n",
       "\t 1082913 & 3 & 31/01/2008 & NA & XaRCF & NA & NA & NA\\\\\n",
       "\t 1073450 & 3 & 02/10/2012 & NA & XaRCF & NA & NA & NA\\\\\n",
       "\t 1037203 & 3 & 27/08/2014 & NA & XE0VK & NA & NA & NA\\\\\n",
       "\t 1086257 & 3 & 25/02/2000 & NA & XaRCF & NA & NA & NA\\\\\n",
       "\t 1087798 & 3 & 22/03/2008 & NA & F4236 & NA & NA & NA\\\\\n",
       "\\end{tabular}\n"
      ],
      "text/markdown": [
       "\n",
       "A data.table: 6 × 8\n",
       "\n",
       "| eid &lt;int&gt; | provider &lt;int&gt; | event_dt &lt;chr&gt; | read_2 &lt;lgl&gt; | read_3 &lt;chr&gt; | value1 &lt;dbl&gt; | value2 &lt;lgl&gt; | value3 &lt;lgl&gt; |\n",
       "|---|---|---|---|---|---|---|---|\n",
       "| 1015169 | 3 | 06/03/2009 | NA | X00DW | NA | NA | NA |\n",
       "| 1082913 | 3 | 31/01/2008 | NA | XaRCF | NA | NA | NA |\n",
       "| 1073450 | 3 | 02/10/2012 | NA | XaRCF | NA | NA | NA |\n",
       "| 1037203 | 3 | 27/08/2014 | NA | XE0VK | NA | NA | NA |\n",
       "| 1086257 | 3 | 25/02/2000 | NA | XaRCF | NA | NA | NA |\n",
       "| 1087798 | 3 | 22/03/2008 | NA | F4236 | NA | NA | NA |\n",
       "\n"
      ],
      "text/plain": [
       "  eid     provider event_dt   read_2 read_3 value1 value2 value3\n",
       "1 1015169 3        06/03/2009 NA     X00DW  NA     NA     NA    \n",
       "2 1082913 3        31/01/2008 NA     XaRCF  NA     NA     NA    \n",
       "3 1073450 3        02/10/2012 NA     XaRCF  NA     NA     NA    \n",
       "4 1037203 3        27/08/2014 NA     XE0VK  NA     NA     NA    \n",
       "5 1086257 3        25/02/2000 NA     XaRCF  NA     NA     NA    \n",
       "6 1087798 3        22/03/2008 NA     F4236  NA     NA     NA    "
      ]
     },
     "metadata": {},
     "output_type": "display_data"
    },
    {
     "data": {
      "text/html": [
       "<table class=\"dataframe\">\n",
       "<caption>A data.table: 6 × 8</caption>\n",
       "<thead>\n",
       "\t<tr><th scope=col>eid</th><th scope=col>data_provider</th><th scope=col>event_dt</th><th scope=col>read_2</th><th scope=col>read_3</th><th scope=col>value1</th><th scope=col>value2</th><th scope=col>value3</th></tr>\n",
       "\t<tr><th scope=col>&lt;int&gt;</th><th scope=col>&lt;int&gt;</th><th scope=col>&lt;IDate&gt;</th><th scope=col>&lt;lgl&gt;</th><th scope=col>&lt;chr&gt;</th><th scope=col>&lt;dbl&gt;</th><th scope=col>&lt;lgl&gt;</th><th scope=col>&lt;lgl&gt;</th></tr>\n",
       "</thead>\n",
       "<tbody>\n",
       "\t<tr><td>3494780</td><td>3</td><td>2001-07-11</td><td>NA</td><td>XE2JU</td><td>   NA</td><td>NA</td><td>NA</td></tr>\n",
       "\t<tr><td>2954119</td><td>3</td><td>2005-02-08</td><td>NA</td><td>XaF6J</td><td>   NA</td><td>NA</td><td>NA</td></tr>\n",
       "\t<tr><td>5510024</td><td>3</td><td>2015-05-12</td><td>NA</td><td>42N..</td><td>  0.4</td><td>NA</td><td>NA</td></tr>\n",
       "\t<tr><td>2136270</td><td>3</td><td>2014-03-26</td><td>NA</td><td>XaFsp</td><td>   NA</td><td>NA</td><td>NA</td></tr>\n",
       "\t<tr><td>3060439</td><td>3</td><td>2008-04-16</td><td>NA</td><td>2469.</td><td>174.0</td><td>NA</td><td>NA</td></tr>\n",
       "\t<tr><td>2364530</td><td>3</td><td>2001-07-11</td><td>NA</td><td>6799.</td><td>   NA</td><td>NA</td><td>NA</td></tr>\n",
       "</tbody>\n",
       "</table>\n"
      ],
      "text/latex": [
       "A data.table: 6 × 8\n",
       "\\begin{tabular}{llllllll}\n",
       " eid & data\\_provider & event\\_dt & read\\_2 & read\\_3 & value1 & value2 & value3\\\\\n",
       " <int> & <int> & <IDate> & <lgl> & <chr> & <dbl> & <lgl> & <lgl>\\\\\n",
       "\\hline\n",
       "\t 3494780 & 3 & 2001-07-11 & NA & XE2JU &    NA & NA & NA\\\\\n",
       "\t 2954119 & 3 & 2005-02-08 & NA & XaF6J &    NA & NA & NA\\\\\n",
       "\t 5510024 & 3 & 2015-05-12 & NA & 42N.. &   0.4 & NA & NA\\\\\n",
       "\t 2136270 & 3 & 2014-03-26 & NA & XaFsp &    NA & NA & NA\\\\\n",
       "\t 3060439 & 3 & 2008-04-16 & NA & 2469. & 174.0 & NA & NA\\\\\n",
       "\t 2364530 & 3 & 2001-07-11 & NA & 6799. &    NA & NA & NA\\\\\n",
       "\\end{tabular}\n"
      ],
      "text/markdown": [
       "\n",
       "A data.table: 6 × 8\n",
       "\n",
       "| eid &lt;int&gt; | data_provider &lt;int&gt; | event_dt &lt;IDate&gt; | read_2 &lt;lgl&gt; | read_3 &lt;chr&gt; | value1 &lt;dbl&gt; | value2 &lt;lgl&gt; | value3 &lt;lgl&gt; |\n",
       "|---|---|---|---|---|---|---|---|\n",
       "| 3494780 | 3 | 2001-07-11 | NA | XE2JU |    NA | NA | NA |\n",
       "| 2954119 | 3 | 2005-02-08 | NA | XaF6J |    NA | NA | NA |\n",
       "| 5510024 | 3 | 2015-05-12 | NA | 42N.. |   0.4 | NA | NA |\n",
       "| 2136270 | 3 | 2014-03-26 | NA | XaFsp |    NA | NA | NA |\n",
       "| 3060439 | 3 | 2008-04-16 | NA | 2469. | 174.0 | NA | NA |\n",
       "| 2364530 | 3 | 2001-07-11 | NA | 6799. |    NA | NA | NA |\n",
       "\n"
      ],
      "text/plain": [
       "  eid     data_provider event_dt   read_2 read_3 value1 value2 value3\n",
       "1 3494780 3             2001-07-11 NA     XE2JU     NA  NA     NA    \n",
       "2 2954119 3             2005-02-08 NA     XaF6J     NA  NA     NA    \n",
       "3 5510024 3             2015-05-12 NA     42N..    0.4  NA     NA    \n",
       "4 2136270 3             2014-03-26 NA     XaFsp     NA  NA     NA    \n",
       "5 3060439 3             2008-04-16 NA     2469.  174.0  NA     NA    \n",
       "6 2364530 3             2001-07-11 NA     6799.     NA  NA     NA    "
      ]
     },
     "metadata": {},
     "output_type": "display_data"
    }
   ],
   "source": [
    "head(gp.test)\n",
    "head(gp.dat)"
   ]
  },
  {
   "cell_type": "code",
   "execution_count": 27,
   "id": "db7259f8-a4b0-4372-b61b-d8f7ee6fa48c",
   "metadata": {},
   "outputs": [],
   "source": [
    "## fix date\n",
    "gp.dat$event_dt=as.character(format(as.Date(gp.dat$event_dt, format=\"%Y-%m-%d\"), \"%d/%m/%Y\"))\n",
    "colnames(gp.dat)[2]=c(\"provider\")"
   ]
  },
  {
   "cell_type": "code",
   "execution_count": 29,
   "id": "892327c8-9802-4013-8826-cd0afa960e35",
   "metadata": {},
   "outputs": [
    {
     "data": {
      "text/html": [
       "<table class=\"dataframe\">\n",
       "<caption>A data.table: 6 × 8</caption>\n",
       "<thead>\n",
       "\t<tr><th scope=col>eid</th><th scope=col>provider</th><th scope=col>event_dt</th><th scope=col>read_2</th><th scope=col>read_3</th><th scope=col>value1</th><th scope=col>value2</th><th scope=col>value3</th></tr>\n",
       "\t<tr><th scope=col>&lt;int&gt;</th><th scope=col>&lt;int&gt;</th><th scope=col>&lt;chr&gt;</th><th scope=col>&lt;lgl&gt;</th><th scope=col>&lt;chr&gt;</th><th scope=col>&lt;dbl&gt;</th><th scope=col>&lt;lgl&gt;</th><th scope=col>&lt;lgl&gt;</th></tr>\n",
       "</thead>\n",
       "<tbody>\n",
       "\t<tr><td>1015169</td><td>3</td><td>06/03/2009</td><td>NA</td><td>X00DW</td><td>NA</td><td>NA</td><td>NA</td></tr>\n",
       "\t<tr><td>1082913</td><td>3</td><td>31/01/2008</td><td>NA</td><td>XaRCF</td><td>NA</td><td>NA</td><td>NA</td></tr>\n",
       "\t<tr><td>1073450</td><td>3</td><td>02/10/2012</td><td>NA</td><td>XaRCF</td><td>NA</td><td>NA</td><td>NA</td></tr>\n",
       "\t<tr><td>1037203</td><td>3</td><td>27/08/2014</td><td>NA</td><td>XE0VK</td><td>NA</td><td>NA</td><td>NA</td></tr>\n",
       "\t<tr><td>1086257</td><td>3</td><td>25/02/2000</td><td>NA</td><td>XaRCF</td><td>NA</td><td>NA</td><td>NA</td></tr>\n",
       "\t<tr><td>1087798</td><td>3</td><td>22/03/2008</td><td>NA</td><td>F4236</td><td>NA</td><td>NA</td><td>NA</td></tr>\n",
       "</tbody>\n",
       "</table>\n"
      ],
      "text/latex": [
       "A data.table: 6 × 8\n",
       "\\begin{tabular}{llllllll}\n",
       " eid & provider & event\\_dt & read\\_2 & read\\_3 & value1 & value2 & value3\\\\\n",
       " <int> & <int> & <chr> & <lgl> & <chr> & <dbl> & <lgl> & <lgl>\\\\\n",
       "\\hline\n",
       "\t 1015169 & 3 & 06/03/2009 & NA & X00DW & NA & NA & NA\\\\\n",
       "\t 1082913 & 3 & 31/01/2008 & NA & XaRCF & NA & NA & NA\\\\\n",
       "\t 1073450 & 3 & 02/10/2012 & NA & XaRCF & NA & NA & NA\\\\\n",
       "\t 1037203 & 3 & 27/08/2014 & NA & XE0VK & NA & NA & NA\\\\\n",
       "\t 1086257 & 3 & 25/02/2000 & NA & XaRCF & NA & NA & NA\\\\\n",
       "\t 1087798 & 3 & 22/03/2008 & NA & F4236 & NA & NA & NA\\\\\n",
       "\\end{tabular}\n"
      ],
      "text/markdown": [
       "\n",
       "A data.table: 6 × 8\n",
       "\n",
       "| eid &lt;int&gt; | provider &lt;int&gt; | event_dt &lt;chr&gt; | read_2 &lt;lgl&gt; | read_3 &lt;chr&gt; | value1 &lt;dbl&gt; | value2 &lt;lgl&gt; | value3 &lt;lgl&gt; |\n",
       "|---|---|---|---|---|---|---|---|\n",
       "| 1015169 | 3 | 06/03/2009 | NA | X00DW | NA | NA | NA |\n",
       "| 1082913 | 3 | 31/01/2008 | NA | XaRCF | NA | NA | NA |\n",
       "| 1073450 | 3 | 02/10/2012 | NA | XaRCF | NA | NA | NA |\n",
       "| 1037203 | 3 | 27/08/2014 | NA | XE0VK | NA | NA | NA |\n",
       "| 1086257 | 3 | 25/02/2000 | NA | XaRCF | NA | NA | NA |\n",
       "| 1087798 | 3 | 22/03/2008 | NA | F4236 | NA | NA | NA |\n",
       "\n"
      ],
      "text/plain": [
       "  eid     provider event_dt   read_2 read_3 value1 value2 value3\n",
       "1 1015169 3        06/03/2009 NA     X00DW  NA     NA     NA    \n",
       "2 1082913 3        31/01/2008 NA     XaRCF  NA     NA     NA    \n",
       "3 1073450 3        02/10/2012 NA     XaRCF  NA     NA     NA    \n",
       "4 1037203 3        27/08/2014 NA     XE0VK  NA     NA     NA    \n",
       "5 1086257 3        25/02/2000 NA     XaRCF  NA     NA     NA    \n",
       "6 1087798 3        22/03/2008 NA     F4236  NA     NA     NA    "
      ]
     },
     "metadata": {},
     "output_type": "display_data"
    },
    {
     "data": {
      "text/html": [
       "<table class=\"dataframe\">\n",
       "<caption>A data.table: 6 × 8</caption>\n",
       "<thead>\n",
       "\t<tr><th scope=col>eid</th><th scope=col>provider</th><th scope=col>event_dt</th><th scope=col>read_2</th><th scope=col>read_3</th><th scope=col>value1</th><th scope=col>value2</th><th scope=col>value3</th></tr>\n",
       "\t<tr><th scope=col>&lt;int&gt;</th><th scope=col>&lt;int&gt;</th><th scope=col>&lt;chr&gt;</th><th scope=col>&lt;lgl&gt;</th><th scope=col>&lt;chr&gt;</th><th scope=col>&lt;dbl&gt;</th><th scope=col>&lt;lgl&gt;</th><th scope=col>&lt;lgl&gt;</th></tr>\n",
       "</thead>\n",
       "<tbody>\n",
       "\t<tr><td>3494780</td><td>3</td><td>11/07/2001</td><td>NA</td><td>XE2JU</td><td>   NA</td><td>NA</td><td>NA</td></tr>\n",
       "\t<tr><td>2954119</td><td>3</td><td>08/02/2005</td><td>NA</td><td>XaF6J</td><td>   NA</td><td>NA</td><td>NA</td></tr>\n",
       "\t<tr><td>5510024</td><td>3</td><td>12/05/2015</td><td>NA</td><td>42N..</td><td>  0.4</td><td>NA</td><td>NA</td></tr>\n",
       "\t<tr><td>2136270</td><td>3</td><td>26/03/2014</td><td>NA</td><td>XaFsp</td><td>   NA</td><td>NA</td><td>NA</td></tr>\n",
       "\t<tr><td>3060439</td><td>3</td><td>16/04/2008</td><td>NA</td><td>2469.</td><td>174.0</td><td>NA</td><td>NA</td></tr>\n",
       "\t<tr><td>2364530</td><td>3</td><td>11/07/2001</td><td>NA</td><td>6799.</td><td>   NA</td><td>NA</td><td>NA</td></tr>\n",
       "</tbody>\n",
       "</table>\n"
      ],
      "text/latex": [
       "A data.table: 6 × 8\n",
       "\\begin{tabular}{llllllll}\n",
       " eid & provider & event\\_dt & read\\_2 & read\\_3 & value1 & value2 & value3\\\\\n",
       " <int> & <int> & <chr> & <lgl> & <chr> & <dbl> & <lgl> & <lgl>\\\\\n",
       "\\hline\n",
       "\t 3494780 & 3 & 11/07/2001 & NA & XE2JU &    NA & NA & NA\\\\\n",
       "\t 2954119 & 3 & 08/02/2005 & NA & XaF6J &    NA & NA & NA\\\\\n",
       "\t 5510024 & 3 & 12/05/2015 & NA & 42N.. &   0.4 & NA & NA\\\\\n",
       "\t 2136270 & 3 & 26/03/2014 & NA & XaFsp &    NA & NA & NA\\\\\n",
       "\t 3060439 & 3 & 16/04/2008 & NA & 2469. & 174.0 & NA & NA\\\\\n",
       "\t 2364530 & 3 & 11/07/2001 & NA & 6799. &    NA & NA & NA\\\\\n",
       "\\end{tabular}\n"
      ],
      "text/markdown": [
       "\n",
       "A data.table: 6 × 8\n",
       "\n",
       "| eid &lt;int&gt; | provider &lt;int&gt; | event_dt &lt;chr&gt; | read_2 &lt;lgl&gt; | read_3 &lt;chr&gt; | value1 &lt;dbl&gt; | value2 &lt;lgl&gt; | value3 &lt;lgl&gt; |\n",
       "|---|---|---|---|---|---|---|---|\n",
       "| 3494780 | 3 | 11/07/2001 | NA | XE2JU |    NA | NA | NA |\n",
       "| 2954119 | 3 | 08/02/2005 | NA | XaF6J |    NA | NA | NA |\n",
       "| 5510024 | 3 | 12/05/2015 | NA | 42N.. |   0.4 | NA | NA |\n",
       "| 2136270 | 3 | 26/03/2014 | NA | XaFsp |    NA | NA | NA |\n",
       "| 3060439 | 3 | 16/04/2008 | NA | 2469. | 174.0 | NA | NA |\n",
       "| 2364530 | 3 | 11/07/2001 | NA | 6799. |    NA | NA | NA |\n",
       "\n"
      ],
      "text/plain": [
       "  eid     provider event_dt   read_2 read_3 value1 value2 value3\n",
       "1 3494780 3        11/07/2001 NA     XE2JU     NA  NA     NA    \n",
       "2 2954119 3        08/02/2005 NA     XaF6J     NA  NA     NA    \n",
       "3 5510024 3        12/05/2015 NA     42N..    0.4  NA     NA    \n",
       "4 2136270 3        26/03/2014 NA     XaFsp     NA  NA     NA    \n",
       "5 3060439 3        16/04/2008 NA     2469.  174.0  NA     NA    \n",
       "6 2364530 3        11/07/2001 NA     6799.     NA  NA     NA    "
      ]
     },
     "metadata": {},
     "output_type": "display_data"
    }
   ],
   "source": [
    "## identcal at last \n",
    "head(gp.test)\n",
    "head(gp.dat)"
   ]
  },
  {
   "cell_type": "markdown",
   "id": "cd54ad64-f069-4fa4-86d7-88e24d1188e8",
   "metadata": {},
   "source": [
    "### GP (primary care) prescription data:  "
   ]
  },
  {
   "cell_type": "markdown",
   "id": "d43bb0c9-7379-4272-b3ab-215dd02d64dd",
   "metadata": {},
   "source": [
    "### there is no example in the toy data of DeepPheWAS. \n",
    "\n",
    "### this is how the actual data look like:  \n",
    "eid,data_provider,issue_date,read_2,bnf_code,dmd_code,drug_name,quantity  \n",
    "2904360,3,2001-11-08,,04.07.02.00.00,,Kapake 30mg/500mg tablets (Galen Ltd),100 tablet(s)  \n",
    "2082995,4,2011-12-28,blf2.,,,,  \n",
    "4854973,3,2015-11-24,,03.01.01.03.00,,Ventolin 100micrograms/dose Evohaler (GlaxoSmithKline UK Ltd),400 dose  \n",
    "1497257,2,2006-12-29,,0501030I0AAABAB,,DOXYCYCLINE CAPSULES 100MG,8.000  \n",
    "2499633,1,2016-06-14,bu51.00,,319799004,Clopidogrel 75mg tablets,28.000  \n",
    "5026326,1,2004-05-18,bu23.00,,319773006,ASPIRIN disp tab 75mg,28.000  \n",
    "4995855,4,2013-08-13,ja2i.,,,,  \n",
    "2596913,4,2002-04-10,a6b1.,,,,  \n",
    "\n",
    "\n"
   ]
  },
  {
   "cell_type": "code",
   "execution_count": 10,
   "id": "0a2756f1-edf4-4c45-8052-e4872dd1e8b3",
   "metadata": {},
   "outputs": [
    {
     "name": "stderr",
     "output_type": "stream",
     "text": [
      "Warning message in fread(paste0(real.dat, \"gp_script_data.csv\")):\n",
      "“Found and resolved improper quoting out-of-sample. First healed line 89832: <<5897608,3,2005-06-30,,14.04.21.00.00,,Typherix 25micrograms/0.5ml vaccine solution for injection pre-filled syringes (GlaxoSmithKline UK Ltd),\"1 - 0.5ml pre-filled syringe+ 23G 1\\\"& 25G 5/8\\\" needles\">>. If the fields are not quoted (e.g. field separator does not appear within any field), try quote=\"\" to avoid this warning.”\n"
     ]
    }
   ],
   "source": [
    "gp.sc.dat=as.data.table(fread(paste0(real.dat,\"gp_script_data.csv\")))"
   ]
  },
  {
   "cell_type": "code",
   "execution_count": 11,
   "id": "ed26d52e-05d0-4f48-9cb2-e5649502bbf7",
   "metadata": {},
   "outputs": [
    {
     "data": {
      "text/html": [
       "<table class=\"dataframe\">\n",
       "<caption>A data.table: 6 × 8</caption>\n",
       "<thead>\n",
       "\t<tr><th scope=col>eid</th><th scope=col>data_provider</th><th scope=col>issue_date</th><th scope=col>read_2</th><th scope=col>bnf_code</th><th scope=col>dmd_code</th><th scope=col>drug_name</th><th scope=col>quantity</th></tr>\n",
       "\t<tr><th scope=col>&lt;int&gt;</th><th scope=col>&lt;int&gt;</th><th scope=col>&lt;IDate&gt;</th><th scope=col>&lt;chr&gt;</th><th scope=col>&lt;chr&gt;</th><th scope=col>&lt;int64&gt;</th><th scope=col>&lt;chr&gt;</th><th scope=col>&lt;chr&gt;</th></tr>\n",
       "</thead>\n",
       "<tbody>\n",
       "\t<tr><td>2904360</td><td>3</td><td>2001-11-08</td><td>       </td><td>04.07.02.00.00 </td><td>       NA</td><td>Kapake 30mg/500mg tablets (Galen Ltd)                        </td><td>100 tablet(s)</td></tr>\n",
       "\t<tr><td>2082995</td><td>4</td><td>2011-12-28</td><td>blf2.  </td><td>               </td><td>       NA</td><td>                                                             </td><td>             </td></tr>\n",
       "\t<tr><td>4854973</td><td>3</td><td>2015-11-24</td><td>       </td><td>03.01.01.03.00 </td><td>       NA</td><td>Ventolin 100micrograms/dose Evohaler (GlaxoSmithKline UK Ltd)</td><td>400 dose     </td></tr>\n",
       "\t<tr><td>1497257</td><td>2</td><td>2006-12-29</td><td>       </td><td>0501030I0AAABAB</td><td>       NA</td><td>DOXYCYCLINE CAPSULES 100MG                                   </td><td>8.000        </td></tr>\n",
       "\t<tr><td>2499633</td><td>1</td><td>2016-06-14</td><td>bu51.00</td><td>               </td><td>319799004</td><td>Clopidogrel 75mg tablets                                     </td><td>28.000       </td></tr>\n",
       "\t<tr><td>5026326</td><td>1</td><td>2004-05-18</td><td>bu23.00</td><td>               </td><td>319773006</td><td>ASPIRIN disp tab 75mg                                        </td><td>28.000       </td></tr>\n",
       "</tbody>\n",
       "</table>\n"
      ],
      "text/latex": [
       "A data.table: 6 × 8\n",
       "\\begin{tabular}{llllllll}\n",
       " eid & data\\_provider & issue\\_date & read\\_2 & bnf\\_code & dmd\\_code & drug\\_name & quantity\\\\\n",
       " <int> & <int> & <IDate> & <chr> & <chr> & <int64> & <chr> & <chr>\\\\\n",
       "\\hline\n",
       "\t 2904360 & 3 & 2001-11-08 &         & 04.07.02.00.00  &        NA & Kapake 30mg/500mg tablets (Galen Ltd)                         & 100 tablet(s)\\\\\n",
       "\t 2082995 & 4 & 2011-12-28 & blf2.   &                 &        NA &                                                               &              \\\\\n",
       "\t 4854973 & 3 & 2015-11-24 &         & 03.01.01.03.00  &        NA & Ventolin 100micrograms/dose Evohaler (GlaxoSmithKline UK Ltd) & 400 dose     \\\\\n",
       "\t 1497257 & 2 & 2006-12-29 &         & 0501030I0AAABAB &        NA & DOXYCYCLINE CAPSULES 100MG                                    & 8.000        \\\\\n",
       "\t 2499633 & 1 & 2016-06-14 & bu51.00 &                 & 319799004 & Clopidogrel 75mg tablets                                      & 28.000       \\\\\n",
       "\t 5026326 & 1 & 2004-05-18 & bu23.00 &                 & 319773006 & ASPIRIN disp tab 75mg                                         & 28.000       \\\\\n",
       "\\end{tabular}\n"
      ],
      "text/markdown": [
       "\n",
       "A data.table: 6 × 8\n",
       "\n",
       "| eid &lt;int&gt; | data_provider &lt;int&gt; | issue_date &lt;IDate&gt; | read_2 &lt;chr&gt; | bnf_code &lt;chr&gt; | dmd_code &lt;int64&gt; | drug_name &lt;chr&gt; | quantity &lt;chr&gt; |\n",
       "|---|---|---|---|---|---|---|---|\n",
       "| 2904360 | 3 | 2001-11-08 | <!----> | 04.07.02.00.00  |        NA | Kapake 30mg/500mg tablets (Galen Ltd)                         | 100 tablet(s) |\n",
       "| 2082995 | 4 | 2011-12-28 | blf2.   | <!----> |        NA | <!----> | <!----> |\n",
       "| 4854973 | 3 | 2015-11-24 | <!----> | 03.01.01.03.00  |        NA | Ventolin 100micrograms/dose Evohaler (GlaxoSmithKline UK Ltd) | 400 dose      |\n",
       "| 1497257 | 2 | 2006-12-29 | <!----> | 0501030I0AAABAB |        NA | DOXYCYCLINE CAPSULES 100MG                                    | 8.000         |\n",
       "| 2499633 | 1 | 2016-06-14 | bu51.00 | <!----> | 319799004 | Clopidogrel 75mg tablets                                      | 28.000        |\n",
       "| 5026326 | 1 | 2004-05-18 | bu23.00 | <!----> | 319773006 | ASPIRIN disp tab 75mg                                         | 28.000        |\n",
       "\n"
      ],
      "text/plain": [
       "  eid     data_provider issue_date read_2  bnf_code        dmd_code \n",
       "1 2904360 3             2001-11-08         04.07.02.00.00         NA\n",
       "2 2082995 4             2011-12-28 blf2.                          NA\n",
       "3 4854973 3             2015-11-24         03.01.01.03.00         NA\n",
       "4 1497257 2             2006-12-29         0501030I0AAABAB        NA\n",
       "5 2499633 1             2016-06-14 bu51.00                 319799004\n",
       "6 5026326 1             2004-05-18 bu23.00                 319773006\n",
       "  drug_name                                                     quantity     \n",
       "1 Kapake 30mg/500mg tablets (Galen Ltd)                         100 tablet(s)\n",
       "2                                                                            \n",
       "3 Ventolin 100micrograms/dose Evohaler (GlaxoSmithKline UK Ltd) 400 dose     \n",
       "4 DOXYCYCLINE CAPSULES 100MG                                    8.000        \n",
       "5 Clopidogrel 75mg tablets                                      28.000       \n",
       "6 ASPIRIN disp tab 75mg                                         28.000       "
      ]
     },
     "metadata": {},
     "output_type": "display_data"
    }
   ],
   "source": [
    "head(gp.sc.dat)"
   ]
  },
  {
   "cell_type": "code",
   "execution_count": 12,
   "id": "17b408a9-1312-484b-a994-3c6171a7225f",
   "metadata": {},
   "outputs": [
    {
     "data": {
      "text/html": [
       "<table class=\"dataframe\">\n",
       "<caption>A data.table: 6 × 8</caption>\n",
       "<thead>\n",
       "\t<tr><th scope=col>eid</th><th scope=col>data_provider</th><th scope=col>issue_date</th><th scope=col>read_2</th><th scope=col>bnf_code</th><th scope=col>dmd_code</th><th scope=col>drug_name</th><th scope=col>quantity</th></tr>\n",
       "\t<tr><th scope=col>&lt;int&gt;</th><th scope=col>&lt;int&gt;</th><th scope=col>&lt;chr&gt;</th><th scope=col>&lt;chr&gt;</th><th scope=col>&lt;chr&gt;</th><th scope=col>&lt;int64&gt;</th><th scope=col>&lt;chr&gt;</th><th scope=col>&lt;chr&gt;</th></tr>\n",
       "</thead>\n",
       "<tbody>\n",
       "\t<tr><td>2904360</td><td>3</td><td>08/11/2001</td><td>       </td><td>04.07.02.00.00 </td><td>       NA</td><td>Kapake 30mg/500mg tablets (Galen Ltd)                        </td><td>100 tablet(s)</td></tr>\n",
       "\t<tr><td>2082995</td><td>4</td><td>28/12/2011</td><td>blf2.  </td><td>               </td><td>       NA</td><td>                                                             </td><td>             </td></tr>\n",
       "\t<tr><td>4854973</td><td>3</td><td>24/11/2015</td><td>       </td><td>03.01.01.03.00 </td><td>       NA</td><td>Ventolin 100micrograms/dose Evohaler (GlaxoSmithKline UK Ltd)</td><td>400 dose     </td></tr>\n",
       "\t<tr><td>1497257</td><td>2</td><td>29/12/2006</td><td>       </td><td>0501030I0AAABAB</td><td>       NA</td><td>DOXYCYCLINE CAPSULES 100MG                                   </td><td>8.000        </td></tr>\n",
       "\t<tr><td>2499633</td><td>1</td><td>14/06/2016</td><td>bu51.00</td><td>               </td><td>319799004</td><td>Clopidogrel 75mg tablets                                     </td><td>28.000       </td></tr>\n",
       "\t<tr><td>5026326</td><td>1</td><td>18/05/2004</td><td>bu23.00</td><td>               </td><td>319773006</td><td>ASPIRIN disp tab 75mg                                        </td><td>28.000       </td></tr>\n",
       "</tbody>\n",
       "</table>\n"
      ],
      "text/latex": [
       "A data.table: 6 × 8\n",
       "\\begin{tabular}{llllllll}\n",
       " eid & data\\_provider & issue\\_date & read\\_2 & bnf\\_code & dmd\\_code & drug\\_name & quantity\\\\\n",
       " <int> & <int> & <chr> & <chr> & <chr> & <int64> & <chr> & <chr>\\\\\n",
       "\\hline\n",
       "\t 2904360 & 3 & 08/11/2001 &         & 04.07.02.00.00  &        NA & Kapake 30mg/500mg tablets (Galen Ltd)                         & 100 tablet(s)\\\\\n",
       "\t 2082995 & 4 & 28/12/2011 & blf2.   &                 &        NA &                                                               &              \\\\\n",
       "\t 4854973 & 3 & 24/11/2015 &         & 03.01.01.03.00  &        NA & Ventolin 100micrograms/dose Evohaler (GlaxoSmithKline UK Ltd) & 400 dose     \\\\\n",
       "\t 1497257 & 2 & 29/12/2006 &         & 0501030I0AAABAB &        NA & DOXYCYCLINE CAPSULES 100MG                                    & 8.000        \\\\\n",
       "\t 2499633 & 1 & 14/06/2016 & bu51.00 &                 & 319799004 & Clopidogrel 75mg tablets                                      & 28.000       \\\\\n",
       "\t 5026326 & 1 & 18/05/2004 & bu23.00 &                 & 319773006 & ASPIRIN disp tab 75mg                                         & 28.000       \\\\\n",
       "\\end{tabular}\n"
      ],
      "text/markdown": [
       "\n",
       "A data.table: 6 × 8\n",
       "\n",
       "| eid &lt;int&gt; | data_provider &lt;int&gt; | issue_date &lt;chr&gt; | read_2 &lt;chr&gt; | bnf_code &lt;chr&gt; | dmd_code &lt;int64&gt; | drug_name &lt;chr&gt; | quantity &lt;chr&gt; |\n",
       "|---|---|---|---|---|---|---|---|\n",
       "| 2904360 | 3 | 08/11/2001 | <!----> | 04.07.02.00.00  |        NA | Kapake 30mg/500mg tablets (Galen Ltd)                         | 100 tablet(s) |\n",
       "| 2082995 | 4 | 28/12/2011 | blf2.   | <!----> |        NA | <!----> | <!----> |\n",
       "| 4854973 | 3 | 24/11/2015 | <!----> | 03.01.01.03.00  |        NA | Ventolin 100micrograms/dose Evohaler (GlaxoSmithKline UK Ltd) | 400 dose      |\n",
       "| 1497257 | 2 | 29/12/2006 | <!----> | 0501030I0AAABAB |        NA | DOXYCYCLINE CAPSULES 100MG                                    | 8.000         |\n",
       "| 2499633 | 1 | 14/06/2016 | bu51.00 | <!----> | 319799004 | Clopidogrel 75mg tablets                                      | 28.000        |\n",
       "| 5026326 | 1 | 18/05/2004 | bu23.00 | <!----> | 319773006 | ASPIRIN disp tab 75mg                                         | 28.000        |\n",
       "\n"
      ],
      "text/plain": [
       "  eid     data_provider issue_date read_2  bnf_code        dmd_code \n",
       "1 2904360 3             08/11/2001         04.07.02.00.00         NA\n",
       "2 2082995 4             28/12/2011 blf2.                          NA\n",
       "3 4854973 3             24/11/2015         03.01.01.03.00         NA\n",
       "4 1497257 2             29/12/2006         0501030I0AAABAB        NA\n",
       "5 2499633 1             14/06/2016 bu51.00                 319799004\n",
       "6 5026326 1             18/05/2004 bu23.00                 319773006\n",
       "  drug_name                                                     quantity     \n",
       "1 Kapake 30mg/500mg tablets (Galen Ltd)                         100 tablet(s)\n",
       "2                                                                            \n",
       "3 Ventolin 100micrograms/dose Evohaler (GlaxoSmithKline UK Ltd) 400 dose     \n",
       "4 DOXYCYCLINE CAPSULES 100MG                                    8.000        \n",
       "5 Clopidogrel 75mg tablets                                      28.000       \n",
       "6 ASPIRIN disp tab 75mg                                         28.000       "
      ]
     },
     "metadata": {},
     "output_type": "display_data"
    }
   ],
   "source": [
    "gp.sc.dat$issue_date=as.character(format(as.Date(gp.sc.dat$issue_date, format=\"%Y-%m-%d\"), \"%d/%m/%Y\"))\n",
    "head(gp.sc.dat)"
   ]
  },
  {
   "cell_type": "code",
   "execution_count": 13,
   "id": "11568c7e-eebd-4086-ab9a-bf2dc57d1cd9",
   "metadata": {},
   "outputs": [],
   "source": [
    "fwrite(gp.sc.dat,paste0(real.dat,\"gp_script_data_harmonized.csv\"),quote=FALSE) "
   ]
  },
  {
   "cell_type": "markdown",
   "id": "79fa1e0a-3583-4b3d-af2d-632cac96d1a4",
   "metadata": {},
   "source": [
    "##  hesin_data "
   ]
  },
  {
   "cell_type": "markdown",
   "id": "3a313ad9-8a99-4e31-b705-0334936b1c1c",
   "metadata": {},
   "source": [
    "### this is how the test data look like:  \n",
    "\n",
    "eid,ins_index,epistart,admidate  \n",
    "1000001,1,13/04/1997,13/04/1997  \n",
    "1000002,1,19/06/2003,19/06/2003  \n",
    "1000003,1,24/02/2010,24/02/2010  \n",
    "1000004,1,04/03/2008,04/03/2008  \n",
    "1000005,1,27/10/2013,27/10/2013  \n",
    "1000006,1,25/03/1997,25/03/1997  \n",
    "1000007,1,18/07/2004,18/07/2004  \n",
    "\n",
    "### this is how the actual data look like: \n",
    "\n",
    "nx_hesin_id,eid,ins_index,epiorder,spell_index,spell_seq,spelbgin,spelend,speldur,pctcode,gpprpct,category,elecdate,dsource,elecdur,admidate,admimeth_uni,admimeth,admisorc_uni,admisorc,firstreg,classpat_uni,classpat,intmanag_uni,source,intmanag,mainspef_uni,mainspef,tretspef_uni,tretspef,operstat,disdate,dismeth_uni,dismeth,disdest_uni,epistart,disdest,carersi,epiend,epidur,bedyear,epistat,epitype,dateepiimp  \n",
    "1841490-17,1841490,17,1,14,0,2,Y,1,5HQ,5HQ,,,HES,,2009-04-23,2001,21,1000,19,,1000,1,800,6,8,1310,300,1490,300,8,2009-04-24,1000,1,1000,2009-04-23,19,2,2009-04-24,1,1,3,1,2009-04-23  \n",
    "4629180-105,4629180,105,1,96,0,2,Y,0,5NR,5NR,,2013-06-18,HES,,2013-06-18,1003,13,1000,19,,2000,2,200,18,2,1130,303,1220,303,1,2013-06-18,1000,1,1000,2013-06-18,19,2,2013-06-18,0,0,3,1,2013-06-18  \n",
    "5754953-32,5754953,32,1,31,0,2,Y,0,5C3,5C3,,,HES,,2021-02-18,1003,13,1000,19,,1000,1,100,71,1,1460,370,1750,370,1,2021-02-18,1000,1,1000,2021-02-18,19,2,2021-02-18,0,0,3,1,2021-02-18  \n",
    "5838717-0,5838717,0,1,0,0,2,Y,0,,5CL,10,1996-12-19,HES,139,1997-05-07,1001,11,1000,19,,2000,2,200,6,2,1840,110,2580,110,,1997-05-07,1000,1,1000,1997-05-07,19,99,1997-05-07,0,0,3,1,1997-05-07  \n",
    "5278826-19,5278826,19,3,13,2,0,N,,5PJ,5PJ,,,HES,,2017-12-12,2001,21,1000,19,,1000,1,800,70,8,1011,326,1490,300,8,,4000,8,11000,2017-12-13,98,99,2017-12-13,0,0,3,1,2017-12-13 "
   ]
  },
  {
   "cell_type": "code",
   "execution_count": 33,
   "id": "5aaa8bc5-002b-4779-ada4-a52f02c1398c",
   "metadata": {},
   "outputs": [],
   "source": [
    "hesin.test=as.data.table(fread(paste0(test.dat,\"hesin.csv\")))\n",
    "hesin.dat=as.data.table(fread(paste0(real.dat,\"hesin_data.csv\")))"
   ]
  },
  {
   "cell_type": "code",
   "execution_count": 37,
   "id": "bb408ef3-77c7-4277-9093-f2db35fe0b8f",
   "metadata": {},
   "outputs": [
    {
     "data": {
      "text/html": [
       "<style>\n",
       ".list-inline {list-style: none; margin:0; padding: 0}\n",
       ".list-inline>li {display: inline-block}\n",
       ".list-inline>li:not(:last-child)::after {content: \"\\00b7\"; padding: 0 .5ex}\n",
       "</style>\n",
       "<ol class=list-inline><li>4237639</li><li>44</li></ol>\n"
      ],
      "text/latex": [
       "\\begin{enumerate*}\n",
       "\\item 4237639\n",
       "\\item 44\n",
       "\\end{enumerate*}\n"
      ],
      "text/markdown": [
       "1. 4237639\n",
       "2. 44\n",
       "\n",
       "\n"
      ],
      "text/plain": [
       "[1] 4237639      44"
      ]
     },
     "metadata": {},
     "output_type": "display_data"
    },
    {
     "data": {
      "text/html": [
       "<style>\n",
       ".list-inline {list-style: none; margin:0; padding: 0}\n",
       ".list-inline>li {display: inline-block}\n",
       ".list-inline>li:not(:last-child)::after {content: \"\\00b7\"; padding: 0 .5ex}\n",
       "</style>\n",
       "<ol class=list-inline><li>100000</li><li>4</li></ol>\n"
      ],
      "text/latex": [
       "\\begin{enumerate*}\n",
       "\\item 100000\n",
       "\\item 4\n",
       "\\end{enumerate*}\n"
      ],
      "text/markdown": [
       "1. 100000\n",
       "2. 4\n",
       "\n",
       "\n"
      ],
      "text/plain": [
       "[1] 100000      4"
      ]
     },
     "metadata": {},
     "output_type": "display_data"
    },
    {
     "data": {
      "text/html": [
       "<style>\n",
       ".list-inline {list-style: none; margin:0; padding: 0}\n",
       ".list-inline>li {display: inline-block}\n",
       ".list-inline>li:not(:last-child)::after {content: \"\\00b7\"; padding: 0 .5ex}\n",
       "</style>\n",
       "<ol class=list-inline><li>'dnx_hesin_id'</li><li>'eid'</li><li>'ins_index'</li><li>'epiorder'</li><li>'spell_index'</li><li>'spell_seq'</li><li>'spelbgin'</li><li>'spelend'</li><li>'speldur'</li><li>'pctcode'</li><li>'gpprpct'</li><li>'category'</li><li>'elecdate'</li><li>'dsource'</li><li>'elecdur'</li><li>'admidate'</li><li>'admimeth_uni'</li><li>'admimeth'</li><li>'admisorc_uni'</li><li>'admisorc'</li><li>'firstreg'</li><li>'classpat_uni'</li><li>'classpat'</li><li>'intmanag_uni'</li><li>'source'</li><li>'intmanag'</li><li>'mainspef_uni'</li><li>'mainspef'</li><li>'tretspef_uni'</li><li>'tretspef'</li><li>'operstat'</li><li>'disdate'</li><li>'dismeth_uni'</li><li>'dismeth'</li><li>'disdest_uni'</li><li>'epistart'</li><li>'disdest'</li><li>'carersi'</li><li>'epiend'</li><li>'epidur'</li><li>'bedyear'</li><li>'epistat'</li><li>'epitype'</li><li>'dateepiimp'</li></ol>\n"
      ],
      "text/latex": [
       "\\begin{enumerate*}\n",
       "\\item 'dnx\\_hesin\\_id'\n",
       "\\item 'eid'\n",
       "\\item 'ins\\_index'\n",
       "\\item 'epiorder'\n",
       "\\item 'spell\\_index'\n",
       "\\item 'spell\\_seq'\n",
       "\\item 'spelbgin'\n",
       "\\item 'spelend'\n",
       "\\item 'speldur'\n",
       "\\item 'pctcode'\n",
       "\\item 'gpprpct'\n",
       "\\item 'category'\n",
       "\\item 'elecdate'\n",
       "\\item 'dsource'\n",
       "\\item 'elecdur'\n",
       "\\item 'admidate'\n",
       "\\item 'admimeth\\_uni'\n",
       "\\item 'admimeth'\n",
       "\\item 'admisorc\\_uni'\n",
       "\\item 'admisorc'\n",
       "\\item 'firstreg'\n",
       "\\item 'classpat\\_uni'\n",
       "\\item 'classpat'\n",
       "\\item 'intmanag\\_uni'\n",
       "\\item 'source'\n",
       "\\item 'intmanag'\n",
       "\\item 'mainspef\\_uni'\n",
       "\\item 'mainspef'\n",
       "\\item 'tretspef\\_uni'\n",
       "\\item 'tretspef'\n",
       "\\item 'operstat'\n",
       "\\item 'disdate'\n",
       "\\item 'dismeth\\_uni'\n",
       "\\item 'dismeth'\n",
       "\\item 'disdest\\_uni'\n",
       "\\item 'epistart'\n",
       "\\item 'disdest'\n",
       "\\item 'carersi'\n",
       "\\item 'epiend'\n",
       "\\item 'epidur'\n",
       "\\item 'bedyear'\n",
       "\\item 'epistat'\n",
       "\\item 'epitype'\n",
       "\\item 'dateepiimp'\n",
       "\\end{enumerate*}\n"
      ],
      "text/markdown": [
       "1. 'dnx_hesin_id'\n",
       "2. 'eid'\n",
       "3. 'ins_index'\n",
       "4. 'epiorder'\n",
       "5. 'spell_index'\n",
       "6. 'spell_seq'\n",
       "7. 'spelbgin'\n",
       "8. 'spelend'\n",
       "9. 'speldur'\n",
       "10. 'pctcode'\n",
       "11. 'gpprpct'\n",
       "12. 'category'\n",
       "13. 'elecdate'\n",
       "14. 'dsource'\n",
       "15. 'elecdur'\n",
       "16. 'admidate'\n",
       "17. 'admimeth_uni'\n",
       "18. 'admimeth'\n",
       "19. 'admisorc_uni'\n",
       "20. 'admisorc'\n",
       "21. 'firstreg'\n",
       "22. 'classpat_uni'\n",
       "23. 'classpat'\n",
       "24. 'intmanag_uni'\n",
       "25. 'source'\n",
       "26. 'intmanag'\n",
       "27. 'mainspef_uni'\n",
       "28. 'mainspef'\n",
       "29. 'tretspef_uni'\n",
       "30. 'tretspef'\n",
       "31. 'operstat'\n",
       "32. 'disdate'\n",
       "33. 'dismeth_uni'\n",
       "34. 'dismeth'\n",
       "35. 'disdest_uni'\n",
       "36. 'epistart'\n",
       "37. 'disdest'\n",
       "38. 'carersi'\n",
       "39. 'epiend'\n",
       "40. 'epidur'\n",
       "41. 'bedyear'\n",
       "42. 'epistat'\n",
       "43. 'epitype'\n",
       "44. 'dateepiimp'\n",
       "\n",
       "\n"
      ],
      "text/plain": [
       " [1] \"dnx_hesin_id\" \"eid\"          \"ins_index\"    \"epiorder\"     \"spell_index\" \n",
       " [6] \"spell_seq\"    \"spelbgin\"     \"spelend\"      \"speldur\"      \"pctcode\"     \n",
       "[11] \"gpprpct\"      \"category\"     \"elecdate\"     \"dsource\"      \"elecdur\"     \n",
       "[16] \"admidate\"     \"admimeth_uni\" \"admimeth\"     \"admisorc_uni\" \"admisorc\"    \n",
       "[21] \"firstreg\"     \"classpat_uni\" \"classpat\"     \"intmanag_uni\" \"source\"      \n",
       "[26] \"intmanag\"     \"mainspef_uni\" \"mainspef\"     \"tretspef_uni\" \"tretspef\"    \n",
       "[31] \"operstat\"     \"disdate\"      \"dismeth_uni\"  \"dismeth\"      \"disdest_uni\" \n",
       "[36] \"epistart\"     \"disdest\"      \"carersi\"      \"epiend\"       \"epidur\"      \n",
       "[41] \"bedyear\"      \"epistat\"      \"epitype\"      \"dateepiimp\"  "
      ]
     },
     "metadata": {},
     "output_type": "display_data"
    },
    {
     "data": {
      "text/html": [
       "<style>\n",
       ".list-inline {list-style: none; margin:0; padding: 0}\n",
       ".list-inline>li {display: inline-block}\n",
       ".list-inline>li:not(:last-child)::after {content: \"\\00b7\"; padding: 0 .5ex}\n",
       "</style>\n",
       "<ol class=list-inline><li>'eid'</li><li>'ins_index'</li><li>'epistart'</li><li>'admidate'</li></ol>\n"
      ],
      "text/latex": [
       "\\begin{enumerate*}\n",
       "\\item 'eid'\n",
       "\\item 'ins\\_index'\n",
       "\\item 'epistart'\n",
       "\\item 'admidate'\n",
       "\\end{enumerate*}\n"
      ],
      "text/markdown": [
       "1. 'eid'\n",
       "2. 'ins_index'\n",
       "3. 'epistart'\n",
       "4. 'admidate'\n",
       "\n",
       "\n"
      ],
      "text/plain": [
       "[1] \"eid\"       \"ins_index\" \"epistart\"  \"admidate\" "
      ]
     },
     "metadata": {},
     "output_type": "display_data"
    }
   ],
   "source": [
    "dim(hesin.dat)\n",
    "dim(hesin.test)\n",
    "colnames(hesin.dat)\n",
    "colnames(hesin.test)"
   ]
  },
  {
   "cell_type": "code",
   "execution_count": 38,
   "id": "78fc93d3-8223-460c-aa4a-7fa72fc48c78",
   "metadata": {},
   "outputs": [],
   "source": [
    "hesin.dat_1=hesin.dat[,c('eid','ins_index','epistart','admidate')]"
   ]
  },
  {
   "cell_type": "code",
   "execution_count": 40,
   "id": "960db194-50fa-439c-8514-399a76c7d06d",
   "metadata": {},
   "outputs": [
    {
     "data": {
      "text/html": [
       "<table class=\"dataframe\">\n",
       "<caption>A data.table: 6 × 4</caption>\n",
       "<thead>\n",
       "\t<tr><th scope=col>eid</th><th scope=col>ins_index</th><th scope=col>epistart</th><th scope=col>admidate</th></tr>\n",
       "\t<tr><th scope=col>&lt;int&gt;</th><th scope=col>&lt;int&gt;</th><th scope=col>&lt;chr&gt;</th><th scope=col>&lt;chr&gt;</th></tr>\n",
       "</thead>\n",
       "<tbody>\n",
       "\t<tr><td>1000001</td><td>1</td><td>13/04/1997</td><td>13/04/1997</td></tr>\n",
       "\t<tr><td>1000002</td><td>1</td><td>19/06/2003</td><td>19/06/2003</td></tr>\n",
       "\t<tr><td>1000003</td><td>1</td><td>24/02/2010</td><td>24/02/2010</td></tr>\n",
       "\t<tr><td>1000004</td><td>1</td><td>04/03/2008</td><td>04/03/2008</td></tr>\n",
       "\t<tr><td>1000005</td><td>1</td><td>27/10/2013</td><td>27/10/2013</td></tr>\n",
       "\t<tr><td>1000006</td><td>1</td><td>25/03/1997</td><td>25/03/1997</td></tr>\n",
       "</tbody>\n",
       "</table>\n"
      ],
      "text/latex": [
       "A data.table: 6 × 4\n",
       "\\begin{tabular}{llll}\n",
       " eid & ins\\_index & epistart & admidate\\\\\n",
       " <int> & <int> & <chr> & <chr>\\\\\n",
       "\\hline\n",
       "\t 1000001 & 1 & 13/04/1997 & 13/04/1997\\\\\n",
       "\t 1000002 & 1 & 19/06/2003 & 19/06/2003\\\\\n",
       "\t 1000003 & 1 & 24/02/2010 & 24/02/2010\\\\\n",
       "\t 1000004 & 1 & 04/03/2008 & 04/03/2008\\\\\n",
       "\t 1000005 & 1 & 27/10/2013 & 27/10/2013\\\\\n",
       "\t 1000006 & 1 & 25/03/1997 & 25/03/1997\\\\\n",
       "\\end{tabular}\n"
      ],
      "text/markdown": [
       "\n",
       "A data.table: 6 × 4\n",
       "\n",
       "| eid &lt;int&gt; | ins_index &lt;int&gt; | epistart &lt;chr&gt; | admidate &lt;chr&gt; |\n",
       "|---|---|---|---|\n",
       "| 1000001 | 1 | 13/04/1997 | 13/04/1997 |\n",
       "| 1000002 | 1 | 19/06/2003 | 19/06/2003 |\n",
       "| 1000003 | 1 | 24/02/2010 | 24/02/2010 |\n",
       "| 1000004 | 1 | 04/03/2008 | 04/03/2008 |\n",
       "| 1000005 | 1 | 27/10/2013 | 27/10/2013 |\n",
       "| 1000006 | 1 | 25/03/1997 | 25/03/1997 |\n",
       "\n"
      ],
      "text/plain": [
       "  eid     ins_index epistart   admidate  \n",
       "1 1000001 1         13/04/1997 13/04/1997\n",
       "2 1000002 1         19/06/2003 19/06/2003\n",
       "3 1000003 1         24/02/2010 24/02/2010\n",
       "4 1000004 1         04/03/2008 04/03/2008\n",
       "5 1000005 1         27/10/2013 27/10/2013\n",
       "6 1000006 1         25/03/1997 25/03/1997"
      ]
     },
     "metadata": {},
     "output_type": "display_data"
    },
    {
     "data": {
      "text/html": [
       "<table class=\"dataframe\">\n",
       "<caption>A data.table: 6 × 4</caption>\n",
       "<thead>\n",
       "\t<tr><th scope=col>eid</th><th scope=col>ins_index</th><th scope=col>epistart</th><th scope=col>admidate</th></tr>\n",
       "\t<tr><th scope=col>&lt;int&gt;</th><th scope=col>&lt;int&gt;</th><th scope=col>&lt;IDate&gt;</th><th scope=col>&lt;IDate&gt;</th></tr>\n",
       "</thead>\n",
       "<tbody>\n",
       "\t<tr><td>1841490</td><td> 17</td><td>2009-04-23</td><td>2009-04-23</td></tr>\n",
       "\t<tr><td>4629180</td><td>105</td><td>2013-06-18</td><td>2013-06-18</td></tr>\n",
       "\t<tr><td>5754953</td><td> 32</td><td>2021-02-18</td><td>2021-02-18</td></tr>\n",
       "\t<tr><td>5838717</td><td>  0</td><td>1997-05-07</td><td>1997-05-07</td></tr>\n",
       "\t<tr><td>5278826</td><td> 19</td><td>2017-12-13</td><td>2017-12-12</td></tr>\n",
       "\t<tr><td>1301640</td><td> 15</td><td>2002-01-24</td><td>NA</td></tr>\n",
       "</tbody>\n",
       "</table>\n"
      ],
      "text/latex": [
       "A data.table: 6 × 4\n",
       "\\begin{tabular}{llll}\n",
       " eid & ins\\_index & epistart & admidate\\\\\n",
       " <int> & <int> & <IDate> & <IDate>\\\\\n",
       "\\hline\n",
       "\t 1841490 &  17 & 2009-04-23 & 2009-04-23\\\\\n",
       "\t 4629180 & 105 & 2013-06-18 & 2013-06-18\\\\\n",
       "\t 5754953 &  32 & 2021-02-18 & 2021-02-18\\\\\n",
       "\t 5838717 &   0 & 1997-05-07 & 1997-05-07\\\\\n",
       "\t 5278826 &  19 & 2017-12-13 & 2017-12-12\\\\\n",
       "\t 1301640 &  15 & 2002-01-24 & NA\\\\\n",
       "\\end{tabular}\n"
      ],
      "text/markdown": [
       "\n",
       "A data.table: 6 × 4\n",
       "\n",
       "| eid &lt;int&gt; | ins_index &lt;int&gt; | epistart &lt;IDate&gt; | admidate &lt;IDate&gt; |\n",
       "|---|---|---|---|\n",
       "| 1841490 |  17 | 2009-04-23 | 2009-04-23 |\n",
       "| 4629180 | 105 | 2013-06-18 | 2013-06-18 |\n",
       "| 5754953 |  32 | 2021-02-18 | 2021-02-18 |\n",
       "| 5838717 |   0 | 1997-05-07 | 1997-05-07 |\n",
       "| 5278826 |  19 | 2017-12-13 | 2017-12-12 |\n",
       "| 1301640 |  15 | 2002-01-24 | NA |\n",
       "\n"
      ],
      "text/plain": [
       "  eid     ins_index epistart   admidate  \n",
       "1 1841490  17       2009-04-23 2009-04-23\n",
       "2 4629180 105       2013-06-18 2013-06-18\n",
       "3 5754953  32       2021-02-18 2021-02-18\n",
       "4 5838717   0       1997-05-07 1997-05-07\n",
       "5 5278826  19       2017-12-13 2017-12-12\n",
       "6 1301640  15       2002-01-24 <NA>      "
      ]
     },
     "metadata": {},
     "output_type": "display_data"
    }
   ],
   "source": [
    "head(hesin.test)\n",
    "head(hesin.dat_1)"
   ]
  },
  {
   "cell_type": "code",
   "execution_count": 41,
   "id": "edcc2231-2337-4c22-b4db-ebef4ac7ade9",
   "metadata": {},
   "outputs": [],
   "source": [
    "hesin.dat_1$epistart=as.character(format(as.Date(hesin.dat_1$epistart, format=\"%Y-%m-%d\"), \"%d/%m/%Y\"))\n",
    "hesin.dat_1$admidate=as.character(format(as.Date(hesin.dat_1$admidate, format=\"%Y-%m-%d\"), \"%d/%m/%Y\"))"
   ]
  },
  {
   "cell_type": "code",
   "execution_count": 42,
   "id": "aa507a0b-e4c3-4f79-87fa-ed7954163157",
   "metadata": {},
   "outputs": [
    {
     "data": {
      "text/html": [
       "<table class=\"dataframe\">\n",
       "<caption>A data.table: 6 × 4</caption>\n",
       "<thead>\n",
       "\t<tr><th scope=col>eid</th><th scope=col>ins_index</th><th scope=col>epistart</th><th scope=col>admidate</th></tr>\n",
       "\t<tr><th scope=col>&lt;int&gt;</th><th scope=col>&lt;int&gt;</th><th scope=col>&lt;chr&gt;</th><th scope=col>&lt;chr&gt;</th></tr>\n",
       "</thead>\n",
       "<tbody>\n",
       "\t<tr><td>1841490</td><td> 17</td><td>23/04/2009</td><td>23/04/2009</td></tr>\n",
       "\t<tr><td>4629180</td><td>105</td><td>18/06/2013</td><td>18/06/2013</td></tr>\n",
       "\t<tr><td>5754953</td><td> 32</td><td>18/02/2021</td><td>18/02/2021</td></tr>\n",
       "\t<tr><td>5838717</td><td>  0</td><td>07/05/1997</td><td>07/05/1997</td></tr>\n",
       "\t<tr><td>5278826</td><td> 19</td><td>13/12/2017</td><td>12/12/2017</td></tr>\n",
       "\t<tr><td>1301640</td><td> 15</td><td>24/01/2002</td><td>NA        </td></tr>\n",
       "</tbody>\n",
       "</table>\n"
      ],
      "text/latex": [
       "A data.table: 6 × 4\n",
       "\\begin{tabular}{llll}\n",
       " eid & ins\\_index & epistart & admidate\\\\\n",
       " <int> & <int> & <chr> & <chr>\\\\\n",
       "\\hline\n",
       "\t 1841490 &  17 & 23/04/2009 & 23/04/2009\\\\\n",
       "\t 4629180 & 105 & 18/06/2013 & 18/06/2013\\\\\n",
       "\t 5754953 &  32 & 18/02/2021 & 18/02/2021\\\\\n",
       "\t 5838717 &   0 & 07/05/1997 & 07/05/1997\\\\\n",
       "\t 5278826 &  19 & 13/12/2017 & 12/12/2017\\\\\n",
       "\t 1301640 &  15 & 24/01/2002 & NA        \\\\\n",
       "\\end{tabular}\n"
      ],
      "text/markdown": [
       "\n",
       "A data.table: 6 × 4\n",
       "\n",
       "| eid &lt;int&gt; | ins_index &lt;int&gt; | epistart &lt;chr&gt; | admidate &lt;chr&gt; |\n",
       "|---|---|---|---|\n",
       "| 1841490 |  17 | 23/04/2009 | 23/04/2009 |\n",
       "| 4629180 | 105 | 18/06/2013 | 18/06/2013 |\n",
       "| 5754953 |  32 | 18/02/2021 | 18/02/2021 |\n",
       "| 5838717 |   0 | 07/05/1997 | 07/05/1997 |\n",
       "| 5278826 |  19 | 13/12/2017 | 12/12/2017 |\n",
       "| 1301640 |  15 | 24/01/2002 | NA         |\n",
       "\n"
      ],
      "text/plain": [
       "  eid     ins_index epistart   admidate  \n",
       "1 1841490  17       23/04/2009 23/04/2009\n",
       "2 4629180 105       18/06/2013 18/06/2013\n",
       "3 5754953  32       18/02/2021 18/02/2021\n",
       "4 5838717   0       07/05/1997 07/05/1997\n",
       "5 5278826  19       13/12/2017 12/12/2017\n",
       "6 1301640  15       24/01/2002 NA        "
      ]
     },
     "metadata": {},
     "output_type": "display_data"
    }
   ],
   "source": [
    "head(hesin.dat_1)"
   ]
  },
  {
   "cell_type": "code",
   "execution_count": 43,
   "id": "72b65534-37f7-4d78-8cd2-50d483a84d88",
   "metadata": {},
   "outputs": [],
   "source": [
    "fwrite(gp.dat,paste0(real.dat,\"hesin_data_harmonized.csv\"),quote=FALSE) "
   ]
  },
  {
   "cell_type": "markdown",
   "id": "821f8f24-2f1a-4276-812a-89107b0f254b",
   "metadata": {},
   "source": [
    "##  HES DIAG"
   ]
  },
  {
   "cell_type": "markdown",
   "id": "5a44e150-3683-4a20-97de-917f60914f6e",
   "metadata": {},
   "source": [
    "### this is how the test data look like:  \n",
    "eid,ins_index,arr_index,level,diag_icd9,diag_icd9_nb,diag_icd10,diag_icd10_nb  \n",
    "1000001,1,0,2,,,X506,  \n",
    "1000002,1,2,3,,,Z641,  \n",
    "1000003,1,2,1,,,Z443,  \n",
    "1000004,1,0,1,,,P544,  \n",
    "1000005,1,1,1,,,M871,  \n",
    "1000006,1,0,1,,,S119,  \n",
    "1000007,1,0,2,,,M0608,  \n",
    "1000008,1,3,3,,,M2591,  \n",
    "1000009,1,1,2,,,T66,  \n",
    "  \n",
    "### this is how the actual data look like: \n",
    "dnx_hesin_diag_id,dnx_hesin_id,eid,ins_index,arr_index,level,diag_icd9,diag_icd9_nb,diag_icd10,diag_icd10_nb  \n",
    "1582101-0-0,1582101-0,1582101,0,0,1,,,D140,  \n",
    "1608773-9-2,1608773-9,1608773,9,2,2,,,Z800,  \n",
    "6001729-4-8,6001729-4,6001729,4,8,2,,,N183,  \n",
    "4368516-17-11,4368516-17,4368516,17,11,2,,,Z888,  \n",
    "2005154-42-1,2005154-42,2005154,42,1,2,,,M059,  \n",
    "5649606-4-8,5649606-4,5649606,4,8,2,,,R001,  \n",
    "2235016-4-2,2235016-4,2235016,4,2,2,,,Z901,  \n",
    "1427128-27-3,1427128-27,1427128,27,3,2,,,I209,  \n",
    "1597828-3-1,1597828-3,1597828,3,1,2,,,H353,  "
   ]
  },
  {
   "cell_type": "code",
   "execution_count": 2,
   "id": "414940fc-7e8c-4d2d-a3b3-bb5e6c91ee4b",
   "metadata": {},
   "outputs": [],
   "source": [
    "hes_diag.test=as.data.table(fread(paste0(test.dat,\"HES_Diag.csv\")))\n",
    "hes_diag.dat=as.data.table(fread(paste0(real.dat,\"hesin_diag_data.csv\")))"
   ]
  },
  {
   "cell_type": "code",
   "execution_count": 4,
   "id": "122d8bdb-a19a-4abc-a9b1-85edae9854db",
   "metadata": {},
   "outputs": [
    {
     "data": {
      "text/html": [
       "<style>\n",
       ".list-inline {list-style: none; margin:0; padding: 0}\n",
       ".list-inline>li {display: inline-block}\n",
       ".list-inline>li:not(:last-child)::after {content: \"\\00b7\"; padding: 0 .5ex}\n",
       "</style>\n",
       "<ol class=list-inline><li>168000</li><li>8</li></ol>\n"
      ],
      "text/latex": [
       "\\begin{enumerate*}\n",
       "\\item 168000\n",
       "\\item 8\n",
       "\\end{enumerate*}\n"
      ],
      "text/markdown": [
       "1. 168000\n",
       "2. 8\n",
       "\n",
       "\n"
      ],
      "text/plain": [
       "[1] 168000      8"
      ]
     },
     "metadata": {},
     "output_type": "display_data"
    },
    {
     "data": {
      "text/html": [
       "<style>\n",
       ".list-inline {list-style: none; margin:0; padding: 0}\n",
       ".list-inline>li {display: inline-block}\n",
       ".list-inline>li:not(:last-child)::after {content: \"\\00b7\"; padding: 0 .5ex}\n",
       "</style>\n",
       "<ol class=list-inline><li>17492107</li><li>10</li></ol>\n"
      ],
      "text/latex": [
       "\\begin{enumerate*}\n",
       "\\item 17492107\n",
       "\\item 10\n",
       "\\end{enumerate*}\n"
      ],
      "text/markdown": [
       "1. 17492107\n",
       "2. 10\n",
       "\n",
       "\n"
      ],
      "text/plain": [
       "[1] 17492107       10"
      ]
     },
     "metadata": {},
     "output_type": "display_data"
    }
   ],
   "source": [
    "dim(hes_diag.test)\n",
    "dim(hes_diag.dat)\n",
    "hes_diag.dat_1=hes_diag.dat[,3:ncol(hes_diag.dat)]"
   ]
  },
  {
   "cell_type": "code",
   "execution_count": 5,
   "id": "75a7b7be-41a7-4274-8b6e-c79c8db3281a",
   "metadata": {},
   "outputs": [
    {
     "data": {
      "text/html": [
       "<table class=\"dataframe\">\n",
       "<caption>A data.table: 6 × 8</caption>\n",
       "<thead>\n",
       "\t<tr><th scope=col>eid</th><th scope=col>ins_index</th><th scope=col>arr_index</th><th scope=col>level</th><th scope=col>diag_icd9</th><th scope=col>diag_icd9_nb</th><th scope=col>diag_icd10</th><th scope=col>diag_icd10_nb</th></tr>\n",
       "\t<tr><th scope=col>&lt;int&gt;</th><th scope=col>&lt;int&gt;</th><th scope=col>&lt;int&gt;</th><th scope=col>&lt;int&gt;</th><th scope=col>&lt;lgl&gt;</th><th scope=col>&lt;lgl&gt;</th><th scope=col>&lt;chr&gt;</th><th scope=col>&lt;lgl&gt;</th></tr>\n",
       "</thead>\n",
       "<tbody>\n",
       "\t<tr><td>1000001</td><td>1</td><td>0</td><td>2</td><td>NA</td><td>NA</td><td>X506</td><td>NA</td></tr>\n",
       "\t<tr><td>1000002</td><td>1</td><td>2</td><td>3</td><td>NA</td><td>NA</td><td>Z641</td><td>NA</td></tr>\n",
       "\t<tr><td>1000003</td><td>1</td><td>2</td><td>1</td><td>NA</td><td>NA</td><td>Z443</td><td>NA</td></tr>\n",
       "\t<tr><td>1000004</td><td>1</td><td>0</td><td>1</td><td>NA</td><td>NA</td><td>P544</td><td>NA</td></tr>\n",
       "\t<tr><td>1000005</td><td>1</td><td>1</td><td>1</td><td>NA</td><td>NA</td><td>M871</td><td>NA</td></tr>\n",
       "\t<tr><td>1000006</td><td>1</td><td>0</td><td>1</td><td>NA</td><td>NA</td><td>S119</td><td>NA</td></tr>\n",
       "</tbody>\n",
       "</table>\n"
      ],
      "text/latex": [
       "A data.table: 6 × 8\n",
       "\\begin{tabular}{llllllll}\n",
       " eid & ins\\_index & arr\\_index & level & diag\\_icd9 & diag\\_icd9\\_nb & diag\\_icd10 & diag\\_icd10\\_nb\\\\\n",
       " <int> & <int> & <int> & <int> & <lgl> & <lgl> & <chr> & <lgl>\\\\\n",
       "\\hline\n",
       "\t 1000001 & 1 & 0 & 2 & NA & NA & X506 & NA\\\\\n",
       "\t 1000002 & 1 & 2 & 3 & NA & NA & Z641 & NA\\\\\n",
       "\t 1000003 & 1 & 2 & 1 & NA & NA & Z443 & NA\\\\\n",
       "\t 1000004 & 1 & 0 & 1 & NA & NA & P544 & NA\\\\\n",
       "\t 1000005 & 1 & 1 & 1 & NA & NA & M871 & NA\\\\\n",
       "\t 1000006 & 1 & 0 & 1 & NA & NA & S119 & NA\\\\\n",
       "\\end{tabular}\n"
      ],
      "text/markdown": [
       "\n",
       "A data.table: 6 × 8\n",
       "\n",
       "| eid &lt;int&gt; | ins_index &lt;int&gt; | arr_index &lt;int&gt; | level &lt;int&gt; | diag_icd9 &lt;lgl&gt; | diag_icd9_nb &lt;lgl&gt; | diag_icd10 &lt;chr&gt; | diag_icd10_nb &lt;lgl&gt; |\n",
       "|---|---|---|---|---|---|---|---|\n",
       "| 1000001 | 1 | 0 | 2 | NA | NA | X506 | NA |\n",
       "| 1000002 | 1 | 2 | 3 | NA | NA | Z641 | NA |\n",
       "| 1000003 | 1 | 2 | 1 | NA | NA | Z443 | NA |\n",
       "| 1000004 | 1 | 0 | 1 | NA | NA | P544 | NA |\n",
       "| 1000005 | 1 | 1 | 1 | NA | NA | M871 | NA |\n",
       "| 1000006 | 1 | 0 | 1 | NA | NA | S119 | NA |\n",
       "\n"
      ],
      "text/plain": [
       "  eid     ins_index arr_index level diag_icd9 diag_icd9_nb diag_icd10\n",
       "1 1000001 1         0         2     NA        NA           X506      \n",
       "2 1000002 1         2         3     NA        NA           Z641      \n",
       "3 1000003 1         2         1     NA        NA           Z443      \n",
       "4 1000004 1         0         1     NA        NA           P544      \n",
       "5 1000005 1         1         1     NA        NA           M871      \n",
       "6 1000006 1         0         1     NA        NA           S119      \n",
       "  diag_icd10_nb\n",
       "1 NA           \n",
       "2 NA           \n",
       "3 NA           \n",
       "4 NA           \n",
       "5 NA           \n",
       "6 NA           "
      ]
     },
     "metadata": {},
     "output_type": "display_data"
    },
    {
     "data": {
      "text/html": [
       "<table class=\"dataframe\">\n",
       "<caption>A data.table: 6 × 8</caption>\n",
       "<thead>\n",
       "\t<tr><th scope=col>eid</th><th scope=col>ins_index</th><th scope=col>arr_index</th><th scope=col>level</th><th scope=col>diag_icd9</th><th scope=col>diag_icd9_nb</th><th scope=col>diag_icd10</th><th scope=col>diag_icd10_nb</th></tr>\n",
       "\t<tr><th scope=col>&lt;int&gt;</th><th scope=col>&lt;int&gt;</th><th scope=col>&lt;int&gt;</th><th scope=col>&lt;int&gt;</th><th scope=col>&lt;chr&gt;</th><th scope=col>&lt;lgl&gt;</th><th scope=col>&lt;chr&gt;</th><th scope=col>&lt;int&gt;</th></tr>\n",
       "</thead>\n",
       "<tbody>\n",
       "\t<tr><td>1582101</td><td> 0</td><td> 0</td><td>1</td><td></td><td>NA</td><td>D140</td><td>NA</td></tr>\n",
       "\t<tr><td>1608773</td><td> 9</td><td> 2</td><td>2</td><td></td><td>NA</td><td>Z800</td><td>NA</td></tr>\n",
       "\t<tr><td>6001729</td><td> 4</td><td> 8</td><td>2</td><td></td><td>NA</td><td>N183</td><td>NA</td></tr>\n",
       "\t<tr><td>4368516</td><td>17</td><td>11</td><td>2</td><td></td><td>NA</td><td>Z888</td><td>NA</td></tr>\n",
       "\t<tr><td>2005154</td><td>42</td><td> 1</td><td>2</td><td></td><td>NA</td><td>M059</td><td>NA</td></tr>\n",
       "\t<tr><td>5649606</td><td> 4</td><td> 8</td><td>2</td><td></td><td>NA</td><td>R001</td><td>NA</td></tr>\n",
       "</tbody>\n",
       "</table>\n"
      ],
      "text/latex": [
       "A data.table: 6 × 8\n",
       "\\begin{tabular}{llllllll}\n",
       " eid & ins\\_index & arr\\_index & level & diag\\_icd9 & diag\\_icd9\\_nb & diag\\_icd10 & diag\\_icd10\\_nb\\\\\n",
       " <int> & <int> & <int> & <int> & <chr> & <lgl> & <chr> & <int>\\\\\n",
       "\\hline\n",
       "\t 1582101 &  0 &  0 & 1 &  & NA & D140 & NA\\\\\n",
       "\t 1608773 &  9 &  2 & 2 &  & NA & Z800 & NA\\\\\n",
       "\t 6001729 &  4 &  8 & 2 &  & NA & N183 & NA\\\\\n",
       "\t 4368516 & 17 & 11 & 2 &  & NA & Z888 & NA\\\\\n",
       "\t 2005154 & 42 &  1 & 2 &  & NA & M059 & NA\\\\\n",
       "\t 5649606 &  4 &  8 & 2 &  & NA & R001 & NA\\\\\n",
       "\\end{tabular}\n"
      ],
      "text/markdown": [
       "\n",
       "A data.table: 6 × 8\n",
       "\n",
       "| eid &lt;int&gt; | ins_index &lt;int&gt; | arr_index &lt;int&gt; | level &lt;int&gt; | diag_icd9 &lt;chr&gt; | diag_icd9_nb &lt;lgl&gt; | diag_icd10 &lt;chr&gt; | diag_icd10_nb &lt;int&gt; |\n",
       "|---|---|---|---|---|---|---|---|\n",
       "| 1582101 |  0 |  0 | 1 | <!----> | NA | D140 | NA |\n",
       "| 1608773 |  9 |  2 | 2 | <!----> | NA | Z800 | NA |\n",
       "| 6001729 |  4 |  8 | 2 | <!----> | NA | N183 | NA |\n",
       "| 4368516 | 17 | 11 | 2 | <!----> | NA | Z888 | NA |\n",
       "| 2005154 | 42 |  1 | 2 | <!----> | NA | M059 | NA |\n",
       "| 5649606 |  4 |  8 | 2 | <!----> | NA | R001 | NA |\n",
       "\n"
      ],
      "text/plain": [
       "  eid     ins_index arr_index level diag_icd9 diag_icd9_nb diag_icd10\n",
       "1 1582101  0         0        1               NA           D140      \n",
       "2 1608773  9         2        2               NA           Z800      \n",
       "3 6001729  4         8        2               NA           N183      \n",
       "4 4368516 17        11        2               NA           Z888      \n",
       "5 2005154 42         1        2               NA           M059      \n",
       "6 5649606  4         8        2               NA           R001      \n",
       "  diag_icd10_nb\n",
       "1 NA           \n",
       "2 NA           \n",
       "3 NA           \n",
       "4 NA           \n",
       "5 NA           \n",
       "6 NA           "
      ]
     },
     "metadata": {},
     "output_type": "display_data"
    }
   ],
   "source": [
    "head(hes_diag.test)\n",
    "head(hes_diag.dat_1)"
   ]
  },
  {
   "cell_type": "code",
   "execution_count": 11,
   "id": "c962ed21-f5cb-4646-b082-36b919915e83",
   "metadata": {},
   "outputs": [
    {
     "data": {
      "text/plain": [
       "\n",
       "   FALSE     TRUE \n",
       "17418800    73307 "
      ]
     },
     "metadata": {},
     "output_type": "display_data"
    }
   ],
   "source": [
    "table(hes_diag.dat_1$diag_icd9 != \"\")"
   ]
  },
  {
   "cell_type": "code",
   "execution_count": 10,
   "id": "e74f2c3e-0474-4718-8686-9ffda5fe9345",
   "metadata": {},
   "outputs": [
    {
     "data": {
      "text/html": [
       "<table class=\"dataframe\">\n",
       "<caption>A data.table: 6 × 8</caption>\n",
       "<thead>\n",
       "\t<tr><th scope=col>eid</th><th scope=col>ins_index</th><th scope=col>arr_index</th><th scope=col>level</th><th scope=col>diag_icd9</th><th scope=col>diag_icd9_nb</th><th scope=col>diag_icd10</th><th scope=col>diag_icd10_nb</th></tr>\n",
       "\t<tr><th scope=col>&lt;int&gt;</th><th scope=col>&lt;int&gt;</th><th scope=col>&lt;int&gt;</th><th scope=col>&lt;int&gt;</th><th scope=col>&lt;chr&gt;</th><th scope=col>&lt;lgl&gt;</th><th scope=col>&lt;chr&gt;</th><th scope=col>&lt;int&gt;</th></tr>\n",
       "</thead>\n",
       "<tbody>\n",
       "\t<tr><td>1582101</td><td> 0</td><td> 0</td><td>1</td><td></td><td>NA</td><td>D140</td><td>NA</td></tr>\n",
       "\t<tr><td>1608773</td><td> 9</td><td> 2</td><td>2</td><td></td><td>NA</td><td>Z800</td><td>NA</td></tr>\n",
       "\t<tr><td>6001729</td><td> 4</td><td> 8</td><td>2</td><td></td><td>NA</td><td>N183</td><td>NA</td></tr>\n",
       "\t<tr><td>4368516</td><td>17</td><td>11</td><td>2</td><td></td><td>NA</td><td>Z888</td><td>NA</td></tr>\n",
       "\t<tr><td>2005154</td><td>42</td><td> 1</td><td>2</td><td></td><td>NA</td><td>M059</td><td>NA</td></tr>\n",
       "\t<tr><td>5649606</td><td> 4</td><td> 8</td><td>2</td><td></td><td>NA</td><td>R001</td><td>NA</td></tr>\n",
       "</tbody>\n",
       "</table>\n"
      ],
      "text/latex": [
       "A data.table: 6 × 8\n",
       "\\begin{tabular}{llllllll}\n",
       " eid & ins\\_index & arr\\_index & level & diag\\_icd9 & diag\\_icd9\\_nb & diag\\_icd10 & diag\\_icd10\\_nb\\\\\n",
       " <int> & <int> & <int> & <int> & <chr> & <lgl> & <chr> & <int>\\\\\n",
       "\\hline\n",
       "\t 1582101 &  0 &  0 & 1 &  & NA & D140 & NA\\\\\n",
       "\t 1608773 &  9 &  2 & 2 &  & NA & Z800 & NA\\\\\n",
       "\t 6001729 &  4 &  8 & 2 &  & NA & N183 & NA\\\\\n",
       "\t 4368516 & 17 & 11 & 2 &  & NA & Z888 & NA\\\\\n",
       "\t 2005154 & 42 &  1 & 2 &  & NA & M059 & NA\\\\\n",
       "\t 5649606 &  4 &  8 & 2 &  & NA & R001 & NA\\\\\n",
       "\\end{tabular}\n"
      ],
      "text/markdown": [
       "\n",
       "A data.table: 6 × 8\n",
       "\n",
       "| eid &lt;int&gt; | ins_index &lt;int&gt; | arr_index &lt;int&gt; | level &lt;int&gt; | diag_icd9 &lt;chr&gt; | diag_icd9_nb &lt;lgl&gt; | diag_icd10 &lt;chr&gt; | diag_icd10_nb &lt;int&gt; |\n",
       "|---|---|---|---|---|---|---|---|\n",
       "| 1582101 |  0 |  0 | 1 | <!----> | NA | D140 | NA |\n",
       "| 1608773 |  9 |  2 | 2 | <!----> | NA | Z800 | NA |\n",
       "| 6001729 |  4 |  8 | 2 | <!----> | NA | N183 | NA |\n",
       "| 4368516 | 17 | 11 | 2 | <!----> | NA | Z888 | NA |\n",
       "| 2005154 | 42 |  1 | 2 | <!----> | NA | M059 | NA |\n",
       "| 5649606 |  4 |  8 | 2 | <!----> | NA | R001 | NA |\n",
       "\n"
      ],
      "text/plain": [
       "  eid     ins_index arr_index level diag_icd9 diag_icd9_nb diag_icd10\n",
       "1 1582101  0         0        1               NA           D140      \n",
       "2 1608773  9         2        2               NA           Z800      \n",
       "3 6001729  4         8        2               NA           N183      \n",
       "4 4368516 17        11        2               NA           Z888      \n",
       "5 2005154 42         1        2               NA           M059      \n",
       "6 5649606  4         8        2               NA           R001      \n",
       "  diag_icd10_nb\n",
       "1 NA           \n",
       "2 NA           \n",
       "3 NA           \n",
       "4 NA           \n",
       "5 NA           \n",
       "6 NA           "
      ]
     },
     "metadata": {},
     "output_type": "display_data"
    }
   ],
   "source": [
    "head(hes_diag.dat_1)"
   ]
  },
  {
   "cell_type": "markdown",
   "id": "ced6d619-cf7c-470a-83c0-dc8358db134a",
   "metadata": {},
   "source": [
    "##  HES OPER"
   ]
  },
  {
   "cell_type": "markdown",
   "id": "6d6cb290-5fe4-4623-9404-948a7ec01188",
   "metadata": {},
   "source": [
    "### there is no example in the toy data of DeepPheWAS. \n",
    "\n",
    "### this is how the actual data look like:  \n",
    "dnx_hesin_oper_id,dnx_hesin_id,eid,ins_index,preopdur,arr_index,level,opdate,oper3,oper3_nb,oper4,oper4_nb,posopdur  \n",
    "5943461-4-0,5943461-4,5943461,4,0,0,1,2015-12-04,,,W822,,0  \n",
    "2737240-12-8,2737240-12,2737240,12,,8,2,2016-02-26,,,K634,,  \n",
    "2144453-4-14,2144453-4,2144453,4,,14,2,2016-09-27,,,E492,,  \n",
    "1130149-0-2,1130149-0,1130149,0,,2,2,2011-09-01,,,Y819,,  \n",
    "5378562-0-4,5378562-0,5378562,0,,4,2,2014-01-29,,,Y767,,  \n",
    "4844568-6-0,4844568-6,4844568,6,,0,1,,,,X998,,  \n",
    "2771898-46-2,2771898-46,2771898,46,,2,2,2015-09-17,,,X292,,  \n",
    "3197112-23-2,3197112-23,3197112,23,,2,2,2017-04-12,,,Z246,,  \n",
    "4246416-1-0,4246416-1,4246416,1,0,0,1,2013-02-16,,,G451,,0  \n",
    "  \n"
   ]
  },
  {
   "cell_type": "code",
   "execution_count": 5,
   "id": "b1ddd0ca-84a7-4135-9a32-266156a17ef7",
   "metadata": {},
   "outputs": [],
   "source": [
    "hes_oper.dat=as.data.table(fread(paste0(real.dat,\"hesin_oper_data.csv\")))"
   ]
  },
  {
   "cell_type": "code",
   "execution_count": 6,
   "id": "49f43d15-f359-45bf-ad71-b2c77a912fe9",
   "metadata": {},
   "outputs": [
    {
     "data": {
      "text/html": [
       "<table class=\"dataframe\">\n",
       "<caption>A data.table: 6 × 11</caption>\n",
       "<thead>\n",
       "\t<tr><th scope=col>eid</th><th scope=col>ins_index</th><th scope=col>preopdur</th><th scope=col>arr_index</th><th scope=col>level</th><th scope=col>opdate</th><th scope=col>oper3</th><th scope=col>oper3_nb</th><th scope=col>oper4</th><th scope=col>oper4_nb</th><th scope=col>posopdur</th></tr>\n",
       "\t<tr><th scope=col>&lt;int&gt;</th><th scope=col>&lt;int&gt;</th><th scope=col>&lt;int&gt;</th><th scope=col>&lt;int&gt;</th><th scope=col>&lt;int&gt;</th><th scope=col>&lt;IDate&gt;</th><th scope=col>&lt;int&gt;</th><th scope=col>&lt;lgl&gt;</th><th scope=col>&lt;chr&gt;</th><th scope=col>&lt;lgl&gt;</th><th scope=col>&lt;int&gt;</th></tr>\n",
       "</thead>\n",
       "<tbody>\n",
       "\t<tr><td>5943461</td><td> 4</td><td> 0</td><td> 0</td><td>1</td><td>2015-12-04</td><td>NA</td><td>NA</td><td>W822</td><td>NA</td><td> 0</td></tr>\n",
       "\t<tr><td>2737240</td><td>12</td><td>NA</td><td> 8</td><td>2</td><td>2016-02-26</td><td>NA</td><td>NA</td><td>K634</td><td>NA</td><td>NA</td></tr>\n",
       "\t<tr><td>2144453</td><td> 4</td><td>NA</td><td>14</td><td>2</td><td>2016-09-27</td><td>NA</td><td>NA</td><td>E492</td><td>NA</td><td>NA</td></tr>\n",
       "\t<tr><td>1130149</td><td> 0</td><td>NA</td><td> 2</td><td>2</td><td>2011-09-01</td><td>NA</td><td>NA</td><td>Y819</td><td>NA</td><td>NA</td></tr>\n",
       "\t<tr><td>5378562</td><td> 0</td><td>NA</td><td> 4</td><td>2</td><td>2014-01-29</td><td>NA</td><td>NA</td><td>Y767</td><td>NA</td><td>NA</td></tr>\n",
       "\t<tr><td>4844568</td><td> 6</td><td>NA</td><td> 0</td><td>1</td><td>NA</td><td>NA</td><td>NA</td><td>X998</td><td>NA</td><td>NA</td></tr>\n",
       "</tbody>\n",
       "</table>\n"
      ],
      "text/latex": [
       "A data.table: 6 × 11\n",
       "\\begin{tabular}{lllllllllll}\n",
       " eid & ins\\_index & preopdur & arr\\_index & level & opdate & oper3 & oper3\\_nb & oper4 & oper4\\_nb & posopdur\\\\\n",
       " <int> & <int> & <int> & <int> & <int> & <IDate> & <int> & <lgl> & <chr> & <lgl> & <int>\\\\\n",
       "\\hline\n",
       "\t 5943461 &  4 &  0 &  0 & 1 & 2015-12-04 & NA & NA & W822 & NA &  0\\\\\n",
       "\t 2737240 & 12 & NA &  8 & 2 & 2016-02-26 & NA & NA & K634 & NA & NA\\\\\n",
       "\t 2144453 &  4 & NA & 14 & 2 & 2016-09-27 & NA & NA & E492 & NA & NA\\\\\n",
       "\t 1130149 &  0 & NA &  2 & 2 & 2011-09-01 & NA & NA & Y819 & NA & NA\\\\\n",
       "\t 5378562 &  0 & NA &  4 & 2 & 2014-01-29 & NA & NA & Y767 & NA & NA\\\\\n",
       "\t 4844568 &  6 & NA &  0 & 1 & NA & NA & NA & X998 & NA & NA\\\\\n",
       "\\end{tabular}\n"
      ],
      "text/markdown": [
       "\n",
       "A data.table: 6 × 11\n",
       "\n",
       "| eid &lt;int&gt; | ins_index &lt;int&gt; | preopdur &lt;int&gt; | arr_index &lt;int&gt; | level &lt;int&gt; | opdate &lt;IDate&gt; | oper3 &lt;int&gt; | oper3_nb &lt;lgl&gt; | oper4 &lt;chr&gt; | oper4_nb &lt;lgl&gt; | posopdur &lt;int&gt; |\n",
       "|---|---|---|---|---|---|---|---|---|---|---|\n",
       "| 5943461 |  4 |  0 |  0 | 1 | 2015-12-04 | NA | NA | W822 | NA |  0 |\n",
       "| 2737240 | 12 | NA |  8 | 2 | 2016-02-26 | NA | NA | K634 | NA | NA |\n",
       "| 2144453 |  4 | NA | 14 | 2 | 2016-09-27 | NA | NA | E492 | NA | NA |\n",
       "| 1130149 |  0 | NA |  2 | 2 | 2011-09-01 | NA | NA | Y819 | NA | NA |\n",
       "| 5378562 |  0 | NA |  4 | 2 | 2014-01-29 | NA | NA | Y767 | NA | NA |\n",
       "| 4844568 |  6 | NA |  0 | 1 | NA | NA | NA | X998 | NA | NA |\n",
       "\n"
      ],
      "text/plain": [
       "  eid     ins_index preopdur arr_index level opdate     oper3 oper3_nb oper4\n",
       "1 5943461  4         0        0        1     2015-12-04 NA    NA       W822 \n",
       "2 2737240 12        NA        8        2     2016-02-26 NA    NA       K634 \n",
       "3 2144453  4        NA       14        2     2016-09-27 NA    NA       E492 \n",
       "4 1130149  0        NA        2        2     2011-09-01 NA    NA       Y819 \n",
       "5 5378562  0        NA        4        2     2014-01-29 NA    NA       Y767 \n",
       "6 4844568  6        NA        0        1     <NA>       NA    NA       X998 \n",
       "  oper4_nb posopdur\n",
       "1 NA        0      \n",
       "2 NA       NA      \n",
       "3 NA       NA      \n",
       "4 NA       NA      \n",
       "5 NA       NA      \n",
       "6 NA       NA      "
      ]
     },
     "metadata": {},
     "output_type": "display_data"
    }
   ],
   "source": [
    "hes_oper.dat=hes_oper.dat[,3:ncol(hes_oper.dat)]\n",
    "head(hes_oper.dat)"
   ]
  },
  {
   "cell_type": "code",
   "execution_count": 8,
   "id": "62b4ad47-16d0-4338-bbfc-f3c631905468",
   "metadata": {},
   "outputs": [
    {
     "data": {
      "text/html": [
       "<table class=\"dataframe\">\n",
       "<caption>A data.table: 6 × 11</caption>\n",
       "<thead>\n",
       "\t<tr><th scope=col>eid</th><th scope=col>ins_index</th><th scope=col>preopdur</th><th scope=col>arr_index</th><th scope=col>level</th><th scope=col>opdate</th><th scope=col>oper3</th><th scope=col>oper3_nb</th><th scope=col>oper4</th><th scope=col>oper4_nb</th><th scope=col>posopdur</th></tr>\n",
       "\t<tr><th scope=col>&lt;int&gt;</th><th scope=col>&lt;int&gt;</th><th scope=col>&lt;int&gt;</th><th scope=col>&lt;int&gt;</th><th scope=col>&lt;int&gt;</th><th scope=col>&lt;chr&gt;</th><th scope=col>&lt;int&gt;</th><th scope=col>&lt;lgl&gt;</th><th scope=col>&lt;chr&gt;</th><th scope=col>&lt;lgl&gt;</th><th scope=col>&lt;int&gt;</th></tr>\n",
       "</thead>\n",
       "<tbody>\n",
       "\t<tr><td>5943461</td><td> 4</td><td> 0</td><td> 0</td><td>1</td><td>04/12/2015</td><td>NA</td><td>NA</td><td>W822</td><td>NA</td><td> 0</td></tr>\n",
       "\t<tr><td>2737240</td><td>12</td><td>NA</td><td> 8</td><td>2</td><td>26/02/2016</td><td>NA</td><td>NA</td><td>K634</td><td>NA</td><td>NA</td></tr>\n",
       "\t<tr><td>2144453</td><td> 4</td><td>NA</td><td>14</td><td>2</td><td>27/09/2016</td><td>NA</td><td>NA</td><td>E492</td><td>NA</td><td>NA</td></tr>\n",
       "\t<tr><td>1130149</td><td> 0</td><td>NA</td><td> 2</td><td>2</td><td>01/09/2011</td><td>NA</td><td>NA</td><td>Y819</td><td>NA</td><td>NA</td></tr>\n",
       "\t<tr><td>5378562</td><td> 0</td><td>NA</td><td> 4</td><td>2</td><td>29/01/2014</td><td>NA</td><td>NA</td><td>Y767</td><td>NA</td><td>NA</td></tr>\n",
       "\t<tr><td>4844568</td><td> 6</td><td>NA</td><td> 0</td><td>1</td><td>NA        </td><td>NA</td><td>NA</td><td>X998</td><td>NA</td><td>NA</td></tr>\n",
       "</tbody>\n",
       "</table>\n"
      ],
      "text/latex": [
       "A data.table: 6 × 11\n",
       "\\begin{tabular}{lllllllllll}\n",
       " eid & ins\\_index & preopdur & arr\\_index & level & opdate & oper3 & oper3\\_nb & oper4 & oper4\\_nb & posopdur\\\\\n",
       " <int> & <int> & <int> & <int> & <int> & <chr> & <int> & <lgl> & <chr> & <lgl> & <int>\\\\\n",
       "\\hline\n",
       "\t 5943461 &  4 &  0 &  0 & 1 & 04/12/2015 & NA & NA & W822 & NA &  0\\\\\n",
       "\t 2737240 & 12 & NA &  8 & 2 & 26/02/2016 & NA & NA & K634 & NA & NA\\\\\n",
       "\t 2144453 &  4 & NA & 14 & 2 & 27/09/2016 & NA & NA & E492 & NA & NA\\\\\n",
       "\t 1130149 &  0 & NA &  2 & 2 & 01/09/2011 & NA & NA & Y819 & NA & NA\\\\\n",
       "\t 5378562 &  0 & NA &  4 & 2 & 29/01/2014 & NA & NA & Y767 & NA & NA\\\\\n",
       "\t 4844568 &  6 & NA &  0 & 1 & NA         & NA & NA & X998 & NA & NA\\\\\n",
       "\\end{tabular}\n"
      ],
      "text/markdown": [
       "\n",
       "A data.table: 6 × 11\n",
       "\n",
       "| eid &lt;int&gt; | ins_index &lt;int&gt; | preopdur &lt;int&gt; | arr_index &lt;int&gt; | level &lt;int&gt; | opdate &lt;chr&gt; | oper3 &lt;int&gt; | oper3_nb &lt;lgl&gt; | oper4 &lt;chr&gt; | oper4_nb &lt;lgl&gt; | posopdur &lt;int&gt; |\n",
       "|---|---|---|---|---|---|---|---|---|---|---|\n",
       "| 5943461 |  4 |  0 |  0 | 1 | 04/12/2015 | NA | NA | W822 | NA |  0 |\n",
       "| 2737240 | 12 | NA |  8 | 2 | 26/02/2016 | NA | NA | K634 | NA | NA |\n",
       "| 2144453 |  4 | NA | 14 | 2 | 27/09/2016 | NA | NA | E492 | NA | NA |\n",
       "| 1130149 |  0 | NA |  2 | 2 | 01/09/2011 | NA | NA | Y819 | NA | NA |\n",
       "| 5378562 |  0 | NA |  4 | 2 | 29/01/2014 | NA | NA | Y767 | NA | NA |\n",
       "| 4844568 |  6 | NA |  0 | 1 | NA         | NA | NA | X998 | NA | NA |\n",
       "\n"
      ],
      "text/plain": [
       "  eid     ins_index preopdur arr_index level opdate     oper3 oper3_nb oper4\n",
       "1 5943461  4         0        0        1     04/12/2015 NA    NA       W822 \n",
       "2 2737240 12        NA        8        2     26/02/2016 NA    NA       K634 \n",
       "3 2144453  4        NA       14        2     27/09/2016 NA    NA       E492 \n",
       "4 1130149  0        NA        2        2     01/09/2011 NA    NA       Y819 \n",
       "5 5378562  0        NA        4        2     29/01/2014 NA    NA       Y767 \n",
       "6 4844568  6        NA        0        1     NA         NA    NA       X998 \n",
       "  oper4_nb posopdur\n",
       "1 NA        0      \n",
       "2 NA       NA      \n",
       "3 NA       NA      \n",
       "4 NA       NA      \n",
       "5 NA       NA      \n",
       "6 NA       NA      "
      ]
     },
     "metadata": {},
     "output_type": "display_data"
    }
   ],
   "source": [
    "hes_oper.dat$opdate=as.character(format(as.Date(hes_oper.dat$opdate, format=\"%Y-%m-%d\"), \"%d/%m/%Y\"))\n",
    "head(hes_oper.dat)"
   ]
  },
  {
   "cell_type": "code",
   "execution_count": 9,
   "id": "27cf80ad-986b-4ddc-8e90-d6622084273a",
   "metadata": {},
   "outputs": [],
   "source": [
    "fwrite(hes_oper.dat,paste0(real.dat,\"hesin_oper_data_harmonized.csv\"),quote=FALSE) "
   ]
  },
  {
   "cell_type": "markdown",
   "id": "dc4426c6-8749-437e-9223-0094eb31b7f7",
   "metadata": {},
   "source": [
    "##  DEATH DATE"
   ]
  },
  {
   "cell_type": "markdown",
   "id": "6a8b0ee6-f4f9-403b-8a37-dbd36b094391",
   "metadata": {},
   "source": [
    "### this is how the test data look like: \n",
    "eid,ins_index,dsource,source,date_of_death  \n",
    "1021852,2,E/W,1,30-10-2012  \n",
    "1050078,2,E/W,1,13-03-2016  \n",
    "1041913,2,E/W,2,03-07-2011  \n",
    "1002034,2,E/W,1,03-02-2013  \n",
    "1062852,2,SCOT,53,08-04-2017 \n",
    "1065876,2,E/W,2,05-09-2012  \n",
    "\n",
    "### this is how the actual data look like: \n",
    "dnx_death_id,eid,ins_index,dsource,source,date_of_death  \n",
    "2157403-0,2157403,0,E/W,2,2018-01-02  \n",
    "4092977-0,4092977,0,E/W,2,2019-07-25  \n",
    "5965774-0,5965774,0,E/W,52,2021-02-02  \n",
    "5868877-0,5868877,0,E/W,2,2013-09-24  \n",
    "4221402-0,4221402,0,E/W,52,2022-02-03  \n",
    "3497637-0,3497637,0,E/W,2,2019-09-06  \n",
    "4494159-0,4494159,0,SCOT,19,2009-04-05  \n",
    "3645894-0,3645894,0,E/W,52,2022-07-25  \n",
    "3613617-0,3613617,0,E/W,2,2016-05-02  \n"
   ]
  },
  {
   "cell_type": "code",
   "execution_count": 15,
   "id": "abdca728-2bdc-440e-a6ee-77a8ba48e811",
   "metadata": {},
   "outputs": [],
   "source": [
    "death_date.test=as.data.table(fread(paste0(test.dat,\"death_date.csv\")))\n",
    "death_date.dat=as.data.table(fread(paste0(real.dat,\"death_data.csv\")))"
   ]
  },
  {
   "cell_type": "code",
   "execution_count": 17,
   "id": "ab953eb9-9237-4cdb-99b2-4838645521f1",
   "metadata": {},
   "outputs": [
    {
     "data": {
      "text/html": [
       "<table class=\"dataframe\">\n",
       "<caption>A data.table: 6 × 5</caption>\n",
       "<thead>\n",
       "\t<tr><th scope=col>eid</th><th scope=col>ins_index</th><th scope=col>dsource</th><th scope=col>source</th><th scope=col>date_of_death</th></tr>\n",
       "\t<tr><th scope=col>&lt;int&gt;</th><th scope=col>&lt;int&gt;</th><th scope=col>&lt;chr&gt;</th><th scope=col>&lt;int&gt;</th><th scope=col>&lt;chr&gt;</th></tr>\n",
       "</thead>\n",
       "<tbody>\n",
       "\t<tr><td>1021852</td><td>2</td><td>E/W </td><td> 1</td><td>30-10-2012</td></tr>\n",
       "\t<tr><td>1050078</td><td>2</td><td>E/W </td><td> 1</td><td>13-03-2016</td></tr>\n",
       "\t<tr><td>1041913</td><td>2</td><td>E/W </td><td> 2</td><td>03-07-2011</td></tr>\n",
       "\t<tr><td>1002034</td><td>2</td><td>E/W </td><td> 1</td><td>03-02-2013</td></tr>\n",
       "\t<tr><td>1062852</td><td>2</td><td>SCOT</td><td>53</td><td>08-04-2017</td></tr>\n",
       "\t<tr><td>1065876</td><td>2</td><td>E/W </td><td> 2</td><td>05-09-2012</td></tr>\n",
       "</tbody>\n",
       "</table>\n"
      ],
      "text/latex": [
       "A data.table: 6 × 5\n",
       "\\begin{tabular}{lllll}\n",
       " eid & ins\\_index & dsource & source & date\\_of\\_death\\\\\n",
       " <int> & <int> & <chr> & <int> & <chr>\\\\\n",
       "\\hline\n",
       "\t 1021852 & 2 & E/W  &  1 & 30-10-2012\\\\\n",
       "\t 1050078 & 2 & E/W  &  1 & 13-03-2016\\\\\n",
       "\t 1041913 & 2 & E/W  &  2 & 03-07-2011\\\\\n",
       "\t 1002034 & 2 & E/W  &  1 & 03-02-2013\\\\\n",
       "\t 1062852 & 2 & SCOT & 53 & 08-04-2017\\\\\n",
       "\t 1065876 & 2 & E/W  &  2 & 05-09-2012\\\\\n",
       "\\end{tabular}\n"
      ],
      "text/markdown": [
       "\n",
       "A data.table: 6 × 5\n",
       "\n",
       "| eid &lt;int&gt; | ins_index &lt;int&gt; | dsource &lt;chr&gt; | source &lt;int&gt; | date_of_death &lt;chr&gt; |\n",
       "|---|---|---|---|---|\n",
       "| 1021852 | 2 | E/W  |  1 | 30-10-2012 |\n",
       "| 1050078 | 2 | E/W  |  1 | 13-03-2016 |\n",
       "| 1041913 | 2 | E/W  |  2 | 03-07-2011 |\n",
       "| 1002034 | 2 | E/W  |  1 | 03-02-2013 |\n",
       "| 1062852 | 2 | SCOT | 53 | 08-04-2017 |\n",
       "| 1065876 | 2 | E/W  |  2 | 05-09-2012 |\n",
       "\n"
      ],
      "text/plain": [
       "  eid     ins_index dsource source date_of_death\n",
       "1 1021852 2         E/W      1     30-10-2012   \n",
       "2 1050078 2         E/W      1     13-03-2016   \n",
       "3 1041913 2         E/W      2     03-07-2011   \n",
       "4 1002034 2         E/W      1     03-02-2013   \n",
       "5 1062852 2         SCOT    53     08-04-2017   \n",
       "6 1065876 2         E/W      2     05-09-2012   "
      ]
     },
     "metadata": {},
     "output_type": "display_data"
    },
    {
     "data": {
      "text/html": [
       "<table class=\"dataframe\">\n",
       "<caption>A data.table: 6 × 5</caption>\n",
       "<thead>\n",
       "\t<tr><th scope=col>eid</th><th scope=col>ins_index</th><th scope=col>dsource</th><th scope=col>source</th><th scope=col>date_of_death</th></tr>\n",
       "\t<tr><th scope=col>&lt;int&gt;</th><th scope=col>&lt;int&gt;</th><th scope=col>&lt;chr&gt;</th><th scope=col>&lt;int&gt;</th><th scope=col>&lt;IDate&gt;</th></tr>\n",
       "</thead>\n",
       "<tbody>\n",
       "\t<tr><td>2157403</td><td>0</td><td>E/W</td><td> 2</td><td>2018-01-02</td></tr>\n",
       "\t<tr><td>4092977</td><td>0</td><td>E/W</td><td> 2</td><td>2019-07-25</td></tr>\n",
       "\t<tr><td>5965774</td><td>0</td><td>E/W</td><td>52</td><td>2021-02-02</td></tr>\n",
       "\t<tr><td>5868877</td><td>0</td><td>E/W</td><td> 2</td><td>2013-09-24</td></tr>\n",
       "\t<tr><td>4221402</td><td>0</td><td>E/W</td><td>52</td><td>2022-02-03</td></tr>\n",
       "\t<tr><td>3497637</td><td>0</td><td>E/W</td><td> 2</td><td>2019-09-06</td></tr>\n",
       "</tbody>\n",
       "</table>\n"
      ],
      "text/latex": [
       "A data.table: 6 × 5\n",
       "\\begin{tabular}{lllll}\n",
       " eid & ins\\_index & dsource & source & date\\_of\\_death\\\\\n",
       " <int> & <int> & <chr> & <int> & <IDate>\\\\\n",
       "\\hline\n",
       "\t 2157403 & 0 & E/W &  2 & 2018-01-02\\\\\n",
       "\t 4092977 & 0 & E/W &  2 & 2019-07-25\\\\\n",
       "\t 5965774 & 0 & E/W & 52 & 2021-02-02\\\\\n",
       "\t 5868877 & 0 & E/W &  2 & 2013-09-24\\\\\n",
       "\t 4221402 & 0 & E/W & 52 & 2022-02-03\\\\\n",
       "\t 3497637 & 0 & E/W &  2 & 2019-09-06\\\\\n",
       "\\end{tabular}\n"
      ],
      "text/markdown": [
       "\n",
       "A data.table: 6 × 5\n",
       "\n",
       "| eid &lt;int&gt; | ins_index &lt;int&gt; | dsource &lt;chr&gt; | source &lt;int&gt; | date_of_death &lt;IDate&gt; |\n",
       "|---|---|---|---|---|\n",
       "| 2157403 | 0 | E/W |  2 | 2018-01-02 |\n",
       "| 4092977 | 0 | E/W |  2 | 2019-07-25 |\n",
       "| 5965774 | 0 | E/W | 52 | 2021-02-02 |\n",
       "| 5868877 | 0 | E/W |  2 | 2013-09-24 |\n",
       "| 4221402 | 0 | E/W | 52 | 2022-02-03 |\n",
       "| 3497637 | 0 | E/W |  2 | 2019-09-06 |\n",
       "\n"
      ],
      "text/plain": [
       "  eid     ins_index dsource source date_of_death\n",
       "1 2157403 0         E/W      2     2018-01-02   \n",
       "2 4092977 0         E/W      2     2019-07-25   \n",
       "3 5965774 0         E/W     52     2021-02-02   \n",
       "4 5868877 0         E/W      2     2013-09-24   \n",
       "5 4221402 0         E/W     52     2022-02-03   \n",
       "6 3497637 0         E/W      2     2019-09-06   "
      ]
     },
     "metadata": {},
     "output_type": "display_data"
    }
   ],
   "source": [
    "head(death_date.test)\n",
    "death_date.dat=death_date.dat[,2:ncol(death_date.dat)]\n",
    "head(death_date.dat)\n"
   ]
  },
  {
   "cell_type": "code",
   "execution_count": 18,
   "id": "d1d497fb-9ef8-4cdc-a453-d9b4eff27028",
   "metadata": {},
   "outputs": [],
   "source": [
    "death_date.dat$date_of_death <- as.character(format(as.Date(death_date.dat$date_of_death, format=\"%Y-%m-%d\"), \"%d-%m-%Y\"))"
   ]
  },
  {
   "cell_type": "code",
   "execution_count": 19,
   "id": "c15497cf-35c8-40be-9509-68f232635f2e",
   "metadata": {},
   "outputs": [
    {
     "data": {
      "text/html": [
       "<table class=\"dataframe\">\n",
       "<caption>A data.table: 6 × 5</caption>\n",
       "<thead>\n",
       "\t<tr><th scope=col>eid</th><th scope=col>ins_index</th><th scope=col>dsource</th><th scope=col>source</th><th scope=col>date_of_death</th></tr>\n",
       "\t<tr><th scope=col>&lt;int&gt;</th><th scope=col>&lt;int&gt;</th><th scope=col>&lt;chr&gt;</th><th scope=col>&lt;int&gt;</th><th scope=col>&lt;chr&gt;</th></tr>\n",
       "</thead>\n",
       "<tbody>\n",
       "\t<tr><td>2157403</td><td>0</td><td>E/W</td><td> 2</td><td>02-01-2018</td></tr>\n",
       "\t<tr><td>4092977</td><td>0</td><td>E/W</td><td> 2</td><td>25-07-2019</td></tr>\n",
       "\t<tr><td>5965774</td><td>0</td><td>E/W</td><td>52</td><td>02-02-2021</td></tr>\n",
       "\t<tr><td>5868877</td><td>0</td><td>E/W</td><td> 2</td><td>24-09-2013</td></tr>\n",
       "\t<tr><td>4221402</td><td>0</td><td>E/W</td><td>52</td><td>03-02-2022</td></tr>\n",
       "\t<tr><td>3497637</td><td>0</td><td>E/W</td><td> 2</td><td>06-09-2019</td></tr>\n",
       "</tbody>\n",
       "</table>\n"
      ],
      "text/latex": [
       "A data.table: 6 × 5\n",
       "\\begin{tabular}{lllll}\n",
       " eid & ins\\_index & dsource & source & date\\_of\\_death\\\\\n",
       " <int> & <int> & <chr> & <int> & <chr>\\\\\n",
       "\\hline\n",
       "\t 2157403 & 0 & E/W &  2 & 02-01-2018\\\\\n",
       "\t 4092977 & 0 & E/W &  2 & 25-07-2019\\\\\n",
       "\t 5965774 & 0 & E/W & 52 & 02-02-2021\\\\\n",
       "\t 5868877 & 0 & E/W &  2 & 24-09-2013\\\\\n",
       "\t 4221402 & 0 & E/W & 52 & 03-02-2022\\\\\n",
       "\t 3497637 & 0 & E/W &  2 & 06-09-2019\\\\\n",
       "\\end{tabular}\n"
      ],
      "text/markdown": [
       "\n",
       "A data.table: 6 × 5\n",
       "\n",
       "| eid &lt;int&gt; | ins_index &lt;int&gt; | dsource &lt;chr&gt; | source &lt;int&gt; | date_of_death &lt;chr&gt; |\n",
       "|---|---|---|---|---|\n",
       "| 2157403 | 0 | E/W |  2 | 02-01-2018 |\n",
       "| 4092977 | 0 | E/W |  2 | 25-07-2019 |\n",
       "| 5965774 | 0 | E/W | 52 | 02-02-2021 |\n",
       "| 5868877 | 0 | E/W |  2 | 24-09-2013 |\n",
       "| 4221402 | 0 | E/W | 52 | 03-02-2022 |\n",
       "| 3497637 | 0 | E/W |  2 | 06-09-2019 |\n",
       "\n"
      ],
      "text/plain": [
       "  eid     ins_index dsource source date_of_death\n",
       "1 2157403 0         E/W      2     02-01-2018   \n",
       "2 4092977 0         E/W      2     25-07-2019   \n",
       "3 5965774 0         E/W     52     02-02-2021   \n",
       "4 5868877 0         E/W      2     24-09-2013   \n",
       "5 4221402 0         E/W     52     03-02-2022   \n",
       "6 3497637 0         E/W      2     06-09-2019   "
      ]
     },
     "metadata": {},
     "output_type": "display_data"
    }
   ],
   "source": [
    "head(death_date.dat)"
   ]
  },
  {
   "cell_type": "code",
   "execution_count": 20,
   "id": "92a1e994-8c3b-485a-ab74-ae24d60a184b",
   "metadata": {},
   "outputs": [],
   "source": [
    "fwrite(death_date.dat,paste0(real.dat,\"death_data_harmonized.csv\"),quote=FALSE) "
   ]
  },
  {
   "cell_type": "markdown",
   "id": "18a5451a-d5a6-43bb-9ba2-5d6bfd280677",
   "metadata": {},
   "source": [
    "##  DEATH CAUSE"
   ]
  },
  {
   "cell_type": "markdown",
   "id": "8621835c-e90d-4e1c-a90b-f1b4bedf221a",
   "metadata": {},
   "source": [
    "### this is how the test data look like:  \n",
    "eid,ins_index,arr_index,level,cause_icd10  \n",
    "1021852,2,0,1,S522  \n",
    "1050078,2,1,2,I212  \n",
    "1041913,2,1,1,G418  \n",
    "1002034,2,4,2,C18  \n",
    "  \n",
    "### this is how the actual data look like:  \n",
    "dnx_death_cause_id,dnx_death_id,eid,ins_index,arr_index,level,cause_icd10  \n",
    "5835211-0-4,5835211-0,5835211,0,4,2,I38  \n",
    "3572587-0-1,3572587-0,3572587,0,1,2,F03  \n",
    "2096707-0-0,2096707-0,2096707,0,0,1,U071  \n"
   ]
  },
  {
   "cell_type": "code",
   "execution_count": 21,
   "id": "575ff305-ae74-46d6-a84e-4aad9bf4325e",
   "metadata": {},
   "outputs": [],
   "source": [
    "death.test=as.data.table(fread(paste0(test.dat,\"death.csv\")))\n",
    "death.dat=as.data.table(fread(paste0(real.dat,\"death_cause_data.csv\")))"
   ]
  },
  {
   "cell_type": "code",
   "execution_count": 24,
   "id": "35a52790-92ed-4ce1-9a62-fd8c2da6188a",
   "metadata": {},
   "outputs": [
    {
     "data": {
      "text/html": [
       "<table class=\"dataframe\">\n",
       "<caption>A data.table: 6 × 5</caption>\n",
       "<thead>\n",
       "\t<tr><th scope=col>eid</th><th scope=col>ins_index</th><th scope=col>arr_index</th><th scope=col>level</th><th scope=col>cause_icd10</th></tr>\n",
       "\t<tr><th scope=col>&lt;int&gt;</th><th scope=col>&lt;int&gt;</th><th scope=col>&lt;int&gt;</th><th scope=col>&lt;int&gt;</th><th scope=col>&lt;chr&gt;</th></tr>\n",
       "</thead>\n",
       "<tbody>\n",
       "\t<tr><td>1021852</td><td>2</td><td>0</td><td>1</td><td>S522</td></tr>\n",
       "\t<tr><td>1050078</td><td>2</td><td>1</td><td>2</td><td>I212</td></tr>\n",
       "\t<tr><td>1041913</td><td>2</td><td>1</td><td>1</td><td>G418</td></tr>\n",
       "\t<tr><td>1002034</td><td>2</td><td>4</td><td>2</td><td>C18 </td></tr>\n",
       "\t<tr><td>1062852</td><td>2</td><td>1</td><td>2</td><td>D692</td></tr>\n",
       "\t<tr><td>1065876</td><td>2</td><td>0</td><td>2</td><td>M819</td></tr>\n",
       "</tbody>\n",
       "</table>\n"
      ],
      "text/latex": [
       "A data.table: 6 × 5\n",
       "\\begin{tabular}{lllll}\n",
       " eid & ins\\_index & arr\\_index & level & cause\\_icd10\\\\\n",
       " <int> & <int> & <int> & <int> & <chr>\\\\\n",
       "\\hline\n",
       "\t 1021852 & 2 & 0 & 1 & S522\\\\\n",
       "\t 1050078 & 2 & 1 & 2 & I212\\\\\n",
       "\t 1041913 & 2 & 1 & 1 & G418\\\\\n",
       "\t 1002034 & 2 & 4 & 2 & C18 \\\\\n",
       "\t 1062852 & 2 & 1 & 2 & D692\\\\\n",
       "\t 1065876 & 2 & 0 & 2 & M819\\\\\n",
       "\\end{tabular}\n"
      ],
      "text/markdown": [
       "\n",
       "A data.table: 6 × 5\n",
       "\n",
       "| eid &lt;int&gt; | ins_index &lt;int&gt; | arr_index &lt;int&gt; | level &lt;int&gt; | cause_icd10 &lt;chr&gt; |\n",
       "|---|---|---|---|---|\n",
       "| 1021852 | 2 | 0 | 1 | S522 |\n",
       "| 1050078 | 2 | 1 | 2 | I212 |\n",
       "| 1041913 | 2 | 1 | 1 | G418 |\n",
       "| 1002034 | 2 | 4 | 2 | C18  |\n",
       "| 1062852 | 2 | 1 | 2 | D692 |\n",
       "| 1065876 | 2 | 0 | 2 | M819 |\n",
       "\n"
      ],
      "text/plain": [
       "  eid     ins_index arr_index level cause_icd10\n",
       "1 1021852 2         0         1     S522       \n",
       "2 1050078 2         1         2     I212       \n",
       "3 1041913 2         1         1     G418       \n",
       "4 1002034 2         4         2     C18        \n",
       "5 1062852 2         1         2     D692       \n",
       "6 1065876 2         0         2     M819       "
      ]
     },
     "metadata": {},
     "output_type": "display_data"
    },
    {
     "data": {
      "text/html": [
       "<table class=\"dataframe\">\n",
       "<caption>A data.table: 6 × 5</caption>\n",
       "<thead>\n",
       "\t<tr><th scope=col>eid</th><th scope=col>ins_index</th><th scope=col>arr_index</th><th scope=col>level</th><th scope=col>cause_icd10</th></tr>\n",
       "\t<tr><th scope=col>&lt;int&gt;</th><th scope=col>&lt;int&gt;</th><th scope=col>&lt;int&gt;</th><th scope=col>&lt;int&gt;</th><th scope=col>&lt;chr&gt;</th></tr>\n",
       "</thead>\n",
       "<tbody>\n",
       "\t<tr><td>5835211</td><td>0</td><td>4</td><td>2</td><td>I38 </td></tr>\n",
       "\t<tr><td>3572587</td><td>0</td><td>1</td><td>2</td><td>F03 </td></tr>\n",
       "\t<tr><td>2096707</td><td>0</td><td>0</td><td>1</td><td>U071</td></tr>\n",
       "\t<tr><td>4439082</td><td>0</td><td>1</td><td>2</td><td>R58 </td></tr>\n",
       "\t<tr><td>5214480</td><td>0</td><td>0</td><td>1</td><td>I608</td></tr>\n",
       "\t<tr><td>4909349</td><td>0</td><td>3</td><td>2</td><td>C787</td></tr>\n",
       "</tbody>\n",
       "</table>\n"
      ],
      "text/latex": [
       "A data.table: 6 × 5\n",
       "\\begin{tabular}{lllll}\n",
       " eid & ins\\_index & arr\\_index & level & cause\\_icd10\\\\\n",
       " <int> & <int> & <int> & <int> & <chr>\\\\\n",
       "\\hline\n",
       "\t 5835211 & 0 & 4 & 2 & I38 \\\\\n",
       "\t 3572587 & 0 & 1 & 2 & F03 \\\\\n",
       "\t 2096707 & 0 & 0 & 1 & U071\\\\\n",
       "\t 4439082 & 0 & 1 & 2 & R58 \\\\\n",
       "\t 5214480 & 0 & 0 & 1 & I608\\\\\n",
       "\t 4909349 & 0 & 3 & 2 & C787\\\\\n",
       "\\end{tabular}\n"
      ],
      "text/markdown": [
       "\n",
       "A data.table: 6 × 5\n",
       "\n",
       "| eid &lt;int&gt; | ins_index &lt;int&gt; | arr_index &lt;int&gt; | level &lt;int&gt; | cause_icd10 &lt;chr&gt; |\n",
       "|---|---|---|---|---|\n",
       "| 5835211 | 0 | 4 | 2 | I38  |\n",
       "| 3572587 | 0 | 1 | 2 | F03  |\n",
       "| 2096707 | 0 | 0 | 1 | U071 |\n",
       "| 4439082 | 0 | 1 | 2 | R58  |\n",
       "| 5214480 | 0 | 0 | 1 | I608 |\n",
       "| 4909349 | 0 | 3 | 2 | C787 |\n",
       "\n"
      ],
      "text/plain": [
       "  eid     ins_index arr_index level cause_icd10\n",
       "1 5835211 0         4         2     I38        \n",
       "2 3572587 0         1         2     F03        \n",
       "3 2096707 0         0         1     U071       \n",
       "4 4439082 0         1         2     R58        \n",
       "5 5214480 0         0         1     I608       \n",
       "6 4909349 0         3         2     C787       "
      ]
     },
     "metadata": {},
     "output_type": "display_data"
    }
   ],
   "source": [
    "head(death.test)\n",
    "death.dat=death.dat[,3:ncol(death.dat)]\n",
    "head(death.dat)"
   ]
  },
  {
   "cell_type": "code",
   "execution_count": 25,
   "id": "5dfced54-e10a-4e1a-9339-41b4c559b345",
   "metadata": {},
   "outputs": [],
   "source": [
    "fwrite(death.dat,paste0(real.dat,\"death_cause_data_harmonized.csv\"),quote=FALSE) "
   ]
  },
  {
   "cell_type": "markdown",
   "id": "2f22778e-c2d1-40c0-8c32-56c8dbd641b3",
   "metadata": {},
   "source": [
    "##  Participant data"
   ]
  },
  {
   "cell_type": "markdown",
   "id": "48994109-5849-4561-89bc-a6f31ca1e563",
   "metadata": {},
   "source": [
    "We will extract exact the columns from the participant data set to match the test data set provided by DeepPheWAS   "
   ]
  },
  {
   "cell_type": "code",
   "execution_count": null,
   "id": "91464f5b-653b-437a-ab85-099eafc09e43",
   "metadata": {},
   "outputs": [
    {
     "name": "stderr",
     "output_type": "stream",
     "text": [
      "Warning message in fread(paste0(real.dat, \"data_ukbformat_rawcode.tsv\")):\n",
      "“Found and resolved improper quoting out-of-sample. First healed line 34827: <<2225190\t1\t\t1\t\t1\t1950\t\t\t24\t\t\t\t24\t\t84.0\t\t89.0\t\t106.0\t\t97.0\t\t174.0\t\t172.0\t\t2\t2007-05-14\t\t2023-07-02\t\t11002\t\t11026\t\t-1.4\t\t\t\t\t\t\t\t\t\t\t\t\t\t\t\t\t\t\t\t\t\t\t\t\t\t\t\t\t\t\t\t\t\t\t\t\t\t\t\t\t\t\t\t\t\t\t\t\t\t\t\t\t\t\t\t\t\t\t\t\t\t\t\t\t\t\t\t\t\t\t\t\t\t\t\t\t\t\t\t\t\t\t\t\t\t\t\t\t\t\t\t\t\t\t\t\t\t\t\t\t\t\t\t\t\t\t\t\t\t\t\t\t\t\t\t\t\t\t\t\t\t\t\t\t\t\t\t\t\t\t\t\t\t\t\t\t\t\t\t\t\t\t\t\t\t\t\t\t\t\t\t\t\t\t\t\t\t\t\t\t\t\t\t\t\t\t\t\t\t\t\t\t\t\t\t\t\t51\t53\t\t\t60\t59\t\t\t9\t\t\t177500\t\t\t533500\t\t\t0\t\t0\t\t0\t\t3\t\t0\t\t0\t\t2\t\t3\t\t\t\t4\t\t3\t\t2\t\t\t\t40\t\t\t\t5\t\t\t\t3\t\t\t\t1\t\t\t\t1\t\t\t\t1\t\t\t\t\t\t\t0\t\t1\t\t\t\t10\t\t5\t\t3\t\t70\t\t15\t\t1\t\t3\t\t55\t\t80\t\t2\t\t2\t\t2\t\t2\t\t\t\t3\t\t\t\t4\t\t\t\t\t\t\t\t\t\t\t\t2\t\t\t\t4\t\t3\t\t3\t\t3\t\t2\t\t-10\t\t>>. If the fields are not quoted (e.g. field separator does not appear within any field), try quote=\"\" to avoid this warning.”\n"
     ]
    }
   ],
   "source": [
    "part.test=as.data.frame(fread(paste0(test.dat,\"ukb_data.csv\")))\n",
    "part.dat=as.data.frame(fread(paste0(real.dat,\"data_ukbformat_rawcode.tsv\")))"
   ]
  },
  {
   "cell_type": "code",
   "execution_count": null,
   "id": "0d362866-703c-4041-b72f-917e4311668d",
   "metadata": {},
   "outputs": [],
   "source": [
    "fields1 = as.data.frame(fread(paste0(real.dat,\"fields-minimum.txt\")))"
   ]
  },
  {
   "cell_type": "code",
   "execution_count": null,
   "id": "77e30455-fa8a-4999-b9be-d40ae793ce71",
   "metadata": {},
   "outputs": [],
   "source": [
    "fields <- as.character(fields1$V1)  # Convert field names to character\n",
    "# Extract column names from UKB dataset\n",
    "ukb_colnames <- colnames(part.dat)\n",
    "# Identify all matching columns that contain the field numbers\n",
    "matching_cols <- ukb_colnames[grepl(paste0(\"^(\", paste(fields, collapse = \"|\"), \")-\"), ukb_colnames)]\n",
    "# Print the extracted column names\n",
    "head(matching_cols)"
   ]
  },
  {
   "cell_type": "code",
   "execution_count": null,
   "id": "68c1c3c8-0497-492f-924d-c2f7eb1162a5",
   "metadata": {},
   "outputs": [],
   "source": [
    "part.dat1=part.dat[,c(\"eid\",matching_cols)]\n",
    "dim(part.dat)\n",
    "dim(part.dat1)"
   ]
  },
  {
   "cell_type": "code",
   "execution_count": null,
   "id": "5cd7f7ac-0ae7-434b-ae50-567602c6e445",
   "metadata": {},
   "outputs": [],
   "source": [
    "head(part.dat1[,grepl(\"20002\",as.character(colnames(part.dat1)))])"
   ]
  },
  {
   "cell_type": "code",
   "execution_count": 16,
   "id": "bbe5fd6f-cb45-43cb-a540-60339f5152ce",
   "metadata": {},
   "outputs": [
    {
     "data": {
      "text/html": [
       "<table class=\"dataframe\">\n",
       "<caption>A data.frame: 6 × 22</caption>\n",
       "<thead>\n",
       "\t<tr><th></th><th scope=col>40005-0.0</th><th scope=col>40005-1.0</th><th scope=col>40005-2.0</th><th scope=col>40005-3.0</th><th scope=col>40005-4.0</th><th scope=col>40005-5.0</th><th scope=col>40005-6.0</th><th scope=col>40005-7.0</th><th scope=col>40005-8.0</th><th scope=col>40005-9.0</th><th scope=col>⋯</th><th scope=col>40005-12.0</th><th scope=col>40005-13.0</th><th scope=col>40005-14.0</th><th scope=col>40005-15.0</th><th scope=col>40005-16.0</th><th scope=col>40005-17.0</th><th scope=col>40005-18.0</th><th scope=col>40005-19.0</th><th scope=col>40005-20.0</th><th scope=col>40005-21.0</th></tr>\n",
       "\t<tr><th></th><th scope=col>&lt;IDate&gt;</th><th scope=col>&lt;IDate&gt;</th><th scope=col>&lt;IDate&gt;</th><th scope=col>&lt;IDate&gt;</th><th scope=col>&lt;IDate&gt;</th><th scope=col>&lt;IDate&gt;</th><th scope=col>&lt;IDate&gt;</th><th scope=col>&lt;IDate&gt;</th><th scope=col>&lt;IDate&gt;</th><th scope=col>&lt;IDate&gt;</th><th scope=col>⋯</th><th scope=col>&lt;IDate&gt;</th><th scope=col>&lt;IDate&gt;</th><th scope=col>&lt;IDate&gt;</th><th scope=col>&lt;IDate&gt;</th><th scope=col>&lt;IDate&gt;</th><th scope=col>&lt;IDate&gt;</th><th scope=col>&lt;IDate&gt;</th><th scope=col>&lt;IDate&gt;</th><th scope=col>&lt;IDate&gt;</th><th scope=col>&lt;IDate&gt;</th></tr>\n",
       "</thead>\n",
       "<tbody>\n",
       "\t<tr><th scope=row>1</th><td>NA</td><td>NA</td><td>NA</td><td>NA</td><td>NA</td><td>NA</td><td>NA</td><td>NA</td><td>NA</td><td>NA</td><td>⋯</td><td>NA</td><td>NA</td><td>NA</td><td>NA</td><td>NA</td><td>NA</td><td>NA</td><td>NA</td><td>NA</td><td>NA</td></tr>\n",
       "\t<tr><th scope=row>2</th><td>1991-06-27</td><td>1991-06-27</td><td>NA</td><td>NA</td><td>NA</td><td>NA</td><td>NA</td><td>NA</td><td>NA</td><td>NA</td><td>⋯</td><td>NA</td><td>NA</td><td>NA</td><td>NA</td><td>NA</td><td>NA</td><td>NA</td><td>NA</td><td>NA</td><td>NA</td></tr>\n",
       "\t<tr><th scope=row>3</th><td>2012-01-23</td><td>2013-01-23</td><td>2013-06-14</td><td>NA</td><td>NA</td><td>NA</td><td>NA</td><td>NA</td><td>NA</td><td>NA</td><td>⋯</td><td>NA</td><td>NA</td><td>NA</td><td>NA</td><td>NA</td><td>NA</td><td>NA</td><td>NA</td><td>NA</td><td>NA</td></tr>\n",
       "\t<tr><th scope=row>4</th><td>NA</td><td>NA</td><td>NA</td><td>NA</td><td>NA</td><td>NA</td><td>NA</td><td>NA</td><td>NA</td><td>NA</td><td>⋯</td><td>NA</td><td>NA</td><td>NA</td><td>NA</td><td>NA</td><td>NA</td><td>NA</td><td>NA</td><td>NA</td><td>NA</td></tr>\n",
       "\t<tr><th scope=row>5</th><td>NA</td><td>NA</td><td>NA</td><td>NA</td><td>NA</td><td>NA</td><td>NA</td><td>NA</td><td>NA</td><td>NA</td><td>⋯</td><td>NA</td><td>NA</td><td>NA</td><td>NA</td><td>NA</td><td>NA</td><td>NA</td><td>NA</td><td>NA</td><td>NA</td></tr>\n",
       "\t<tr><th scope=row>6</th><td>NA</td><td>NA</td><td>NA</td><td>NA</td><td>NA</td><td>NA</td><td>NA</td><td>NA</td><td>NA</td><td>NA</td><td>⋯</td><td>NA</td><td>NA</td><td>NA</td><td>NA</td><td>NA</td><td>NA</td><td>NA</td><td>NA</td><td>NA</td><td>NA</td></tr>\n",
       "</tbody>\n",
       "</table>\n"
      ],
      "text/latex": [
       "A data.frame: 6 × 22\n",
       "\\begin{tabular}{r|lllllllllllllllllllll}\n",
       "  & 40005-0.0 & 40005-1.0 & 40005-2.0 & 40005-3.0 & 40005-4.0 & 40005-5.0 & 40005-6.0 & 40005-7.0 & 40005-8.0 & 40005-9.0 & ⋯ & 40005-12.0 & 40005-13.0 & 40005-14.0 & 40005-15.0 & 40005-16.0 & 40005-17.0 & 40005-18.0 & 40005-19.0 & 40005-20.0 & 40005-21.0\\\\\n",
       "  & <IDate> & <IDate> & <IDate> & <IDate> & <IDate> & <IDate> & <IDate> & <IDate> & <IDate> & <IDate> & ⋯ & <IDate> & <IDate> & <IDate> & <IDate> & <IDate> & <IDate> & <IDate> & <IDate> & <IDate> & <IDate>\\\\\n",
       "\\hline\n",
       "\t1 & NA & NA & NA & NA & NA & NA & NA & NA & NA & NA & ⋯ & NA & NA & NA & NA & NA & NA & NA & NA & NA & NA\\\\\n",
       "\t2 & 1991-06-27 & 1991-06-27 & NA & NA & NA & NA & NA & NA & NA & NA & ⋯ & NA & NA & NA & NA & NA & NA & NA & NA & NA & NA\\\\\n",
       "\t3 & 2012-01-23 & 2013-01-23 & 2013-06-14 & NA & NA & NA & NA & NA & NA & NA & ⋯ & NA & NA & NA & NA & NA & NA & NA & NA & NA & NA\\\\\n",
       "\t4 & NA & NA & NA & NA & NA & NA & NA & NA & NA & NA & ⋯ & NA & NA & NA & NA & NA & NA & NA & NA & NA & NA\\\\\n",
       "\t5 & NA & NA & NA & NA & NA & NA & NA & NA & NA & NA & ⋯ & NA & NA & NA & NA & NA & NA & NA & NA & NA & NA\\\\\n",
       "\t6 & NA & NA & NA & NA & NA & NA & NA & NA & NA & NA & ⋯ & NA & NA & NA & NA & NA & NA & NA & NA & NA & NA\\\\\n",
       "\\end{tabular}\n"
      ],
      "text/markdown": [
       "\n",
       "A data.frame: 6 × 22\n",
       "\n",
       "| <!--/--> | 40005-0.0 &lt;IDate&gt; | 40005-1.0 &lt;IDate&gt; | 40005-2.0 &lt;IDate&gt; | 40005-3.0 &lt;IDate&gt; | 40005-4.0 &lt;IDate&gt; | 40005-5.0 &lt;IDate&gt; | 40005-6.0 &lt;IDate&gt; | 40005-7.0 &lt;IDate&gt; | 40005-8.0 &lt;IDate&gt; | 40005-9.0 &lt;IDate&gt; | ⋯ ⋯ | 40005-12.0 &lt;IDate&gt; | 40005-13.0 &lt;IDate&gt; | 40005-14.0 &lt;IDate&gt; | 40005-15.0 &lt;IDate&gt; | 40005-16.0 &lt;IDate&gt; | 40005-17.0 &lt;IDate&gt; | 40005-18.0 &lt;IDate&gt; | 40005-19.0 &lt;IDate&gt; | 40005-20.0 &lt;IDate&gt; | 40005-21.0 &lt;IDate&gt; |\n",
       "|---|---|---|---|---|---|---|---|---|---|---|---|---|---|---|---|---|---|---|---|---|---|\n",
       "| 1 | NA | NA | NA | NA | NA | NA | NA | NA | NA | NA | ⋯ | NA | NA | NA | NA | NA | NA | NA | NA | NA | NA |\n",
       "| 2 | 1991-06-27 | 1991-06-27 | NA | NA | NA | NA | NA | NA | NA | NA | ⋯ | NA | NA | NA | NA | NA | NA | NA | NA | NA | NA |\n",
       "| 3 | 2012-01-23 | 2013-01-23 | 2013-06-14 | NA | NA | NA | NA | NA | NA | NA | ⋯ | NA | NA | NA | NA | NA | NA | NA | NA | NA | NA |\n",
       "| 4 | NA | NA | NA | NA | NA | NA | NA | NA | NA | NA | ⋯ | NA | NA | NA | NA | NA | NA | NA | NA | NA | NA |\n",
       "| 5 | NA | NA | NA | NA | NA | NA | NA | NA | NA | NA | ⋯ | NA | NA | NA | NA | NA | NA | NA | NA | NA | NA |\n",
       "| 6 | NA | NA | NA | NA | NA | NA | NA | NA | NA | NA | ⋯ | NA | NA | NA | NA | NA | NA | NA | NA | NA | NA |\n",
       "\n"
      ],
      "text/plain": [
       "  40005-0.0  40005-1.0  40005-2.0  40005-3.0 40005-4.0 40005-5.0 40005-6.0\n",
       "1 <NA>       <NA>       <NA>       <NA>      <NA>      <NA>      <NA>     \n",
       "2 1991-06-27 1991-06-27 <NA>       <NA>      <NA>      <NA>      <NA>     \n",
       "3 2012-01-23 2013-01-23 2013-06-14 <NA>      <NA>      <NA>      <NA>     \n",
       "4 <NA>       <NA>       <NA>       <NA>      <NA>      <NA>      <NA>     \n",
       "5 <NA>       <NA>       <NA>       <NA>      <NA>      <NA>      <NA>     \n",
       "6 <NA>       <NA>       <NA>       <NA>      <NA>      <NA>      <NA>     \n",
       "  40005-7.0 40005-8.0 40005-9.0 ⋯ 40005-12.0 40005-13.0 40005-14.0 40005-15.0\n",
       "1 <NA>      <NA>      <NA>      ⋯ <NA>       <NA>       <NA>       <NA>      \n",
       "2 <NA>      <NA>      <NA>      ⋯ <NA>       <NA>       <NA>       <NA>      \n",
       "3 <NA>      <NA>      <NA>      ⋯ <NA>       <NA>       <NA>       <NA>      \n",
       "4 <NA>      <NA>      <NA>      ⋯ <NA>       <NA>       <NA>       <NA>      \n",
       "5 <NA>      <NA>      <NA>      ⋯ <NA>       <NA>       <NA>       <NA>      \n",
       "6 <NA>      <NA>      <NA>      ⋯ <NA>       <NA>       <NA>       <NA>      \n",
       "  40005-16.0 40005-17.0 40005-18.0 40005-19.0 40005-20.0 40005-21.0\n",
       "1 <NA>       <NA>       <NA>       <NA>       <NA>       <NA>      \n",
       "2 <NA>       <NA>       <NA>       <NA>       <NA>       <NA>      \n",
       "3 <NA>       <NA>       <NA>       <NA>       <NA>       <NA>      \n",
       "4 <NA>       <NA>       <NA>       <NA>       <NA>       <NA>      \n",
       "5 <NA>       <NA>       <NA>       <NA>       <NA>       <NA>      \n",
       "6 <NA>       <NA>       <NA>       <NA>       <NA>       <NA>      "
      ]
     },
     "metadata": {},
     "output_type": "display_data"
    },
    {
     "data": {
      "text/html": [
       "<table class=\"dataframe\">\n",
       "<caption>A data.frame: 6 × 128</caption>\n",
       "<thead>\n",
       "\t<tr><th></th><th scope=col>20010-0.0</th><th scope=col>20010-0.1</th><th scope=col>20010-0.2</th><th scope=col>20010-0.3</th><th scope=col>20010-0.4</th><th scope=col>20010-0.5</th><th scope=col>20010-0.6</th><th scope=col>20010-0.7</th><th scope=col>20010-0.8</th><th scope=col>20010-0.9</th><th scope=col>⋯</th><th scope=col>20010-3.22</th><th scope=col>20010-3.23</th><th scope=col>20010-3.24</th><th scope=col>20010-3.25</th><th scope=col>20010-3.26</th><th scope=col>20010-3.27</th><th scope=col>20010-3.28</th><th scope=col>20010-3.29</th><th scope=col>20010-3.30</th><th scope=col>20010-3.31</th></tr>\n",
       "\t<tr><th></th><th scope=col>&lt;dbl&gt;</th><th scope=col>&lt;dbl&gt;</th><th scope=col>&lt;dbl&gt;</th><th scope=col>&lt;dbl&gt;</th><th scope=col>&lt;dbl&gt;</th><th scope=col>&lt;dbl&gt;</th><th scope=col>&lt;dbl&gt;</th><th scope=col>&lt;dbl&gt;</th><th scope=col>&lt;dbl&gt;</th><th scope=col>&lt;dbl&gt;</th><th scope=col>⋯</th><th scope=col>&lt;lgl&gt;</th><th scope=col>&lt;lgl&gt;</th><th scope=col>&lt;lgl&gt;</th><th scope=col>&lt;lgl&gt;</th><th scope=col>&lt;lgl&gt;</th><th scope=col>&lt;lgl&gt;</th><th scope=col>&lt;lgl&gt;</th><th scope=col>&lt;lgl&gt;</th><th scope=col>&lt;lgl&gt;</th><th scope=col>&lt;lgl&gt;</th></tr>\n",
       "</thead>\n",
       "<tbody>\n",
       "\t<tr><th scope=row>1</th><td>2002.5</td><td>    NA</td><td>    NA</td><td>    NA</td><td>    NA</td><td>    NA</td><td>NA</td><td>NA</td><td>NA</td><td>NA</td><td>⋯</td><td>NA</td><td>NA</td><td>NA</td><td>NA</td><td>NA</td><td>NA</td><td>NA</td><td>NA</td><td>NA</td><td>NA</td></tr>\n",
       "\t<tr><th scope=row>2</th><td>1991.5</td><td>1997.5</td><td>    NA</td><td>    NA</td><td>    NA</td><td>    NA</td><td>NA</td><td>NA</td><td>NA</td><td>NA</td><td>⋯</td><td>NA</td><td>NA</td><td>NA</td><td>NA</td><td>NA</td><td>NA</td><td>NA</td><td>NA</td><td>NA</td><td>NA</td></tr>\n",
       "\t<tr><th scope=row>3</th><td>1984.5</td><td>    NA</td><td>    NA</td><td>    NA</td><td>    NA</td><td>    NA</td><td>NA</td><td>NA</td><td>NA</td><td>NA</td><td>⋯</td><td>NA</td><td>NA</td><td>NA</td><td>NA</td><td>NA</td><td>NA</td><td>NA</td><td>NA</td><td>NA</td><td>NA</td></tr>\n",
       "\t<tr><th scope=row>4</th><td>1989.1</td><td>1974.5</td><td>    NA</td><td>    NA</td><td>    NA</td><td>    NA</td><td>NA</td><td>NA</td><td>NA</td><td>NA</td><td>⋯</td><td>NA</td><td>NA</td><td>NA</td><td>NA</td><td>NA</td><td>NA</td><td>NA</td><td>NA</td><td>NA</td><td>NA</td></tr>\n",
       "\t<tr><th scope=row>5</th><td>1979.7</td><td>1970.7</td><td>1978.7</td><td>2006.7</td><td>1952.7</td><td>1973.7</td><td>NA</td><td>NA</td><td>NA</td><td>NA</td><td>⋯</td><td>NA</td><td>NA</td><td>NA</td><td>NA</td><td>NA</td><td>NA</td><td>NA</td><td>NA</td><td>NA</td><td>NA</td></tr>\n",
       "\t<tr><th scope=row>6</th><td>    NA</td><td>    NA</td><td>    NA</td><td>    NA</td><td>    NA</td><td>    NA</td><td>NA</td><td>NA</td><td>NA</td><td>NA</td><td>⋯</td><td>NA</td><td>NA</td><td>NA</td><td>NA</td><td>NA</td><td>NA</td><td>NA</td><td>NA</td><td>NA</td><td>NA</td></tr>\n",
       "</tbody>\n",
       "</table>\n"
      ],
      "text/latex": [
       "A data.frame: 6 × 128\n",
       "\\begin{tabular}{r|lllllllllllllllllllll}\n",
       "  & 20010-0.0 & 20010-0.1 & 20010-0.2 & 20010-0.3 & 20010-0.4 & 20010-0.5 & 20010-0.6 & 20010-0.7 & 20010-0.8 & 20010-0.9 & ⋯ & 20010-3.22 & 20010-3.23 & 20010-3.24 & 20010-3.25 & 20010-3.26 & 20010-3.27 & 20010-3.28 & 20010-3.29 & 20010-3.30 & 20010-3.31\\\\\n",
       "  & <dbl> & <dbl> & <dbl> & <dbl> & <dbl> & <dbl> & <dbl> & <dbl> & <dbl> & <dbl> & ⋯ & <lgl> & <lgl> & <lgl> & <lgl> & <lgl> & <lgl> & <lgl> & <lgl> & <lgl> & <lgl>\\\\\n",
       "\\hline\n",
       "\t1 & 2002.5 &     NA &     NA &     NA &     NA &     NA & NA & NA & NA & NA & ⋯ & NA & NA & NA & NA & NA & NA & NA & NA & NA & NA\\\\\n",
       "\t2 & 1991.5 & 1997.5 &     NA &     NA &     NA &     NA & NA & NA & NA & NA & ⋯ & NA & NA & NA & NA & NA & NA & NA & NA & NA & NA\\\\\n",
       "\t3 & 1984.5 &     NA &     NA &     NA &     NA &     NA & NA & NA & NA & NA & ⋯ & NA & NA & NA & NA & NA & NA & NA & NA & NA & NA\\\\\n",
       "\t4 & 1989.1 & 1974.5 &     NA &     NA &     NA &     NA & NA & NA & NA & NA & ⋯ & NA & NA & NA & NA & NA & NA & NA & NA & NA & NA\\\\\n",
       "\t5 & 1979.7 & 1970.7 & 1978.7 & 2006.7 & 1952.7 & 1973.7 & NA & NA & NA & NA & ⋯ & NA & NA & NA & NA & NA & NA & NA & NA & NA & NA\\\\\n",
       "\t6 &     NA &     NA &     NA &     NA &     NA &     NA & NA & NA & NA & NA & ⋯ & NA & NA & NA & NA & NA & NA & NA & NA & NA & NA\\\\\n",
       "\\end{tabular}\n"
      ],
      "text/markdown": [
       "\n",
       "A data.frame: 6 × 128\n",
       "\n",
       "| <!--/--> | 20010-0.0 &lt;dbl&gt; | 20010-0.1 &lt;dbl&gt; | 20010-0.2 &lt;dbl&gt; | 20010-0.3 &lt;dbl&gt; | 20010-0.4 &lt;dbl&gt; | 20010-0.5 &lt;dbl&gt; | 20010-0.6 &lt;dbl&gt; | 20010-0.7 &lt;dbl&gt; | 20010-0.8 &lt;dbl&gt; | 20010-0.9 &lt;dbl&gt; | ⋯ ⋯ | 20010-3.22 &lt;lgl&gt; | 20010-3.23 &lt;lgl&gt; | 20010-3.24 &lt;lgl&gt; | 20010-3.25 &lt;lgl&gt; | 20010-3.26 &lt;lgl&gt; | 20010-3.27 &lt;lgl&gt; | 20010-3.28 &lt;lgl&gt; | 20010-3.29 &lt;lgl&gt; | 20010-3.30 &lt;lgl&gt; | 20010-3.31 &lt;lgl&gt; |\n",
       "|---|---|---|---|---|---|---|---|---|---|---|---|---|---|---|---|---|---|---|---|---|---|\n",
       "| 1 | 2002.5 |     NA |     NA |     NA |     NA |     NA | NA | NA | NA | NA | ⋯ | NA | NA | NA | NA | NA | NA | NA | NA | NA | NA |\n",
       "| 2 | 1991.5 | 1997.5 |     NA |     NA |     NA |     NA | NA | NA | NA | NA | ⋯ | NA | NA | NA | NA | NA | NA | NA | NA | NA | NA |\n",
       "| 3 | 1984.5 |     NA |     NA |     NA |     NA |     NA | NA | NA | NA | NA | ⋯ | NA | NA | NA | NA | NA | NA | NA | NA | NA | NA |\n",
       "| 4 | 1989.1 | 1974.5 |     NA |     NA |     NA |     NA | NA | NA | NA | NA | ⋯ | NA | NA | NA | NA | NA | NA | NA | NA | NA | NA |\n",
       "| 5 | 1979.7 | 1970.7 | 1978.7 | 2006.7 | 1952.7 | 1973.7 | NA | NA | NA | NA | ⋯ | NA | NA | NA | NA | NA | NA | NA | NA | NA | NA |\n",
       "| 6 |     NA |     NA |     NA |     NA |     NA |     NA | NA | NA | NA | NA | ⋯ | NA | NA | NA | NA | NA | NA | NA | NA | NA | NA |\n",
       "\n"
      ],
      "text/plain": [
       "  20010-0.0 20010-0.1 20010-0.2 20010-0.3 20010-0.4 20010-0.5 20010-0.6\n",
       "1 2002.5        NA        NA        NA        NA        NA    NA       \n",
       "2 1991.5    1997.5        NA        NA        NA        NA    NA       \n",
       "3 1984.5        NA        NA        NA        NA        NA    NA       \n",
       "4 1989.1    1974.5        NA        NA        NA        NA    NA       \n",
       "5 1979.7    1970.7    1978.7    2006.7    1952.7    1973.7    NA       \n",
       "6     NA        NA        NA        NA        NA        NA    NA       \n",
       "  20010-0.7 20010-0.8 20010-0.9 ⋯ 20010-3.22 20010-3.23 20010-3.24 20010-3.25\n",
       "1 NA        NA        NA        ⋯ NA         NA         NA         NA        \n",
       "2 NA        NA        NA        ⋯ NA         NA         NA         NA        \n",
       "3 NA        NA        NA        ⋯ NA         NA         NA         NA        \n",
       "4 NA        NA        NA        ⋯ NA         NA         NA         NA        \n",
       "5 NA        NA        NA        ⋯ NA         NA         NA         NA        \n",
       "6 NA        NA        NA        ⋯ NA         NA         NA         NA        \n",
       "  20010-3.26 20010-3.27 20010-3.28 20010-3.29 20010-3.30 20010-3.31\n",
       "1 NA         NA         NA         NA         NA         NA        \n",
       "2 NA         NA         NA         NA         NA         NA        \n",
       "3 NA         NA         NA         NA         NA         NA        \n",
       "4 NA         NA         NA         NA         NA         NA        \n",
       "5 NA         NA         NA         NA         NA         NA        \n",
       "6 NA         NA         NA         NA         NA         NA        "
      ]
     },
     "metadata": {},
     "output_type": "display_data"
    },
    {
     "data": {
      "text/html": [
       "<table class=\"dataframe\">\n",
       "<caption>A data.frame: 6 × 136</caption>\n",
       "<thead>\n",
       "\t<tr><th></th><th scope=col>20008-0.0</th><th scope=col>20008-0.1</th><th scope=col>20008-0.2</th><th scope=col>20008-0.3</th><th scope=col>20008-0.4</th><th scope=col>20008-0.5</th><th scope=col>20008-0.6</th><th scope=col>20008-0.7</th><th scope=col>20008-0.8</th><th scope=col>20008-0.9</th><th scope=col>⋯</th><th scope=col>20008-3.24</th><th scope=col>20008-3.25</th><th scope=col>20008-3.26</th><th scope=col>20008-3.27</th><th scope=col>20008-3.28</th><th scope=col>20008-3.29</th><th scope=col>20008-3.30</th><th scope=col>20008-3.31</th><th scope=col>20008-3.32</th><th scope=col>20008-3.33</th></tr>\n",
       "\t<tr><th></th><th scope=col>&lt;dbl&gt;</th><th scope=col>&lt;dbl&gt;</th><th scope=col>&lt;dbl&gt;</th><th scope=col>&lt;dbl&gt;</th><th scope=col>&lt;dbl&gt;</th><th scope=col>&lt;dbl&gt;</th><th scope=col>&lt;dbl&gt;</th><th scope=col>&lt;dbl&gt;</th><th scope=col>&lt;dbl&gt;</th><th scope=col>&lt;dbl&gt;</th><th scope=col>⋯</th><th scope=col>&lt;lgl&gt;</th><th scope=col>&lt;lgl&gt;</th><th scope=col>&lt;lgl&gt;</th><th scope=col>&lt;lgl&gt;</th><th scope=col>&lt;lgl&gt;</th><th scope=col>&lt;lgl&gt;</th><th scope=col>&lt;lgl&gt;</th><th scope=col>&lt;lgl&gt;</th><th scope=col>&lt;lgl&gt;</th><th scope=col>&lt;lgl&gt;</th></tr>\n",
       "</thead>\n",
       "<tbody>\n",
       "\t<tr><th scope=row>1</th><td>1995.5</td><td>2007.5</td><td>2000.5</td><td>NA</td><td>NA</td><td>NA</td><td>NA</td><td>NA</td><td>NA</td><td>NA</td><td>⋯</td><td>NA</td><td>NA</td><td>NA</td><td>NA</td><td>NA</td><td>NA</td><td>NA</td><td>NA</td><td>NA</td><td>NA</td></tr>\n",
       "\t<tr><th scope=row>2</th><td>1954.0</td><td>2004.5</td><td>    NA</td><td>NA</td><td>NA</td><td>NA</td><td>NA</td><td>NA</td><td>NA</td><td>NA</td><td>⋯</td><td>NA</td><td>NA</td><td>NA</td><td>NA</td><td>NA</td><td>NA</td><td>NA</td><td>NA</td><td>NA</td><td>NA</td></tr>\n",
       "\t<tr><th scope=row>3</th><td>    NA</td><td>    NA</td><td>    NA</td><td>NA</td><td>NA</td><td>NA</td><td>NA</td><td>NA</td><td>NA</td><td>NA</td><td>⋯</td><td>NA</td><td>NA</td><td>NA</td><td>NA</td><td>NA</td><td>NA</td><td>NA</td><td>NA</td><td>NA</td><td>NA</td></tr>\n",
       "\t<tr><th scope=row>4</th><td>2008.1</td><td>2007.5</td><td>    NA</td><td>NA</td><td>NA</td><td>NA</td><td>NA</td><td>NA</td><td>NA</td><td>NA</td><td>⋯</td><td>NA</td><td>NA</td><td>NA</td><td>NA</td><td>NA</td><td>NA</td><td>NA</td><td>NA</td><td>NA</td><td>NA</td></tr>\n",
       "\t<tr><th scope=row>5</th><td>2005.7</td><td>1975.7</td><td>2005.7</td><td>NA</td><td>NA</td><td>NA</td><td>NA</td><td>NA</td><td>NA</td><td>NA</td><td>⋯</td><td>NA</td><td>NA</td><td>NA</td><td>NA</td><td>NA</td><td>NA</td><td>NA</td><td>NA</td><td>NA</td><td>NA</td></tr>\n",
       "\t<tr><th scope=row>6</th><td>1993.9</td><td>    NA</td><td>    NA</td><td>NA</td><td>NA</td><td>NA</td><td>NA</td><td>NA</td><td>NA</td><td>NA</td><td>⋯</td><td>NA</td><td>NA</td><td>NA</td><td>NA</td><td>NA</td><td>NA</td><td>NA</td><td>NA</td><td>NA</td><td>NA</td></tr>\n",
       "</tbody>\n",
       "</table>\n"
      ],
      "text/latex": [
       "A data.frame: 6 × 136\n",
       "\\begin{tabular}{r|lllllllllllllllllllll}\n",
       "  & 20008-0.0 & 20008-0.1 & 20008-0.2 & 20008-0.3 & 20008-0.4 & 20008-0.5 & 20008-0.6 & 20008-0.7 & 20008-0.8 & 20008-0.9 & ⋯ & 20008-3.24 & 20008-3.25 & 20008-3.26 & 20008-3.27 & 20008-3.28 & 20008-3.29 & 20008-3.30 & 20008-3.31 & 20008-3.32 & 20008-3.33\\\\\n",
       "  & <dbl> & <dbl> & <dbl> & <dbl> & <dbl> & <dbl> & <dbl> & <dbl> & <dbl> & <dbl> & ⋯ & <lgl> & <lgl> & <lgl> & <lgl> & <lgl> & <lgl> & <lgl> & <lgl> & <lgl> & <lgl>\\\\\n",
       "\\hline\n",
       "\t1 & 1995.5 & 2007.5 & 2000.5 & NA & NA & NA & NA & NA & NA & NA & ⋯ & NA & NA & NA & NA & NA & NA & NA & NA & NA & NA\\\\\n",
       "\t2 & 1954.0 & 2004.5 &     NA & NA & NA & NA & NA & NA & NA & NA & ⋯ & NA & NA & NA & NA & NA & NA & NA & NA & NA & NA\\\\\n",
       "\t3 &     NA &     NA &     NA & NA & NA & NA & NA & NA & NA & NA & ⋯ & NA & NA & NA & NA & NA & NA & NA & NA & NA & NA\\\\\n",
       "\t4 & 2008.1 & 2007.5 &     NA & NA & NA & NA & NA & NA & NA & NA & ⋯ & NA & NA & NA & NA & NA & NA & NA & NA & NA & NA\\\\\n",
       "\t5 & 2005.7 & 1975.7 & 2005.7 & NA & NA & NA & NA & NA & NA & NA & ⋯ & NA & NA & NA & NA & NA & NA & NA & NA & NA & NA\\\\\n",
       "\t6 & 1993.9 &     NA &     NA & NA & NA & NA & NA & NA & NA & NA & ⋯ & NA & NA & NA & NA & NA & NA & NA & NA & NA & NA\\\\\n",
       "\\end{tabular}\n"
      ],
      "text/markdown": [
       "\n",
       "A data.frame: 6 × 136\n",
       "\n",
       "| <!--/--> | 20008-0.0 &lt;dbl&gt; | 20008-0.1 &lt;dbl&gt; | 20008-0.2 &lt;dbl&gt; | 20008-0.3 &lt;dbl&gt; | 20008-0.4 &lt;dbl&gt; | 20008-0.5 &lt;dbl&gt; | 20008-0.6 &lt;dbl&gt; | 20008-0.7 &lt;dbl&gt; | 20008-0.8 &lt;dbl&gt; | 20008-0.9 &lt;dbl&gt; | ⋯ ⋯ | 20008-3.24 &lt;lgl&gt; | 20008-3.25 &lt;lgl&gt; | 20008-3.26 &lt;lgl&gt; | 20008-3.27 &lt;lgl&gt; | 20008-3.28 &lt;lgl&gt; | 20008-3.29 &lt;lgl&gt; | 20008-3.30 &lt;lgl&gt; | 20008-3.31 &lt;lgl&gt; | 20008-3.32 &lt;lgl&gt; | 20008-3.33 &lt;lgl&gt; |\n",
       "|---|---|---|---|---|---|---|---|---|---|---|---|---|---|---|---|---|---|---|---|---|---|\n",
       "| 1 | 1995.5 | 2007.5 | 2000.5 | NA | NA | NA | NA | NA | NA | NA | ⋯ | NA | NA | NA | NA | NA | NA | NA | NA | NA | NA |\n",
       "| 2 | 1954.0 | 2004.5 |     NA | NA | NA | NA | NA | NA | NA | NA | ⋯ | NA | NA | NA | NA | NA | NA | NA | NA | NA | NA |\n",
       "| 3 |     NA |     NA |     NA | NA | NA | NA | NA | NA | NA | NA | ⋯ | NA | NA | NA | NA | NA | NA | NA | NA | NA | NA |\n",
       "| 4 | 2008.1 | 2007.5 |     NA | NA | NA | NA | NA | NA | NA | NA | ⋯ | NA | NA | NA | NA | NA | NA | NA | NA | NA | NA |\n",
       "| 5 | 2005.7 | 1975.7 | 2005.7 | NA | NA | NA | NA | NA | NA | NA | ⋯ | NA | NA | NA | NA | NA | NA | NA | NA | NA | NA |\n",
       "| 6 | 1993.9 |     NA |     NA | NA | NA | NA | NA | NA | NA | NA | ⋯ | NA | NA | NA | NA | NA | NA | NA | NA | NA | NA |\n",
       "\n"
      ],
      "text/plain": [
       "  20008-0.0 20008-0.1 20008-0.2 20008-0.3 20008-0.4 20008-0.5 20008-0.6\n",
       "1 1995.5    2007.5    2000.5    NA        NA        NA        NA       \n",
       "2 1954.0    2004.5        NA    NA        NA        NA        NA       \n",
       "3     NA        NA        NA    NA        NA        NA        NA       \n",
       "4 2008.1    2007.5        NA    NA        NA        NA        NA       \n",
       "5 2005.7    1975.7    2005.7    NA        NA        NA        NA       \n",
       "6 1993.9        NA        NA    NA        NA        NA        NA       \n",
       "  20008-0.7 20008-0.8 20008-0.9 ⋯ 20008-3.24 20008-3.25 20008-3.26 20008-3.27\n",
       "1 NA        NA        NA        ⋯ NA         NA         NA         NA        \n",
       "2 NA        NA        NA        ⋯ NA         NA         NA         NA        \n",
       "3 NA        NA        NA        ⋯ NA         NA         NA         NA        \n",
       "4 NA        NA        NA        ⋯ NA         NA         NA         NA        \n",
       "5 NA        NA        NA        ⋯ NA         NA         NA         NA        \n",
       "6 NA        NA        NA        ⋯ NA         NA         NA         NA        \n",
       "  20008-3.28 20008-3.29 20008-3.30 20008-3.31 20008-3.32 20008-3.33\n",
       "1 NA         NA         NA         NA         NA         NA        \n",
       "2 NA         NA         NA         NA         NA         NA        \n",
       "3 NA         NA         NA         NA         NA         NA        \n",
       "4 NA         NA         NA         NA         NA         NA        \n",
       "5 NA         NA         NA         NA         NA         NA        \n",
       "6 NA         NA         NA         NA         NA         NA        "
      ]
     },
     "metadata": {},
     "output_type": "display_data"
    }
   ],
   "source": [
    "### date columns used in analysis: 40005 20010 20008 \n",
    "head(part.dat1[,grepl(\"40005\",as.character(colnames(part.dat1)))]) ## that is already in right format\n",
    "head(part.dat1[,grepl(\"20010\",as.character(colnames(part.dat1)))])\n",
    "head(part.dat1[,grepl(\"20008\",as.character(colnames(part.dat1)))])  "
   ]
  },
  {
   "cell_type": "code",
   "execution_count": 28,
   "id": "7364c584-09bc-499d-bda5-1a46190450c5",
   "metadata": {},
   "outputs": [],
   "source": [
    "\n",
    "# Function to convert decimal year to \"YYYY-MM-15\" format (Vectorized)\n",
    "convert_decimal_to_date <- function(decimal_year) {\n",
    "  # Ensure numeric conversion\n",
    "  decimal_year <- as.numeric(decimal_year)\n",
    "  \n",
    "  # Handle missing values and avoid the \"length > 1\" error\n",
    "  year <- floor(decimal_year)  # Extract the year\n",
    "  month <- floor((decimal_year - year) * 12) + 1  # Convert decimal to month\n",
    "  \n",
    "  # Ensure month is between 1 and 12\n",
    "  month[month > 12] <- 12  \n",
    "  month[month < 1] <- 1  \n",
    "\n",
    "  # Format as \"YYYY-MM-15\"\n",
    "  result <- as.Date(paste(year, month, 15, sep = \"-\"), format = \"%Y-%m-%d\")\n",
    "  \n",
    "  # Ensure NA values remain NA\n",
    "  result[is.na(decimal_year)] <- NA\n",
    "  \n",
    "  return(result)\n",
    "}\n",
    "\n",
    "# Extract columns containing \"20010\"\n",
    "decimal_dates <- part.dat1[, grepl(\"20010\", colnames(part.dat1)), drop = FALSE]\n",
    "\n",
    "# Apply function to the entire dataframe (Vectorized with lapply)\n",
    "part.dat1[, grepl(\"20010\", colnames(part.dat1))] <- \n",
    "  as.data.frame(lapply(decimal_dates, convert_decimal_to_date))\n",
    "\n",
    "# Print to check output\n",
    "print(part.dat1)\n"
   ]
  },
  {
   "cell_type": "code",
   "execution_count": 29,
   "id": "37d2212d-2dc2-4cce-b479-a94e68f177e2",
   "metadata": {},
   "outputs": [
    {
     "ename": "ERROR",
     "evalue": "Error in if (is.na(decimal_year)) return(NA): the condition has length > 1\n",
     "output_type": "error",
     "traceback": [
      "Error in if (is.na(decimal_year)) return(NA): the condition has length > 1\nTraceback:\n",
      "1. as.data.frame(lapply(decimal_dates, convert_decimal_to_date))",
      "2. lapply(decimal_dates, convert_decimal_to_date)",
      "3. FUN(X[[i]], ...)"
     ]
    }
   ],
   "source": [
    "# Extract columns containing \"20010\"\n",
    "decimal_dates <- part.dat1[, grepl(\"20010\", colnames(part.dat1)), drop = FALSE]\n",
    "\n",
    "# Apply function to the entire dataframe (Vectorized with lapply)\n",
    "part.dat1[, grepl(\"20010\", colnames(part.dat1))] <- \n",
    "  as.data.frame(lapply(decimal_dates, convert_decimal_to_date))"
   ]
  },
  {
   "cell_type": "code",
   "execution_count": 4,
   "id": "1251a64b-62a9-4a3f-af82-774ad7773502",
   "metadata": {},
   "outputs": [
    {
     "data": {
      "text/plain": [
       "\n",
       "TRUE \n",
       "  23 "
      ]
     },
     "metadata": {},
     "output_type": "display_data"
    },
    {
     "data": {
      "text/plain": [
       "\n",
       "FALSE  TRUE \n",
       " 7751    23 "
      ]
     },
     "metadata": {},
     "output_type": "display_data"
    }
   ],
   "source": [
    "table(colnames(part.test) %in% colnames(part.dat))\n",
    "table(colnames(part.dat) %in% colnames(part.test))"
   ]
  },
  {
   "cell_type": "code",
   "execution_count": 8,
   "id": "8ac8acd0-5711-4ae6-94e9-2231e386cf11",
   "metadata": {},
   "outputs": [
    {
     "data": {
      "text/plain": [
       "\n",
       "FALSE  TRUE \n",
       " 7638   136 "
      ]
     },
     "metadata": {},
     "output_type": "display_data"
    },
    {
     "data": {
      "text/html": [
       "<style>\n",
       ".list-inline {list-style: none; margin:0; padding: 0}\n",
       ".list-inline>li {display: inline-block}\n",
       ".list-inline>li:not(:last-child)::after {content: \"\\00b7\"; padding: 0 .5ex}\n",
       "</style>\n",
       "<ol class=list-inline><li>'20002-0.0'</li><li>'20002-0.1'</li><li>'20002-0.2'</li><li>'20002-0.3'</li><li>'20002-0.4'</li><li>'20002-0.5'</li><li>'20002-0.6'</li><li>'20002-0.7'</li><li>'20002-0.8'</li><li>'20002-0.9'</li><li>'20002-0.10'</li><li>'20002-0.11'</li><li>'20002-0.12'</li><li>'20002-0.13'</li><li>'20002-0.14'</li><li>'20002-0.15'</li><li>'20002-0.16'</li><li>'20002-0.17'</li><li>'20002-0.18'</li><li>'20002-0.19'</li><li>'20002-0.20'</li><li>'20002-0.21'</li><li>'20002-0.22'</li><li>'20002-0.23'</li><li>'20002-0.24'</li><li>'20002-0.25'</li><li>'20002-0.26'</li><li>'20002-0.27'</li><li>'20002-0.28'</li><li>'20002-0.29'</li><li>'20002-0.30'</li><li>'20002-0.31'</li><li>'20002-0.32'</li><li>'20002-0.33'</li><li>'20002-1.0'</li><li>'20002-1.1'</li><li>'20002-1.2'</li><li>'20002-1.3'</li><li>'20002-1.4'</li><li>'20002-1.5'</li><li>'20002-1.6'</li><li>'20002-1.7'</li><li>'20002-1.8'</li><li>'20002-1.9'</li><li>'20002-1.10'</li><li>'20002-1.11'</li><li>'20002-1.12'</li><li>'20002-1.13'</li><li>'20002-1.14'</li><li>'20002-1.15'</li><li>'20002-1.16'</li><li>'20002-1.17'</li><li>'20002-1.18'</li><li>'20002-1.19'</li><li>'20002-1.20'</li><li>'20002-1.21'</li><li>'20002-1.22'</li><li>'20002-1.23'</li><li>'20002-1.24'</li><li>'20002-1.25'</li><li>'20002-1.26'</li><li>'20002-1.27'</li><li>'20002-1.28'</li><li>'20002-1.29'</li><li>'20002-1.30'</li><li>'20002-1.31'</li><li>'20002-1.32'</li><li>'20002-1.33'</li><li>'20002-2.0'</li><li>'20002-2.1'</li><li>'20002-2.2'</li><li>'20002-2.3'</li><li>'20002-2.4'</li><li>'20002-2.5'</li><li>'20002-2.6'</li><li>'20002-2.7'</li><li>'20002-2.8'</li><li>'20002-2.9'</li><li>'20002-2.10'</li><li>'20002-2.11'</li><li>'20002-2.12'</li><li>'20002-2.13'</li><li>'20002-2.14'</li><li>'20002-2.15'</li><li>'20002-2.16'</li><li>'20002-2.17'</li><li>'20002-2.18'</li><li>'20002-2.19'</li><li>'20002-2.20'</li><li>'20002-2.21'</li><li>'20002-2.22'</li><li>'20002-2.23'</li><li>'20002-2.24'</li><li>'20002-2.25'</li><li>'20002-2.26'</li><li>'20002-2.27'</li><li>'20002-2.28'</li><li>'20002-2.29'</li><li>'20002-2.30'</li><li>'20002-2.31'</li><li>'20002-2.32'</li><li>'20002-2.33'</li><li>'20002-3.0'</li><li>'20002-3.1'</li><li>'20002-3.2'</li><li>'20002-3.3'</li><li>'20002-3.4'</li><li>'20002-3.5'</li><li>'20002-3.6'</li><li>'20002-3.7'</li><li>'20002-3.8'</li><li>'20002-3.9'</li><li>'20002-3.10'</li><li>'20002-3.11'</li><li>'20002-3.12'</li><li>'20002-3.13'</li><li>'20002-3.14'</li><li>'20002-3.15'</li><li>'20002-3.16'</li><li>'20002-3.17'</li><li>'20002-3.18'</li><li>'20002-3.19'</li><li>'20002-3.20'</li><li>'20002-3.21'</li><li>'20002-3.22'</li><li>'20002-3.23'</li><li>'20002-3.24'</li><li>'20002-3.25'</li><li>'20002-3.26'</li><li>'20002-3.27'</li><li>'20002-3.28'</li><li>'20002-3.29'</li><li>'20002-3.30'</li><li>'20002-3.31'</li><li>'20002-3.32'</li><li>'20002-3.33'</li></ol>\n"
      ],
      "text/latex": [
       "\\begin{enumerate*}\n",
       "\\item '20002-0.0'\n",
       "\\item '20002-0.1'\n",
       "\\item '20002-0.2'\n",
       "\\item '20002-0.3'\n",
       "\\item '20002-0.4'\n",
       "\\item '20002-0.5'\n",
       "\\item '20002-0.6'\n",
       "\\item '20002-0.7'\n",
       "\\item '20002-0.8'\n",
       "\\item '20002-0.9'\n",
       "\\item '20002-0.10'\n",
       "\\item '20002-0.11'\n",
       "\\item '20002-0.12'\n",
       "\\item '20002-0.13'\n",
       "\\item '20002-0.14'\n",
       "\\item '20002-0.15'\n",
       "\\item '20002-0.16'\n",
       "\\item '20002-0.17'\n",
       "\\item '20002-0.18'\n",
       "\\item '20002-0.19'\n",
       "\\item '20002-0.20'\n",
       "\\item '20002-0.21'\n",
       "\\item '20002-0.22'\n",
       "\\item '20002-0.23'\n",
       "\\item '20002-0.24'\n",
       "\\item '20002-0.25'\n",
       "\\item '20002-0.26'\n",
       "\\item '20002-0.27'\n",
       "\\item '20002-0.28'\n",
       "\\item '20002-0.29'\n",
       "\\item '20002-0.30'\n",
       "\\item '20002-0.31'\n",
       "\\item '20002-0.32'\n",
       "\\item '20002-0.33'\n",
       "\\item '20002-1.0'\n",
       "\\item '20002-1.1'\n",
       "\\item '20002-1.2'\n",
       "\\item '20002-1.3'\n",
       "\\item '20002-1.4'\n",
       "\\item '20002-1.5'\n",
       "\\item '20002-1.6'\n",
       "\\item '20002-1.7'\n",
       "\\item '20002-1.8'\n",
       "\\item '20002-1.9'\n",
       "\\item '20002-1.10'\n",
       "\\item '20002-1.11'\n",
       "\\item '20002-1.12'\n",
       "\\item '20002-1.13'\n",
       "\\item '20002-1.14'\n",
       "\\item '20002-1.15'\n",
       "\\item '20002-1.16'\n",
       "\\item '20002-1.17'\n",
       "\\item '20002-1.18'\n",
       "\\item '20002-1.19'\n",
       "\\item '20002-1.20'\n",
       "\\item '20002-1.21'\n",
       "\\item '20002-1.22'\n",
       "\\item '20002-1.23'\n",
       "\\item '20002-1.24'\n",
       "\\item '20002-1.25'\n",
       "\\item '20002-1.26'\n",
       "\\item '20002-1.27'\n",
       "\\item '20002-1.28'\n",
       "\\item '20002-1.29'\n",
       "\\item '20002-1.30'\n",
       "\\item '20002-1.31'\n",
       "\\item '20002-1.32'\n",
       "\\item '20002-1.33'\n",
       "\\item '20002-2.0'\n",
       "\\item '20002-2.1'\n",
       "\\item '20002-2.2'\n",
       "\\item '20002-2.3'\n",
       "\\item '20002-2.4'\n",
       "\\item '20002-2.5'\n",
       "\\item '20002-2.6'\n",
       "\\item '20002-2.7'\n",
       "\\item '20002-2.8'\n",
       "\\item '20002-2.9'\n",
       "\\item '20002-2.10'\n",
       "\\item '20002-2.11'\n",
       "\\item '20002-2.12'\n",
       "\\item '20002-2.13'\n",
       "\\item '20002-2.14'\n",
       "\\item '20002-2.15'\n",
       "\\item '20002-2.16'\n",
       "\\item '20002-2.17'\n",
       "\\item '20002-2.18'\n",
       "\\item '20002-2.19'\n",
       "\\item '20002-2.20'\n",
       "\\item '20002-2.21'\n",
       "\\item '20002-2.22'\n",
       "\\item '20002-2.23'\n",
       "\\item '20002-2.24'\n",
       "\\item '20002-2.25'\n",
       "\\item '20002-2.26'\n",
       "\\item '20002-2.27'\n",
       "\\item '20002-2.28'\n",
       "\\item '20002-2.29'\n",
       "\\item '20002-2.30'\n",
       "\\item '20002-2.31'\n",
       "\\item '20002-2.32'\n",
       "\\item '20002-2.33'\n",
       "\\item '20002-3.0'\n",
       "\\item '20002-3.1'\n",
       "\\item '20002-3.2'\n",
       "\\item '20002-3.3'\n",
       "\\item '20002-3.4'\n",
       "\\item '20002-3.5'\n",
       "\\item '20002-3.6'\n",
       "\\item '20002-3.7'\n",
       "\\item '20002-3.8'\n",
       "\\item '20002-3.9'\n",
       "\\item '20002-3.10'\n",
       "\\item '20002-3.11'\n",
       "\\item '20002-3.12'\n",
       "\\item '20002-3.13'\n",
       "\\item '20002-3.14'\n",
       "\\item '20002-3.15'\n",
       "\\item '20002-3.16'\n",
       "\\item '20002-3.17'\n",
       "\\item '20002-3.18'\n",
       "\\item '20002-3.19'\n",
       "\\item '20002-3.20'\n",
       "\\item '20002-3.21'\n",
       "\\item '20002-3.22'\n",
       "\\item '20002-3.23'\n",
       "\\item '20002-3.24'\n",
       "\\item '20002-3.25'\n",
       "\\item '20002-3.26'\n",
       "\\item '20002-3.27'\n",
       "\\item '20002-3.28'\n",
       "\\item '20002-3.29'\n",
       "\\item '20002-3.30'\n",
       "\\item '20002-3.31'\n",
       "\\item '20002-3.32'\n",
       "\\item '20002-3.33'\n",
       "\\end{enumerate*}\n"
      ],
      "text/markdown": [
       "1. '20002-0.0'\n",
       "2. '20002-0.1'\n",
       "3. '20002-0.2'\n",
       "4. '20002-0.3'\n",
       "5. '20002-0.4'\n",
       "6. '20002-0.5'\n",
       "7. '20002-0.6'\n",
       "8. '20002-0.7'\n",
       "9. '20002-0.8'\n",
       "10. '20002-0.9'\n",
       "11. '20002-0.10'\n",
       "12. '20002-0.11'\n",
       "13. '20002-0.12'\n",
       "14. '20002-0.13'\n",
       "15. '20002-0.14'\n",
       "16. '20002-0.15'\n",
       "17. '20002-0.16'\n",
       "18. '20002-0.17'\n",
       "19. '20002-0.18'\n",
       "20. '20002-0.19'\n",
       "21. '20002-0.20'\n",
       "22. '20002-0.21'\n",
       "23. '20002-0.22'\n",
       "24. '20002-0.23'\n",
       "25. '20002-0.24'\n",
       "26. '20002-0.25'\n",
       "27. '20002-0.26'\n",
       "28. '20002-0.27'\n",
       "29. '20002-0.28'\n",
       "30. '20002-0.29'\n",
       "31. '20002-0.30'\n",
       "32. '20002-0.31'\n",
       "33. '20002-0.32'\n",
       "34. '20002-0.33'\n",
       "35. '20002-1.0'\n",
       "36. '20002-1.1'\n",
       "37. '20002-1.2'\n",
       "38. '20002-1.3'\n",
       "39. '20002-1.4'\n",
       "40. '20002-1.5'\n",
       "41. '20002-1.6'\n",
       "42. '20002-1.7'\n",
       "43. '20002-1.8'\n",
       "44. '20002-1.9'\n",
       "45. '20002-1.10'\n",
       "46. '20002-1.11'\n",
       "47. '20002-1.12'\n",
       "48. '20002-1.13'\n",
       "49. '20002-1.14'\n",
       "50. '20002-1.15'\n",
       "51. '20002-1.16'\n",
       "52. '20002-1.17'\n",
       "53. '20002-1.18'\n",
       "54. '20002-1.19'\n",
       "55. '20002-1.20'\n",
       "56. '20002-1.21'\n",
       "57. '20002-1.22'\n",
       "58. '20002-1.23'\n",
       "59. '20002-1.24'\n",
       "60. '20002-1.25'\n",
       "61. '20002-1.26'\n",
       "62. '20002-1.27'\n",
       "63. '20002-1.28'\n",
       "64. '20002-1.29'\n",
       "65. '20002-1.30'\n",
       "66. '20002-1.31'\n",
       "67. '20002-1.32'\n",
       "68. '20002-1.33'\n",
       "69. '20002-2.0'\n",
       "70. '20002-2.1'\n",
       "71. '20002-2.2'\n",
       "72. '20002-2.3'\n",
       "73. '20002-2.4'\n",
       "74. '20002-2.5'\n",
       "75. '20002-2.6'\n",
       "76. '20002-2.7'\n",
       "77. '20002-2.8'\n",
       "78. '20002-2.9'\n",
       "79. '20002-2.10'\n",
       "80. '20002-2.11'\n",
       "81. '20002-2.12'\n",
       "82. '20002-2.13'\n",
       "83. '20002-2.14'\n",
       "84. '20002-2.15'\n",
       "85. '20002-2.16'\n",
       "86. '20002-2.17'\n",
       "87. '20002-2.18'\n",
       "88. '20002-2.19'\n",
       "89. '20002-2.20'\n",
       "90. '20002-2.21'\n",
       "91. '20002-2.22'\n",
       "92. '20002-2.23'\n",
       "93. '20002-2.24'\n",
       "94. '20002-2.25'\n",
       "95. '20002-2.26'\n",
       "96. '20002-2.27'\n",
       "97. '20002-2.28'\n",
       "98. '20002-2.29'\n",
       "99. '20002-2.30'\n",
       "100. '20002-2.31'\n",
       "101. '20002-2.32'\n",
       "102. '20002-2.33'\n",
       "103. '20002-3.0'\n",
       "104. '20002-3.1'\n",
       "105. '20002-3.2'\n",
       "106. '20002-3.3'\n",
       "107. '20002-3.4'\n",
       "108. '20002-3.5'\n",
       "109. '20002-3.6'\n",
       "110. '20002-3.7'\n",
       "111. '20002-3.8'\n",
       "112. '20002-3.9'\n",
       "113. '20002-3.10'\n",
       "114. '20002-3.11'\n",
       "115. '20002-3.12'\n",
       "116. '20002-3.13'\n",
       "117. '20002-3.14'\n",
       "118. '20002-3.15'\n",
       "119. '20002-3.16'\n",
       "120. '20002-3.17'\n",
       "121. '20002-3.18'\n",
       "122. '20002-3.19'\n",
       "123. '20002-3.20'\n",
       "124. '20002-3.21'\n",
       "125. '20002-3.22'\n",
       "126. '20002-3.23'\n",
       "127. '20002-3.24'\n",
       "128. '20002-3.25'\n",
       "129. '20002-3.26'\n",
       "130. '20002-3.27'\n",
       "131. '20002-3.28'\n",
       "132. '20002-3.29'\n",
       "133. '20002-3.30'\n",
       "134. '20002-3.31'\n",
       "135. '20002-3.32'\n",
       "136. '20002-3.33'\n",
       "\n",
       "\n"
      ],
      "text/plain": [
       "  [1] \"20002-0.0\"  \"20002-0.1\"  \"20002-0.2\"  \"20002-0.3\"  \"20002-0.4\" \n",
       "  [6] \"20002-0.5\"  \"20002-0.6\"  \"20002-0.7\"  \"20002-0.8\"  \"20002-0.9\" \n",
       " [11] \"20002-0.10\" \"20002-0.11\" \"20002-0.12\" \"20002-0.13\" \"20002-0.14\"\n",
       " [16] \"20002-0.15\" \"20002-0.16\" \"20002-0.17\" \"20002-0.18\" \"20002-0.19\"\n",
       " [21] \"20002-0.20\" \"20002-0.21\" \"20002-0.22\" \"20002-0.23\" \"20002-0.24\"\n",
       " [26] \"20002-0.25\" \"20002-0.26\" \"20002-0.27\" \"20002-0.28\" \"20002-0.29\"\n",
       " [31] \"20002-0.30\" \"20002-0.31\" \"20002-0.32\" \"20002-0.33\" \"20002-1.0\" \n",
       " [36] \"20002-1.1\"  \"20002-1.2\"  \"20002-1.3\"  \"20002-1.4\"  \"20002-1.5\" \n",
       " [41] \"20002-1.6\"  \"20002-1.7\"  \"20002-1.8\"  \"20002-1.9\"  \"20002-1.10\"\n",
       " [46] \"20002-1.11\" \"20002-1.12\" \"20002-1.13\" \"20002-1.14\" \"20002-1.15\"\n",
       " [51] \"20002-1.16\" \"20002-1.17\" \"20002-1.18\" \"20002-1.19\" \"20002-1.20\"\n",
       " [56] \"20002-1.21\" \"20002-1.22\" \"20002-1.23\" \"20002-1.24\" \"20002-1.25\"\n",
       " [61] \"20002-1.26\" \"20002-1.27\" \"20002-1.28\" \"20002-1.29\" \"20002-1.30\"\n",
       " [66] \"20002-1.31\" \"20002-1.32\" \"20002-1.33\" \"20002-2.0\"  \"20002-2.1\" \n",
       " [71] \"20002-2.2\"  \"20002-2.3\"  \"20002-2.4\"  \"20002-2.5\"  \"20002-2.6\" \n",
       " [76] \"20002-2.7\"  \"20002-2.8\"  \"20002-2.9\"  \"20002-2.10\" \"20002-2.11\"\n",
       " [81] \"20002-2.12\" \"20002-2.13\" \"20002-2.14\" \"20002-2.15\" \"20002-2.16\"\n",
       " [86] \"20002-2.17\" \"20002-2.18\" \"20002-2.19\" \"20002-2.20\" \"20002-2.21\"\n",
       " [91] \"20002-2.22\" \"20002-2.23\" \"20002-2.24\" \"20002-2.25\" \"20002-2.26\"\n",
       " [96] \"20002-2.27\" \"20002-2.28\" \"20002-2.29\" \"20002-2.30\" \"20002-2.31\"\n",
       "[101] \"20002-2.32\" \"20002-2.33\" \"20002-3.0\"  \"20002-3.1\"  \"20002-3.2\" \n",
       "[106] \"20002-3.3\"  \"20002-3.4\"  \"20002-3.5\"  \"20002-3.6\"  \"20002-3.7\" \n",
       "[111] \"20002-3.8\"  \"20002-3.9\"  \"20002-3.10\" \"20002-3.11\" \"20002-3.12\"\n",
       "[116] \"20002-3.13\" \"20002-3.14\" \"20002-3.15\" \"20002-3.16\" \"20002-3.17\"\n",
       "[121] \"20002-3.18\" \"20002-3.19\" \"20002-3.20\" \"20002-3.21\" \"20002-3.22\"\n",
       "[126] \"20002-3.23\" \"20002-3.24\" \"20002-3.25\" \"20002-3.26\" \"20002-3.27\"\n",
       "[131] \"20002-3.28\" \"20002-3.29\" \"20002-3.30\" \"20002-3.31\" \"20002-3.32\"\n",
       "[136] \"20002-3.33\""
      ]
     },
     "metadata": {},
     "output_type": "display_data"
    },
    {
     "data": {
      "text/plain": [
       "\n",
       "FALSE  TRUE \n",
       " 7638   136 "
      ]
     },
     "metadata": {},
     "output_type": "display_data"
    }
   ],
   "source": [
    "table(grepl(\"20002\", as.character(colnames(part.dat)) ))\n",
    "colnames(part.dat)[grepl(\"20002\", as.character(colnames(part.dat)) ) ]\n",
    "table(grepl(\"20008\", as.character(colnames(part.dat)) ))"
   ]
  },
  {
   "cell_type": "code",
   "execution_count": 9,
   "id": "d77ded21-764f-41fc-a7e6-2e60457682c5",
   "metadata": {},
   "outputs": [
    {
     "data": {
      "text/plain": [
       "\n",
       "FALSE  TRUE \n",
       " 7646   128 "
      ]
     },
     "metadata": {},
     "output_type": "display_data"
    },
    {
     "data": {
      "text/html": [
       "<style>\n",
       ".list-inline {list-style: none; margin:0; padding: 0}\n",
       ".list-inline>li {display: inline-block}\n",
       ".list-inline>li:not(:last-child)::after {content: \"\\00b7\"; padding: 0 .5ex}\n",
       "</style>\n",
       "<ol class=list-inline><li>'20004-0.0'</li><li>'20004-0.1'</li><li>'20004-0.2'</li><li>'20004-0.3'</li><li>'20004-0.4'</li><li>'20004-0.5'</li><li>'20004-0.6'</li><li>'20004-0.7'</li><li>'20004-0.8'</li><li>'20004-0.9'</li><li>'20004-0.10'</li><li>'20004-0.11'</li><li>'20004-0.12'</li><li>'20004-0.13'</li><li>'20004-0.14'</li><li>'20004-0.15'</li><li>'20004-0.16'</li><li>'20004-0.17'</li><li>'20004-0.18'</li><li>'20004-0.19'</li><li>'20004-0.20'</li><li>'20004-0.21'</li><li>'20004-0.22'</li><li>'20004-0.23'</li><li>'20004-0.24'</li><li>'20004-0.25'</li><li>'20004-0.26'</li><li>'20004-0.27'</li><li>'20004-0.28'</li><li>'20004-0.29'</li><li>'20004-0.30'</li><li>'20004-0.31'</li><li>'20004-1.0'</li><li>'20004-1.1'</li><li>'20004-1.2'</li><li>'20004-1.3'</li><li>'20004-1.4'</li><li>'20004-1.5'</li><li>'20004-1.6'</li><li>'20004-1.7'</li><li>'20004-1.8'</li><li>'20004-1.9'</li><li>'20004-1.10'</li><li>'20004-1.11'</li><li>'20004-1.12'</li><li>'20004-1.13'</li><li>'20004-1.14'</li><li>'20004-1.15'</li><li>'20004-1.16'</li><li>'20004-1.17'</li><li>'20004-1.18'</li><li>'20004-1.19'</li><li>'20004-1.20'</li><li>'20004-1.21'</li><li>'20004-1.22'</li><li>'20004-1.23'</li><li>'20004-1.24'</li><li>'20004-1.25'</li><li>'20004-1.26'</li><li>'20004-1.27'</li><li>'20004-1.28'</li><li>'20004-1.29'</li><li>'20004-1.30'</li><li>'20004-1.31'</li><li>'20004-2.0'</li><li>'20004-2.1'</li><li>'20004-2.2'</li><li>'20004-2.3'</li><li>'20004-2.4'</li><li>'20004-2.5'</li><li>'20004-2.6'</li><li>'20004-2.7'</li><li>'20004-2.8'</li><li>'20004-2.9'</li><li>'20004-2.10'</li><li>'20004-2.11'</li><li>'20004-2.12'</li><li>'20004-2.13'</li><li>'20004-2.14'</li><li>'20004-2.15'</li><li>'20004-2.16'</li><li>'20004-2.17'</li><li>'20004-2.18'</li><li>'20004-2.19'</li><li>'20004-2.20'</li><li>'20004-2.21'</li><li>'20004-2.22'</li><li>'20004-2.23'</li><li>'20004-2.24'</li><li>'20004-2.25'</li><li>'20004-2.26'</li><li>'20004-2.27'</li><li>'20004-2.28'</li><li>'20004-2.29'</li><li>'20004-2.30'</li><li>'20004-2.31'</li><li>'20004-3.0'</li><li>'20004-3.1'</li><li>'20004-3.2'</li><li>'20004-3.3'</li><li>'20004-3.4'</li><li>'20004-3.5'</li><li>'20004-3.6'</li><li>'20004-3.7'</li><li>'20004-3.8'</li><li>'20004-3.9'</li><li>'20004-3.10'</li><li>'20004-3.11'</li><li>'20004-3.12'</li><li>'20004-3.13'</li><li>'20004-3.14'</li><li>'20004-3.15'</li><li>'20004-3.16'</li><li>'20004-3.17'</li><li>'20004-3.18'</li><li>'20004-3.19'</li><li>'20004-3.20'</li><li>'20004-3.21'</li><li>'20004-3.22'</li><li>'20004-3.23'</li><li>'20004-3.24'</li><li>'20004-3.25'</li><li>'20004-3.26'</li><li>'20004-3.27'</li><li>'20004-3.28'</li><li>'20004-3.29'</li><li>'20004-3.30'</li><li>'20004-3.31'</li></ol>\n"
      ],
      "text/latex": [
       "\\begin{enumerate*}\n",
       "\\item '20004-0.0'\n",
       "\\item '20004-0.1'\n",
       "\\item '20004-0.2'\n",
       "\\item '20004-0.3'\n",
       "\\item '20004-0.4'\n",
       "\\item '20004-0.5'\n",
       "\\item '20004-0.6'\n",
       "\\item '20004-0.7'\n",
       "\\item '20004-0.8'\n",
       "\\item '20004-0.9'\n",
       "\\item '20004-0.10'\n",
       "\\item '20004-0.11'\n",
       "\\item '20004-0.12'\n",
       "\\item '20004-0.13'\n",
       "\\item '20004-0.14'\n",
       "\\item '20004-0.15'\n",
       "\\item '20004-0.16'\n",
       "\\item '20004-0.17'\n",
       "\\item '20004-0.18'\n",
       "\\item '20004-0.19'\n",
       "\\item '20004-0.20'\n",
       "\\item '20004-0.21'\n",
       "\\item '20004-0.22'\n",
       "\\item '20004-0.23'\n",
       "\\item '20004-0.24'\n",
       "\\item '20004-0.25'\n",
       "\\item '20004-0.26'\n",
       "\\item '20004-0.27'\n",
       "\\item '20004-0.28'\n",
       "\\item '20004-0.29'\n",
       "\\item '20004-0.30'\n",
       "\\item '20004-0.31'\n",
       "\\item '20004-1.0'\n",
       "\\item '20004-1.1'\n",
       "\\item '20004-1.2'\n",
       "\\item '20004-1.3'\n",
       "\\item '20004-1.4'\n",
       "\\item '20004-1.5'\n",
       "\\item '20004-1.6'\n",
       "\\item '20004-1.7'\n",
       "\\item '20004-1.8'\n",
       "\\item '20004-1.9'\n",
       "\\item '20004-1.10'\n",
       "\\item '20004-1.11'\n",
       "\\item '20004-1.12'\n",
       "\\item '20004-1.13'\n",
       "\\item '20004-1.14'\n",
       "\\item '20004-1.15'\n",
       "\\item '20004-1.16'\n",
       "\\item '20004-1.17'\n",
       "\\item '20004-1.18'\n",
       "\\item '20004-1.19'\n",
       "\\item '20004-1.20'\n",
       "\\item '20004-1.21'\n",
       "\\item '20004-1.22'\n",
       "\\item '20004-1.23'\n",
       "\\item '20004-1.24'\n",
       "\\item '20004-1.25'\n",
       "\\item '20004-1.26'\n",
       "\\item '20004-1.27'\n",
       "\\item '20004-1.28'\n",
       "\\item '20004-1.29'\n",
       "\\item '20004-1.30'\n",
       "\\item '20004-1.31'\n",
       "\\item '20004-2.0'\n",
       "\\item '20004-2.1'\n",
       "\\item '20004-2.2'\n",
       "\\item '20004-2.3'\n",
       "\\item '20004-2.4'\n",
       "\\item '20004-2.5'\n",
       "\\item '20004-2.6'\n",
       "\\item '20004-2.7'\n",
       "\\item '20004-2.8'\n",
       "\\item '20004-2.9'\n",
       "\\item '20004-2.10'\n",
       "\\item '20004-2.11'\n",
       "\\item '20004-2.12'\n",
       "\\item '20004-2.13'\n",
       "\\item '20004-2.14'\n",
       "\\item '20004-2.15'\n",
       "\\item '20004-2.16'\n",
       "\\item '20004-2.17'\n",
       "\\item '20004-2.18'\n",
       "\\item '20004-2.19'\n",
       "\\item '20004-2.20'\n",
       "\\item '20004-2.21'\n",
       "\\item '20004-2.22'\n",
       "\\item '20004-2.23'\n",
       "\\item '20004-2.24'\n",
       "\\item '20004-2.25'\n",
       "\\item '20004-2.26'\n",
       "\\item '20004-2.27'\n",
       "\\item '20004-2.28'\n",
       "\\item '20004-2.29'\n",
       "\\item '20004-2.30'\n",
       "\\item '20004-2.31'\n",
       "\\item '20004-3.0'\n",
       "\\item '20004-3.1'\n",
       "\\item '20004-3.2'\n",
       "\\item '20004-3.3'\n",
       "\\item '20004-3.4'\n",
       "\\item '20004-3.5'\n",
       "\\item '20004-3.6'\n",
       "\\item '20004-3.7'\n",
       "\\item '20004-3.8'\n",
       "\\item '20004-3.9'\n",
       "\\item '20004-3.10'\n",
       "\\item '20004-3.11'\n",
       "\\item '20004-3.12'\n",
       "\\item '20004-3.13'\n",
       "\\item '20004-3.14'\n",
       "\\item '20004-3.15'\n",
       "\\item '20004-3.16'\n",
       "\\item '20004-3.17'\n",
       "\\item '20004-3.18'\n",
       "\\item '20004-3.19'\n",
       "\\item '20004-3.20'\n",
       "\\item '20004-3.21'\n",
       "\\item '20004-3.22'\n",
       "\\item '20004-3.23'\n",
       "\\item '20004-3.24'\n",
       "\\item '20004-3.25'\n",
       "\\item '20004-3.26'\n",
       "\\item '20004-3.27'\n",
       "\\item '20004-3.28'\n",
       "\\item '20004-3.29'\n",
       "\\item '20004-3.30'\n",
       "\\item '20004-3.31'\n",
       "\\end{enumerate*}\n"
      ],
      "text/markdown": [
       "1. '20004-0.0'\n",
       "2. '20004-0.1'\n",
       "3. '20004-0.2'\n",
       "4. '20004-0.3'\n",
       "5. '20004-0.4'\n",
       "6. '20004-0.5'\n",
       "7. '20004-0.6'\n",
       "8. '20004-0.7'\n",
       "9. '20004-0.8'\n",
       "10. '20004-0.9'\n",
       "11. '20004-0.10'\n",
       "12. '20004-0.11'\n",
       "13. '20004-0.12'\n",
       "14. '20004-0.13'\n",
       "15. '20004-0.14'\n",
       "16. '20004-0.15'\n",
       "17. '20004-0.16'\n",
       "18. '20004-0.17'\n",
       "19. '20004-0.18'\n",
       "20. '20004-0.19'\n",
       "21. '20004-0.20'\n",
       "22. '20004-0.21'\n",
       "23. '20004-0.22'\n",
       "24. '20004-0.23'\n",
       "25. '20004-0.24'\n",
       "26. '20004-0.25'\n",
       "27. '20004-0.26'\n",
       "28. '20004-0.27'\n",
       "29. '20004-0.28'\n",
       "30. '20004-0.29'\n",
       "31. '20004-0.30'\n",
       "32. '20004-0.31'\n",
       "33. '20004-1.0'\n",
       "34. '20004-1.1'\n",
       "35. '20004-1.2'\n",
       "36. '20004-1.3'\n",
       "37. '20004-1.4'\n",
       "38. '20004-1.5'\n",
       "39. '20004-1.6'\n",
       "40. '20004-1.7'\n",
       "41. '20004-1.8'\n",
       "42. '20004-1.9'\n",
       "43. '20004-1.10'\n",
       "44. '20004-1.11'\n",
       "45. '20004-1.12'\n",
       "46. '20004-1.13'\n",
       "47. '20004-1.14'\n",
       "48. '20004-1.15'\n",
       "49. '20004-1.16'\n",
       "50. '20004-1.17'\n",
       "51. '20004-1.18'\n",
       "52. '20004-1.19'\n",
       "53. '20004-1.20'\n",
       "54. '20004-1.21'\n",
       "55. '20004-1.22'\n",
       "56. '20004-1.23'\n",
       "57. '20004-1.24'\n",
       "58. '20004-1.25'\n",
       "59. '20004-1.26'\n",
       "60. '20004-1.27'\n",
       "61. '20004-1.28'\n",
       "62. '20004-1.29'\n",
       "63. '20004-1.30'\n",
       "64. '20004-1.31'\n",
       "65. '20004-2.0'\n",
       "66. '20004-2.1'\n",
       "67. '20004-2.2'\n",
       "68. '20004-2.3'\n",
       "69. '20004-2.4'\n",
       "70. '20004-2.5'\n",
       "71. '20004-2.6'\n",
       "72. '20004-2.7'\n",
       "73. '20004-2.8'\n",
       "74. '20004-2.9'\n",
       "75. '20004-2.10'\n",
       "76. '20004-2.11'\n",
       "77. '20004-2.12'\n",
       "78. '20004-2.13'\n",
       "79. '20004-2.14'\n",
       "80. '20004-2.15'\n",
       "81. '20004-2.16'\n",
       "82. '20004-2.17'\n",
       "83. '20004-2.18'\n",
       "84. '20004-2.19'\n",
       "85. '20004-2.20'\n",
       "86. '20004-2.21'\n",
       "87. '20004-2.22'\n",
       "88. '20004-2.23'\n",
       "89. '20004-2.24'\n",
       "90. '20004-2.25'\n",
       "91. '20004-2.26'\n",
       "92. '20004-2.27'\n",
       "93. '20004-2.28'\n",
       "94. '20004-2.29'\n",
       "95. '20004-2.30'\n",
       "96. '20004-2.31'\n",
       "97. '20004-3.0'\n",
       "98. '20004-3.1'\n",
       "99. '20004-3.2'\n",
       "100. '20004-3.3'\n",
       "101. '20004-3.4'\n",
       "102. '20004-3.5'\n",
       "103. '20004-3.6'\n",
       "104. '20004-3.7'\n",
       "105. '20004-3.8'\n",
       "106. '20004-3.9'\n",
       "107. '20004-3.10'\n",
       "108. '20004-3.11'\n",
       "109. '20004-3.12'\n",
       "110. '20004-3.13'\n",
       "111. '20004-3.14'\n",
       "112. '20004-3.15'\n",
       "113. '20004-3.16'\n",
       "114. '20004-3.17'\n",
       "115. '20004-3.18'\n",
       "116. '20004-3.19'\n",
       "117. '20004-3.20'\n",
       "118. '20004-3.21'\n",
       "119. '20004-3.22'\n",
       "120. '20004-3.23'\n",
       "121. '20004-3.24'\n",
       "122. '20004-3.25'\n",
       "123. '20004-3.26'\n",
       "124. '20004-3.27'\n",
       "125. '20004-3.28'\n",
       "126. '20004-3.29'\n",
       "127. '20004-3.30'\n",
       "128. '20004-3.31'\n",
       "\n",
       "\n"
      ],
      "text/plain": [
       "  [1] \"20004-0.0\"  \"20004-0.1\"  \"20004-0.2\"  \"20004-0.3\"  \"20004-0.4\" \n",
       "  [6] \"20004-0.5\"  \"20004-0.6\"  \"20004-0.7\"  \"20004-0.8\"  \"20004-0.9\" \n",
       " [11] \"20004-0.10\" \"20004-0.11\" \"20004-0.12\" \"20004-0.13\" \"20004-0.14\"\n",
       " [16] \"20004-0.15\" \"20004-0.16\" \"20004-0.17\" \"20004-0.18\" \"20004-0.19\"\n",
       " [21] \"20004-0.20\" \"20004-0.21\" \"20004-0.22\" \"20004-0.23\" \"20004-0.24\"\n",
       " [26] \"20004-0.25\" \"20004-0.26\" \"20004-0.27\" \"20004-0.28\" \"20004-0.29\"\n",
       " [31] \"20004-0.30\" \"20004-0.31\" \"20004-1.0\"  \"20004-1.1\"  \"20004-1.2\" \n",
       " [36] \"20004-1.3\"  \"20004-1.4\"  \"20004-1.5\"  \"20004-1.6\"  \"20004-1.7\" \n",
       " [41] \"20004-1.8\"  \"20004-1.9\"  \"20004-1.10\" \"20004-1.11\" \"20004-1.12\"\n",
       " [46] \"20004-1.13\" \"20004-1.14\" \"20004-1.15\" \"20004-1.16\" \"20004-1.17\"\n",
       " [51] \"20004-1.18\" \"20004-1.19\" \"20004-1.20\" \"20004-1.21\" \"20004-1.22\"\n",
       " [56] \"20004-1.23\" \"20004-1.24\" \"20004-1.25\" \"20004-1.26\" \"20004-1.27\"\n",
       " [61] \"20004-1.28\" \"20004-1.29\" \"20004-1.30\" \"20004-1.31\" \"20004-2.0\" \n",
       " [66] \"20004-2.1\"  \"20004-2.2\"  \"20004-2.3\"  \"20004-2.4\"  \"20004-2.5\" \n",
       " [71] \"20004-2.6\"  \"20004-2.7\"  \"20004-2.8\"  \"20004-2.9\"  \"20004-2.10\"\n",
       " [76] \"20004-2.11\" \"20004-2.12\" \"20004-2.13\" \"20004-2.14\" \"20004-2.15\"\n",
       " [81] \"20004-2.16\" \"20004-2.17\" \"20004-2.18\" \"20004-2.19\" \"20004-2.20\"\n",
       " [86] \"20004-2.21\" \"20004-2.22\" \"20004-2.23\" \"20004-2.24\" \"20004-2.25\"\n",
       " [91] \"20004-2.26\" \"20004-2.27\" \"20004-2.28\" \"20004-2.29\" \"20004-2.30\"\n",
       " [96] \"20004-2.31\" \"20004-3.0\"  \"20004-3.1\"  \"20004-3.2\"  \"20004-3.3\" \n",
       "[101] \"20004-3.4\"  \"20004-3.5\"  \"20004-3.6\"  \"20004-3.7\"  \"20004-3.8\" \n",
       "[106] \"20004-3.9\"  \"20004-3.10\" \"20004-3.11\" \"20004-3.12\" \"20004-3.13\"\n",
       "[111] \"20004-3.14\" \"20004-3.15\" \"20004-3.16\" \"20004-3.17\" \"20004-3.18\"\n",
       "[116] \"20004-3.19\" \"20004-3.20\" \"20004-3.21\" \"20004-3.22\" \"20004-3.23\"\n",
       "[121] \"20004-3.24\" \"20004-3.25\" \"20004-3.26\" \"20004-3.27\" \"20004-3.28\"\n",
       "[126] \"20004-3.29\" \"20004-3.30\" \"20004-3.31\""
      ]
     },
     "metadata": {},
     "output_type": "display_data"
    },
    {
     "data": {
      "text/plain": [
       "\n",
       "FALSE  TRUE \n",
       " 7646   128 "
      ]
     },
     "metadata": {},
     "output_type": "display_data"
    }
   ],
   "source": [
    "table(grepl(\"20004\", as.character(colnames(part.dat)) ))\n",
    "colnames(part.dat)[grepl(\"20004\", as.character(colnames(part.dat)) ) ]\n",
    "table(grepl(\"20010\", as.character(colnames(part.dat)) ))"
   ]
  },
  {
   "cell_type": "code",
   "execution_count": 11,
   "id": "e2f474d6-6ba7-42d0-80fe-adca5f0d3d64",
   "metadata": {},
   "outputs": [
    {
     "data": {
      "text/plain": [
       "\n",
       "FALSE  TRUE \n",
       " 7752    22 "
      ]
     },
     "metadata": {},
     "output_type": "display_data"
    },
    {
     "data": {
      "text/html": [
       "<style>\n",
       ".list-inline {list-style: none; margin:0; padding: 0}\n",
       ".list-inline>li {display: inline-block}\n",
       ".list-inline>li:not(:last-child)::after {content: \"\\00b7\"; padding: 0 .5ex}\n",
       "</style>\n",
       "<ol class=list-inline><li>'40006-0.0'</li><li>'40006-1.0'</li><li>'40006-2.0'</li><li>'40006-3.0'</li><li>'40006-4.0'</li><li>'40006-5.0'</li><li>'40006-6.0'</li><li>'40006-7.0'</li><li>'40006-8.0'</li><li>'40006-9.0'</li><li>'40006-10.0'</li><li>'40006-11.0'</li><li>'40006-12.0'</li><li>'40006-13.0'</li><li>'40006-14.0'</li><li>'40006-15.0'</li><li>'40006-16.0'</li><li>'40006-17.0'</li><li>'40006-18.0'</li><li>'40006-19.0'</li><li>'40006-20.0'</li><li>'40006-21.0'</li></ol>\n"
      ],
      "text/latex": [
       "\\begin{enumerate*}\n",
       "\\item '40006-0.0'\n",
       "\\item '40006-1.0'\n",
       "\\item '40006-2.0'\n",
       "\\item '40006-3.0'\n",
       "\\item '40006-4.0'\n",
       "\\item '40006-5.0'\n",
       "\\item '40006-6.0'\n",
       "\\item '40006-7.0'\n",
       "\\item '40006-8.0'\n",
       "\\item '40006-9.0'\n",
       "\\item '40006-10.0'\n",
       "\\item '40006-11.0'\n",
       "\\item '40006-12.0'\n",
       "\\item '40006-13.0'\n",
       "\\item '40006-14.0'\n",
       "\\item '40006-15.0'\n",
       "\\item '40006-16.0'\n",
       "\\item '40006-17.0'\n",
       "\\item '40006-18.0'\n",
       "\\item '40006-19.0'\n",
       "\\item '40006-20.0'\n",
       "\\item '40006-21.0'\n",
       "\\end{enumerate*}\n"
      ],
      "text/markdown": [
       "1. '40006-0.0'\n",
       "2. '40006-1.0'\n",
       "3. '40006-2.0'\n",
       "4. '40006-3.0'\n",
       "5. '40006-4.0'\n",
       "6. '40006-5.0'\n",
       "7. '40006-6.0'\n",
       "8. '40006-7.0'\n",
       "9. '40006-8.0'\n",
       "10. '40006-9.0'\n",
       "11. '40006-10.0'\n",
       "12. '40006-11.0'\n",
       "13. '40006-12.0'\n",
       "14. '40006-13.0'\n",
       "15. '40006-14.0'\n",
       "16. '40006-15.0'\n",
       "17. '40006-16.0'\n",
       "18. '40006-17.0'\n",
       "19. '40006-18.0'\n",
       "20. '40006-19.0'\n",
       "21. '40006-20.0'\n",
       "22. '40006-21.0'\n",
       "\n",
       "\n"
      ],
      "text/plain": [
       " [1] \"40006-0.0\"  \"40006-1.0\"  \"40006-2.0\"  \"40006-3.0\"  \"40006-4.0\" \n",
       " [6] \"40006-5.0\"  \"40006-6.0\"  \"40006-7.0\"  \"40006-8.0\"  \"40006-9.0\" \n",
       "[11] \"40006-10.0\" \"40006-11.0\" \"40006-12.0\" \"40006-13.0\" \"40006-14.0\"\n",
       "[16] \"40006-15.0\" \"40006-16.0\" \"40006-17.0\" \"40006-18.0\" \"40006-19.0\"\n",
       "[21] \"40006-20.0\" \"40006-21.0\""
      ]
     },
     "metadata": {},
     "output_type": "display_data"
    },
    {
     "data": {
      "text/plain": [
       "\n",
       "FALSE  TRUE \n",
       " 7752    22 "
      ]
     },
     "metadata": {},
     "output_type": "display_data"
    }
   ],
   "source": [
    "table(grepl(\"40006\", as.character(colnames(part.dat)) ))\n",
    "colnames(part.dat)[grepl(\"40006\", as.character(colnames(part.dat)) ) ]\n",
    "table(grepl(\"40005\", as.character(colnames(part.dat)) ))"
   ]
  },
  {
   "cell_type": "code",
   "execution_count": 6,
   "id": "c3648f5b-dbf0-4814-8fd2-fcca6911e2dd",
   "metadata": {},
   "outputs": [
    {
     "data": {
      "text/html": [
       "<style>\n",
       ".list-inline {list-style: none; margin:0; padding: 0}\n",
       ".list-inline>li {display: inline-block}\n",
       ".list-inline>li:not(:last-child)::after {content: \"\\00b7\"; padding: 0 .5ex}\n",
       "</style>\n",
       "<ol class=list-inline><li>502129</li><li>23</li></ol>\n"
      ],
      "text/latex": [
       "\\begin{enumerate*}\n",
       "\\item 502129\n",
       "\\item 23\n",
       "\\end{enumerate*}\n"
      ],
      "text/markdown": [
       "1. 502129\n",
       "2. 23\n",
       "\n",
       "\n"
      ],
      "text/plain": [
       "[1] 502129     23"
      ]
     },
     "metadata": {},
     "output_type": "display_data"
    }
   ],
   "source": [
    "part.dat1=part.dat[ ,colnames(part.dat) %in% colnames(part.test) ]\n",
    "dim(part.dat1)"
   ]
  },
  {
   "cell_type": "code",
   "execution_count": 10,
   "id": "e15df864-be52-4894-aa49-4207616b0e93",
   "metadata": {},
   "outputs": [
    {
     "data": {
      "text/html": [
       "<table class=\"dataframe\">\n",
       "<caption>A data.frame: 6 × 23</caption>\n",
       "<thead>\n",
       "\t<tr><th></th><th scope=col>eid</th><th scope=col>31-0.0</th><th scope=col>21003-0.0</th><th scope=col>22005-0.0</th><th scope=col>53-0.0</th><th scope=col>50-0.0</th><th scope=col>52-0.0</th><th scope=col>34-0.0</th><th scope=col>1160-0.0</th><th scope=col>30610-0.0</th><th scope=col>⋯</th><th scope=col>46-0.0</th><th scope=col>47-0.0</th><th scope=col>20002-0.0</th><th scope=col>20002-0.1</th><th scope=col>20107-0.0</th><th scope=col>20110-0.0</th><th scope=col>20111-0.0</th><th scope=col>22001-0.0</th><th scope=col>20008-0.1</th><th scope=col>20008-0.0</th></tr>\n",
       "\t<tr><th></th><th scope=col>&lt;int&gt;</th><th scope=col>&lt;int&gt;</th><th scope=col>&lt;int&gt;</th><th scope=col>&lt;dbl&gt;</th><th scope=col>&lt;IDate&gt;</th><th scope=col>&lt;dbl&gt;</th><th scope=col>&lt;int&gt;</th><th scope=col>&lt;int&gt;</th><th scope=col>&lt;dbl&gt;</th><th scope=col>&lt;dbl&gt;</th><th scope=col>⋯</th><th scope=col>&lt;dbl&gt;</th><th scope=col>&lt;dbl&gt;</th><th scope=col>&lt;int&gt;</th><th scope=col>&lt;int&gt;</th><th scope=col>&lt;int&gt;</th><th scope=col>&lt;int&gt;</th><th scope=col>&lt;int&gt;</th><th scope=col>&lt;int&gt;</th><th scope=col>&lt;IDate&gt;</th><th scope=col>&lt;IDate&gt;</th></tr>\n",
       "</thead>\n",
       "<tbody>\n",
       "\t<tr><th scope=row>1</th><td>1000001</td><td>0</td><td>60</td><td>0.003577114</td><td>2015-02-09</td><td>169.1036</td><td> 1</td><td>1955</td><td>5.810891</td><td>68.43995</td><td>⋯</td><td>20.384584</td><td>33.07789</td><td>NA</td><td>NA</td><td>13</td><td>13</td><td>13</td><td>0</td><td>NA</td><td>NA</td></tr>\n",
       "\t<tr><th scope=row>2</th><td>1000002</td><td>1</td><td>47</td><td>0.012960416</td><td>2014-02-21</td><td>168.5991</td><td> 2</td><td>1967</td><td>6.657919</td><td>80.42478</td><td>⋯</td><td> 8.733926</td><td>33.86323</td><td>NA</td><td>NA</td><td>11</td><td>13</td><td>13</td><td>1</td><td>NA</td><td>NA</td></tr>\n",
       "\t<tr><th scope=row>3</th><td>1000003</td><td>1</td><td>38</td><td>0.004846039</td><td>2012-12-21</td><td>167.7028</td><td>12</td><td>1974</td><td>8.229226</td><td>65.56658</td><td>⋯</td><td>24.034409</td><td>31.75600</td><td>NA</td><td>NA</td><td>13</td><td>13</td><td>13</td><td>1</td><td>NA</td><td>NA</td></tr>\n",
       "\t<tr><th scope=row>4</th><td>1000004</td><td>0</td><td>46</td><td>0.006967736</td><td>2012-08-04</td><td>168.8793</td><td> 7</td><td>1966</td><td>8.463743</td><td>47.01853</td><td>⋯</td><td>20.065313</td><td>24.18522</td><td>NA</td><td>NA</td><td>13</td><td>13</td><td>13</td><td>0</td><td>NA</td><td>NA</td></tr>\n",
       "\t<tr><th scope=row>5</th><td>1000005</td><td>0</td><td>38</td><td>0.009034879</td><td>2014-07-03</td><td>168.9272</td><td> 6</td><td>1976</td><td>8.868979</td><td>65.77410</td><td>⋯</td><td>36.107429</td><td>26.47897</td><td>NA</td><td>NA</td><td>13</td><td>13</td><td>13</td><td>0</td><td>NA</td><td>NA</td></tr>\n",
       "\t<tr><th scope=row>6</th><td>1000006</td><td>1</td><td>54</td><td>0.004537561</td><td>2008-11-13</td><td>167.5200</td><td>10</td><td>1954</td><td>6.226986</td><td>85.12344</td><td>⋯</td><td>28.109331</td><td>36.42582</td><td>NA</td><td>NA</td><td>13</td><td>13</td><td>13</td><td>1</td><td>NA</td><td>NA</td></tr>\n",
       "</tbody>\n",
       "</table>\n"
      ],
      "text/latex": [
       "A data.frame: 6 × 23\n",
       "\\begin{tabular}{r|lllllllllllllllllllll}\n",
       "  & eid & 31-0.0 & 21003-0.0 & 22005-0.0 & 53-0.0 & 50-0.0 & 52-0.0 & 34-0.0 & 1160-0.0 & 30610-0.0 & ⋯ & 46-0.0 & 47-0.0 & 20002-0.0 & 20002-0.1 & 20107-0.0 & 20110-0.0 & 20111-0.0 & 22001-0.0 & 20008-0.1 & 20008-0.0\\\\\n",
       "  & <int> & <int> & <int> & <dbl> & <IDate> & <dbl> & <int> & <int> & <dbl> & <dbl> & ⋯ & <dbl> & <dbl> & <int> & <int> & <int> & <int> & <int> & <int> & <IDate> & <IDate>\\\\\n",
       "\\hline\n",
       "\t1 & 1000001 & 0 & 60 & 0.003577114 & 2015-02-09 & 169.1036 &  1 & 1955 & 5.810891 & 68.43995 & ⋯ & 20.384584 & 33.07789 & NA & NA & 13 & 13 & 13 & 0 & NA & NA\\\\\n",
       "\t2 & 1000002 & 1 & 47 & 0.012960416 & 2014-02-21 & 168.5991 &  2 & 1967 & 6.657919 & 80.42478 & ⋯ &  8.733926 & 33.86323 & NA & NA & 11 & 13 & 13 & 1 & NA & NA\\\\\n",
       "\t3 & 1000003 & 1 & 38 & 0.004846039 & 2012-12-21 & 167.7028 & 12 & 1974 & 8.229226 & 65.56658 & ⋯ & 24.034409 & 31.75600 & NA & NA & 13 & 13 & 13 & 1 & NA & NA\\\\\n",
       "\t4 & 1000004 & 0 & 46 & 0.006967736 & 2012-08-04 & 168.8793 &  7 & 1966 & 8.463743 & 47.01853 & ⋯ & 20.065313 & 24.18522 & NA & NA & 13 & 13 & 13 & 0 & NA & NA\\\\\n",
       "\t5 & 1000005 & 0 & 38 & 0.009034879 & 2014-07-03 & 168.9272 &  6 & 1976 & 8.868979 & 65.77410 & ⋯ & 36.107429 & 26.47897 & NA & NA & 13 & 13 & 13 & 0 & NA & NA\\\\\n",
       "\t6 & 1000006 & 1 & 54 & 0.004537561 & 2008-11-13 & 167.5200 & 10 & 1954 & 6.226986 & 85.12344 & ⋯ & 28.109331 & 36.42582 & NA & NA & 13 & 13 & 13 & 1 & NA & NA\\\\\n",
       "\\end{tabular}\n"
      ],
      "text/markdown": [
       "\n",
       "A data.frame: 6 × 23\n",
       "\n",
       "| <!--/--> | eid &lt;int&gt; | 31-0.0 &lt;int&gt; | 21003-0.0 &lt;int&gt; | 22005-0.0 &lt;dbl&gt; | 53-0.0 &lt;IDate&gt; | 50-0.0 &lt;dbl&gt; | 52-0.0 &lt;int&gt; | 34-0.0 &lt;int&gt; | 1160-0.0 &lt;dbl&gt; | 30610-0.0 &lt;dbl&gt; | ⋯ ⋯ | 46-0.0 &lt;dbl&gt; | 47-0.0 &lt;dbl&gt; | 20002-0.0 &lt;int&gt; | 20002-0.1 &lt;int&gt; | 20107-0.0 &lt;int&gt; | 20110-0.0 &lt;int&gt; | 20111-0.0 &lt;int&gt; | 22001-0.0 &lt;int&gt; | 20008-0.1 &lt;IDate&gt; | 20008-0.0 &lt;IDate&gt; |\n",
       "|---|---|---|---|---|---|---|---|---|---|---|---|---|---|---|---|---|---|---|---|---|---|\n",
       "| 1 | 1000001 | 0 | 60 | 0.003577114 | 2015-02-09 | 169.1036 |  1 | 1955 | 5.810891 | 68.43995 | ⋯ | 20.384584 | 33.07789 | NA | NA | 13 | 13 | 13 | 0 | NA | NA |\n",
       "| 2 | 1000002 | 1 | 47 | 0.012960416 | 2014-02-21 | 168.5991 |  2 | 1967 | 6.657919 | 80.42478 | ⋯ |  8.733926 | 33.86323 | NA | NA | 11 | 13 | 13 | 1 | NA | NA |\n",
       "| 3 | 1000003 | 1 | 38 | 0.004846039 | 2012-12-21 | 167.7028 | 12 | 1974 | 8.229226 | 65.56658 | ⋯ | 24.034409 | 31.75600 | NA | NA | 13 | 13 | 13 | 1 | NA | NA |\n",
       "| 4 | 1000004 | 0 | 46 | 0.006967736 | 2012-08-04 | 168.8793 |  7 | 1966 | 8.463743 | 47.01853 | ⋯ | 20.065313 | 24.18522 | NA | NA | 13 | 13 | 13 | 0 | NA | NA |\n",
       "| 5 | 1000005 | 0 | 38 | 0.009034879 | 2014-07-03 | 168.9272 |  6 | 1976 | 8.868979 | 65.77410 | ⋯ | 36.107429 | 26.47897 | NA | NA | 13 | 13 | 13 | 0 | NA | NA |\n",
       "| 6 | 1000006 | 1 | 54 | 0.004537561 | 2008-11-13 | 167.5200 | 10 | 1954 | 6.226986 | 85.12344 | ⋯ | 28.109331 | 36.42582 | NA | NA | 13 | 13 | 13 | 1 | NA | NA |\n",
       "\n"
      ],
      "text/plain": [
       "  eid     31-0.0 21003-0.0 22005-0.0   53-0.0     50-0.0   52-0.0 34-0.0\n",
       "1 1000001 0      60        0.003577114 2015-02-09 169.1036  1     1955  \n",
       "2 1000002 1      47        0.012960416 2014-02-21 168.5991  2     1967  \n",
       "3 1000003 1      38        0.004846039 2012-12-21 167.7028 12     1974  \n",
       "4 1000004 0      46        0.006967736 2012-08-04 168.8793  7     1966  \n",
       "5 1000005 0      38        0.009034879 2014-07-03 168.9272  6     1976  \n",
       "6 1000006 1      54        0.004537561 2008-11-13 167.5200 10     1954  \n",
       "  1160-0.0 30610-0.0 ⋯ 46-0.0    47-0.0   20002-0.0 20002-0.1 20107-0.0\n",
       "1 5.810891 68.43995  ⋯ 20.384584 33.07789 NA        NA        13       \n",
       "2 6.657919 80.42478  ⋯  8.733926 33.86323 NA        NA        11       \n",
       "3 8.229226 65.56658  ⋯ 24.034409 31.75600 NA        NA        13       \n",
       "4 8.463743 47.01853  ⋯ 20.065313 24.18522 NA        NA        13       \n",
       "5 8.868979 65.77410  ⋯ 36.107429 26.47897 NA        NA        13       \n",
       "6 6.226986 85.12344  ⋯ 28.109331 36.42582 NA        NA        13       \n",
       "  20110-0.0 20111-0.0 22001-0.0 20008-0.1 20008-0.0\n",
       "1 13        13        0         <NA>      <NA>     \n",
       "2 13        13        1         <NA>      <NA>     \n",
       "3 13        13        1         <NA>      <NA>     \n",
       "4 13        13        0         <NA>      <NA>     \n",
       "5 13        13        0         <NA>      <NA>     \n",
       "6 13        13        1         <NA>      <NA>     "
      ]
     },
     "metadata": {},
     "output_type": "display_data"
    },
    {
     "data": {
      "text/html": [
       "<table class=\"dataframe\">\n",
       "<caption>A data.frame: 6 × 23</caption>\n",
       "<thead>\n",
       "\t<tr><th></th><th scope=col>eid</th><th scope=col>31-0.0</th><th scope=col>21003-0.0</th><th scope=col>22005-0.0</th><th scope=col>53-0.0</th><th scope=col>50-0.0</th><th scope=col>52-0.0</th><th scope=col>34-0.0</th><th scope=col>1160-0.0</th><th scope=col>30610-0.0</th><th scope=col>⋯</th><th scope=col>46-0.0</th><th scope=col>47-0.0</th><th scope=col>20002-0.0</th><th scope=col>20002-0.1</th><th scope=col>20107-0.0</th><th scope=col>20110-0.0</th><th scope=col>20111-0.0</th><th scope=col>22001-0.0</th><th scope=col>20008-0.1</th><th scope=col>20008-0.0</th></tr>\n",
       "\t<tr><th></th><th scope=col>&lt;int&gt;</th><th scope=col>&lt;chr&gt;</th><th scope=col>&lt;int&gt;</th><th scope=col>&lt;dbl&gt;</th><th scope=col>&lt;IDate&gt;</th><th scope=col>&lt;dbl&gt;</th><th scope=col>&lt;chr&gt;</th><th scope=col>&lt;int&gt;</th><th scope=col>&lt;chr&gt;</th><th scope=col>&lt;dbl&gt;</th><th scope=col>⋯</th><th scope=col>&lt;int&gt;</th><th scope=col>&lt;int&gt;</th><th scope=col>&lt;chr&gt;</th><th scope=col>&lt;chr&gt;</th><th scope=col>&lt;chr&gt;</th><th scope=col>&lt;chr&gt;</th><th scope=col>&lt;chr&gt;</th><th scope=col>&lt;chr&gt;</th><th scope=col>&lt;dbl&gt;</th><th scope=col>&lt;dbl&gt;</th></tr>\n",
       "</thead>\n",
       "<tbody>\n",
       "\t<tr><th scope=row>1</th><td>3952092</td><td>Female</td><td>50</td><td>0.0007972</td><td>2007-11-28</td><td>155.0</td><td>February</td><td>1957</td><td>5</td><td> 60.3</td><td>⋯</td><td>16</td><td>24</td><td>hypertension                       </td><td>osteoarthritis</td><td>Severe depression|Chronic bronchitis/emphysema|Stroke   </td><td>Do not know (group 1)|Do not know (group 2)             </td><td>Heart disease|None of the above (group 2)              </td><td>Female</td><td>1997.5</td><td>2005.6</td></tr>\n",
       "\t<tr><th scope=row>2</th><td>5818448</td><td>Female</td><td>64</td><td>0.0009259</td><td>2009-05-21</td><td>168.0</td><td>August  </td><td>1944</td><td>7</td><td>122.6</td><td>⋯</td><td>28</td><td>28</td><td>muscle/soft tissue problem         </td><td>              </td><td>Diabetes|None of the above (group 2)                    </td><td>Alzheimer's disease/dementia|None of the above (group 2)</td><td>Heart disease|None of the above (group 2)              </td><td>Female</td><td>    NA</td><td>2009.2</td></tr>\n",
       "\t<tr><th scope=row>3</th><td>2164290</td><td>Female</td><td>48</td><td>0.0016360</td><td>2007-04-25</td><td>162.0</td><td>October </td><td>1958</td><td>7</td><td> 91.5</td><td>⋯</td><td>22</td><td>24</td><td>                                   </td><td>              </td><td>Diabetes|High blood pressure|None of the above (group 2)</td><td>High blood pressure|None of the above (group 2)         </td><td>None of the above (group 1)|None of the above (group 2)</td><td>Female</td><td>    NA</td><td>    NA</td></tr>\n",
       "\t<tr><th scope=row>4</th><td>5265627</td><td>Male  </td><td>57</td><td>0.0007840</td><td>2009-10-17</td><td>174.0</td><td>January </td><td>1952</td><td>7</td><td> 66.0</td><td>⋯</td><td>26</td><td>30</td><td>stroke                             </td><td>hypertension  </td><td>Lung cancer|None of the above (group 1)                 </td><td>Diabetes|Heart disease|None of the above (group 2)      </td><td>None of the above (group 1)|None of the above (group 2)</td><td>Male  </td><td>2008.5</td><td>2008.5</td></tr>\n",
       "\t<tr><th scope=row>5</th><td>5125613</td><td>Male  </td><td>45</td><td>0.0114300</td><td>2009-04-28</td><td>169.0</td><td>February</td><td>1964</td><td>7</td><td> 84.4</td><td>⋯</td><td>44</td><td>44</td><td>                                   </td><td>              </td><td>Parkinson's disease|High blood pressure                 </td><td>None of the above (group 1)|None of the above (group 2) </td><td>                                                       </td><td>Male  </td><td>    NA</td><td>    NA</td></tr>\n",
       "\t<tr><th scope=row>6</th><td>4432726</td><td>Female</td><td>50</td><td>0.0020910</td><td>2008-04-04</td><td>165.5</td><td>June    </td><td>1957</td><td>4</td><td> 88.6</td><td>⋯</td><td>28</td><td>30</td><td>diverticular disease/diverticulitis</td><td>              </td><td>None of the above (group 1)|None of the above (group 2) </td><td>None of the above (group 1)|None of the above (group 2) </td><td>None of the above (group 1)|None of the above (group 2)</td><td>Female</td><td>    NA</td><td>2004.5</td></tr>\n",
       "</tbody>\n",
       "</table>\n"
      ],
      "text/latex": [
       "A data.frame: 6 × 23\n",
       "\\begin{tabular}{r|lllllllllllllllllllll}\n",
       "  & eid & 31-0.0 & 21003-0.0 & 22005-0.0 & 53-0.0 & 50-0.0 & 52-0.0 & 34-0.0 & 1160-0.0 & 30610-0.0 & ⋯ & 46-0.0 & 47-0.0 & 20002-0.0 & 20002-0.1 & 20107-0.0 & 20110-0.0 & 20111-0.0 & 22001-0.0 & 20008-0.1 & 20008-0.0\\\\\n",
       "  & <int> & <chr> & <int> & <dbl> & <IDate> & <dbl> & <chr> & <int> & <chr> & <dbl> & ⋯ & <int> & <int> & <chr> & <chr> & <chr> & <chr> & <chr> & <chr> & <dbl> & <dbl>\\\\\n",
       "\\hline\n",
       "\t1 & 3952092 & Female & 50 & 0.0007972 & 2007-11-28 & 155.0 & February & 1957 & 5 &  60.3 & ⋯ & 16 & 24 & hypertension                        & osteoarthritis & Severe depression\\textbar{}Chronic bronchitis/emphysema\\textbar{}Stroke    & Do not know (group 1)\\textbar{}Do not know (group 2)              & Heart disease\\textbar{}None of the above (group 2)               & Female & 1997.5 & 2005.6\\\\\n",
       "\t2 & 5818448 & Female & 64 & 0.0009259 & 2009-05-21 & 168.0 & August   & 1944 & 7 & 122.6 & ⋯ & 28 & 28 & muscle/soft tissue problem          &                & Diabetes\\textbar{}None of the above (group 2)                     & Alzheimer's disease/dementia\\textbar{}None of the above (group 2) & Heart disease\\textbar{}None of the above (group 2)               & Female &     NA & 2009.2\\\\\n",
       "\t3 & 2164290 & Female & 48 & 0.0016360 & 2007-04-25 & 162.0 & October  & 1958 & 7 &  91.5 & ⋯ & 22 & 24 &                                     &                & Diabetes\\textbar{}High blood pressure\\textbar{}None of the above (group 2) & High blood pressure\\textbar{}None of the above (group 2)          & None of the above (group 1)\\textbar{}None of the above (group 2) & Female &     NA &     NA\\\\\n",
       "\t4 & 5265627 & Male   & 57 & 0.0007840 & 2009-10-17 & 174.0 & January  & 1952 & 7 &  66.0 & ⋯ & 26 & 30 & stroke                              & hypertension   & Lung cancer\\textbar{}None of the above (group 1)                  & Diabetes\\textbar{}Heart disease\\textbar{}None of the above (group 2)       & None of the above (group 1)\\textbar{}None of the above (group 2) & Male   & 2008.5 & 2008.5\\\\\n",
       "\t5 & 5125613 & Male   & 45 & 0.0114300 & 2009-04-28 & 169.0 & February & 1964 & 7 &  84.4 & ⋯ & 44 & 44 &                                     &                & Parkinson's disease\\textbar{}High blood pressure                  & None of the above (group 1)\\textbar{}None of the above (group 2)  &                                                         & Male   &     NA &     NA\\\\\n",
       "\t6 & 4432726 & Female & 50 & 0.0020910 & 2008-04-04 & 165.5 & June     & 1957 & 4 &  88.6 & ⋯ & 28 & 30 & diverticular disease/diverticulitis &                & None of the above (group 1)\\textbar{}None of the above (group 2)  & None of the above (group 1)\\textbar{}None of the above (group 2)  & None of the above (group 1)\\textbar{}None of the above (group 2) & Female &     NA & 2004.5\\\\\n",
       "\\end{tabular}\n"
      ],
      "text/markdown": [
       "\n",
       "A data.frame: 6 × 23\n",
       "\n",
       "| <!--/--> | eid &lt;int&gt; | 31-0.0 &lt;chr&gt; | 21003-0.0 &lt;int&gt; | 22005-0.0 &lt;dbl&gt; | 53-0.0 &lt;IDate&gt; | 50-0.0 &lt;dbl&gt; | 52-0.0 &lt;chr&gt; | 34-0.0 &lt;int&gt; | 1160-0.0 &lt;chr&gt; | 30610-0.0 &lt;dbl&gt; | ⋯ ⋯ | 46-0.0 &lt;int&gt; | 47-0.0 &lt;int&gt; | 20002-0.0 &lt;chr&gt; | 20002-0.1 &lt;chr&gt; | 20107-0.0 &lt;chr&gt; | 20110-0.0 &lt;chr&gt; | 20111-0.0 &lt;chr&gt; | 22001-0.0 &lt;chr&gt; | 20008-0.1 &lt;dbl&gt; | 20008-0.0 &lt;dbl&gt; |\n",
       "|---|---|---|---|---|---|---|---|---|---|---|---|---|---|---|---|---|---|---|---|---|---|\n",
       "| 1 | 3952092 | Female | 50 | 0.0007972 | 2007-11-28 | 155.0 | February | 1957 | 5 |  60.3 | ⋯ | 16 | 24 | hypertension                        | osteoarthritis | Severe depression|Chronic bronchitis/emphysema|Stroke    | Do not know (group 1)|Do not know (group 2)              | Heart disease|None of the above (group 2)               | Female | 1997.5 | 2005.6 |\n",
       "| 2 | 5818448 | Female | 64 | 0.0009259 | 2009-05-21 | 168.0 | August   | 1944 | 7 | 122.6 | ⋯ | 28 | 28 | muscle/soft tissue problem          | <!----> | Diabetes|None of the above (group 2)                     | Alzheimer's disease/dementia|None of the above (group 2) | Heart disease|None of the above (group 2)               | Female |     NA | 2009.2 |\n",
       "| 3 | 2164290 | Female | 48 | 0.0016360 | 2007-04-25 | 162.0 | October  | 1958 | 7 |  91.5 | ⋯ | 22 | 24 | <!----> | <!----> | Diabetes|High blood pressure|None of the above (group 2) | High blood pressure|None of the above (group 2)          | None of the above (group 1)|None of the above (group 2) | Female |     NA |     NA |\n",
       "| 4 | 5265627 | Male   | 57 | 0.0007840 | 2009-10-17 | 174.0 | January  | 1952 | 7 |  66.0 | ⋯ | 26 | 30 | stroke                              | hypertension   | Lung cancer|None of the above (group 1)                  | Diabetes|Heart disease|None of the above (group 2)       | None of the above (group 1)|None of the above (group 2) | Male   | 2008.5 | 2008.5 |\n",
       "| 5 | 5125613 | Male   | 45 | 0.0114300 | 2009-04-28 | 169.0 | February | 1964 | 7 |  84.4 | ⋯ | 44 | 44 | <!----> | <!----> | Parkinson's disease|High blood pressure                  | None of the above (group 1)|None of the above (group 2)  | <!----> | Male   |     NA |     NA |\n",
       "| 6 | 4432726 | Female | 50 | 0.0020910 | 2008-04-04 | 165.5 | June     | 1957 | 4 |  88.6 | ⋯ | 28 | 30 | diverticular disease/diverticulitis | <!----> | None of the above (group 1)|None of the above (group 2)  | None of the above (group 1)|None of the above (group 2)  | None of the above (group 1)|None of the above (group 2) | Female |     NA | 2004.5 |\n",
       "\n"
      ],
      "text/plain": [
       "  eid     31-0.0 21003-0.0 22005-0.0 53-0.0     50-0.0 52-0.0   34-0.0 1160-0.0\n",
       "1 3952092 Female 50        0.0007972 2007-11-28 155.0  February 1957   5       \n",
       "2 5818448 Female 64        0.0009259 2009-05-21 168.0  August   1944   7       \n",
       "3 2164290 Female 48        0.0016360 2007-04-25 162.0  October  1958   7       \n",
       "4 5265627 Male   57        0.0007840 2009-10-17 174.0  January  1952   7       \n",
       "5 5125613 Male   45        0.0114300 2009-04-28 169.0  February 1964   7       \n",
       "6 4432726 Female 50        0.0020910 2008-04-04 165.5  June     1957   4       \n",
       "  30610-0.0 ⋯ 46-0.0 47-0.0 20002-0.0                           20002-0.1     \n",
       "1  60.3     ⋯ 16     24     hypertension                        osteoarthritis\n",
       "2 122.6     ⋯ 28     28     muscle/soft tissue problem                        \n",
       "3  91.5     ⋯ 22     24                                                       \n",
       "4  66.0     ⋯ 26     30     stroke                              hypertension  \n",
       "5  84.4     ⋯ 44     44                                                       \n",
       "6  88.6     ⋯ 28     30     diverticular disease/diverticulitis               \n",
       "  20107-0.0                                               \n",
       "1 Severe depression|Chronic bronchitis/emphysema|Stroke   \n",
       "2 Diabetes|None of the above (group 2)                    \n",
       "3 Diabetes|High blood pressure|None of the above (group 2)\n",
       "4 Lung cancer|None of the above (group 1)                 \n",
       "5 Parkinson's disease|High blood pressure                 \n",
       "6 None of the above (group 1)|None of the above (group 2) \n",
       "  20110-0.0                                               \n",
       "1 Do not know (group 1)|Do not know (group 2)             \n",
       "2 Alzheimer's disease/dementia|None of the above (group 2)\n",
       "3 High blood pressure|None of the above (group 2)         \n",
       "4 Diabetes|Heart disease|None of the above (group 2)      \n",
       "5 None of the above (group 1)|None of the above (group 2) \n",
       "6 None of the above (group 1)|None of the above (group 2) \n",
       "  20111-0.0                                               22001-0.0 20008-0.1\n",
       "1 Heart disease|None of the above (group 2)               Female    1997.5   \n",
       "2 Heart disease|None of the above (group 2)               Female        NA   \n",
       "3 None of the above (group 1)|None of the above (group 2) Female        NA   \n",
       "4 None of the above (group 1)|None of the above (group 2) Male      2008.5   \n",
       "5                                                         Male          NA   \n",
       "6 None of the above (group 1)|None of the above (group 2) Female        NA   \n",
       "  20008-0.0\n",
       "1 2005.6   \n",
       "2 2009.2   \n",
       "3     NA   \n",
       "4 2008.5   \n",
       "5     NA   \n",
       "6 2004.5   "
      ]
     },
     "metadata": {},
     "output_type": "display_data"
    }
   ],
   "source": [
    "head(part.test)\n",
    "head(part.dat1)"
   ]
  },
  {
   "cell_type": "code",
   "execution_count": 12,
   "id": "aec78414-8a0c-4e19-9aca-1a5e334c8e9d",
   "metadata": {},
   "outputs": [],
   "source": [
    "fwrite(part.dat1,paste0(real.dat,\"participant_data_harmonized_START.csv\"),quote=FALSE) "
   ]
  },
  {
   "cell_type": "markdown",
   "id": "39a08215-8822-4e26-88f1-93605ca31964",
   "metadata": {},
   "source": [
    "### participant data restrict approach"
   ]
  },
  {
   "cell_type": "code",
   "execution_count": 20,
   "id": "6156bdce-4e3a-4b87-9511-4241e9ede175",
   "metadata": {},
   "outputs": [],
   "source": [
    "part.test=as.data.frame(fread(paste0(test.dat,\"ukb_data.csv\")))\n",
    "part.dat=as.data.frame(fread(paste0(real.dat,\"participant_data_harmonized_START.csv\")))"
   ]
  },
  {
   "cell_type": "code",
   "execution_count": 21,
   "id": "d5b41e92-1b53-4207-b895-9f757bfaac25",
   "metadata": {},
   "outputs": [
    {
     "data": {
      "text/html": [
       "<style>\n",
       ".list-inline {list-style: none; margin:0; padding: 0}\n",
       ".list-inline>li {display: inline-block}\n",
       ".list-inline>li:not(:last-child)::after {content: \"\\00b7\"; padding: 0 .5ex}\n",
       "</style>\n",
       "<ol class=list-inline><li>502129</li><li>23</li></ol>\n"
      ],
      "text/latex": [
       "\\begin{enumerate*}\n",
       "\\item 502129\n",
       "\\item 23\n",
       "\\end{enumerate*}\n"
      ],
      "text/markdown": [
       "1. 502129\n",
       "2. 23\n",
       "\n",
       "\n"
      ],
      "text/plain": [
       "[1] 502129     23"
      ]
     },
     "metadata": {},
     "output_type": "display_data"
    },
    {
     "data": {
      "text/html": [
       "<style>\n",
       ".list-inline {list-style: none; margin:0; padding: 0}\n",
       ".list-inline>li {display: inline-block}\n",
       ".list-inline>li:not(:last-child)::after {content: \"\\00b7\"; padding: 0 .5ex}\n",
       "</style>\n",
       "<ol class=list-inline><li>502129</li><li>1082</li></ol>\n"
      ],
      "text/latex": [
       "\\begin{enumerate*}\n",
       "\\item 502129\n",
       "\\item 1082\n",
       "\\end{enumerate*}\n"
      ],
      "text/markdown": [
       "1. 502129\n",
       "2. 1082\n",
       "\n",
       "\n"
      ],
      "text/plain": [
       "[1] 502129   1082"
      ]
     },
     "metadata": {},
     "output_type": "display_data"
    }
   ],
   "source": [
    "part.dat1=part.dat[ ,colnames(part.dat) %in% colnames(part.test) ]\n",
    "dim(part.dat1)\n",
    "dim(part.dat)"
   ]
  },
  {
   "cell_type": "code",
   "execution_count": 22,
   "id": "41787ff8-1e58-4a76-a144-2d90ef9cc258",
   "metadata": {},
   "outputs": [],
   "source": [
    "fwrite(part.dat1,paste0(real.dat,\"participant_data_harmonized_SHORT.csv\"),quote=FALSE) "
   ]
  },
  {
   "cell_type": "code",
   "execution_count": 23,
   "id": "77c5ff45-1cb0-4bf1-9e7f-371358e06e8e",
   "metadata": {},
   "outputs": [
    {
     "data": {
      "text/html": [
       "<style>\n",
       ".list-inline {list-style: none; margin:0; padding: 0}\n",
       ".list-inline>li {display: inline-block}\n",
       ".list-inline>li:not(:last-child)::after {content: \"\\00b7\"; padding: 0 .5ex}\n",
       "</style>\n",
       "<ol class=list-inline><li>'eid'</li><li>'31-0.0'</li><li>'21003-0.0'</li><li>'22005-0.0'</li><li>'53-0.0'</li><li>'50-0.0'</li><li>'52-0.0'</li><li>'34-0.0'</li><li>'1160-0.0'</li><li>'30610-0.0'</li><li>'30690-0.0'</li><li>'30720-0.0'</li><li>'30890-0.0'</li><li>'46-0.0'</li><li>'47-0.0'</li><li>'20002-0.0'</li><li>'20002-0.1'</li><li>'20107-0.0'</li><li>'20110-0.0'</li><li>'20111-0.0'</li><li>'22001-0.0'</li><li>'20008-0.1'</li><li>'20008-0.0'</li></ol>\n"
      ],
      "text/latex": [
       "\\begin{enumerate*}\n",
       "\\item 'eid'\n",
       "\\item '31-0.0'\n",
       "\\item '21003-0.0'\n",
       "\\item '22005-0.0'\n",
       "\\item '53-0.0'\n",
       "\\item '50-0.0'\n",
       "\\item '52-0.0'\n",
       "\\item '34-0.0'\n",
       "\\item '1160-0.0'\n",
       "\\item '30610-0.0'\n",
       "\\item '30690-0.0'\n",
       "\\item '30720-0.0'\n",
       "\\item '30890-0.0'\n",
       "\\item '46-0.0'\n",
       "\\item '47-0.0'\n",
       "\\item '20002-0.0'\n",
       "\\item '20002-0.1'\n",
       "\\item '20107-0.0'\n",
       "\\item '20110-0.0'\n",
       "\\item '20111-0.0'\n",
       "\\item '22001-0.0'\n",
       "\\item '20008-0.1'\n",
       "\\item '20008-0.0'\n",
       "\\end{enumerate*}\n"
      ],
      "text/markdown": [
       "1. 'eid'\n",
       "2. '31-0.0'\n",
       "3. '21003-0.0'\n",
       "4. '22005-0.0'\n",
       "5. '53-0.0'\n",
       "6. '50-0.0'\n",
       "7. '52-0.0'\n",
       "8. '34-0.0'\n",
       "9. '1160-0.0'\n",
       "10. '30610-0.0'\n",
       "11. '30690-0.0'\n",
       "12. '30720-0.0'\n",
       "13. '30890-0.0'\n",
       "14. '46-0.0'\n",
       "15. '47-0.0'\n",
       "16. '20002-0.0'\n",
       "17. '20002-0.1'\n",
       "18. '20107-0.0'\n",
       "19. '20110-0.0'\n",
       "20. '20111-0.0'\n",
       "21. '22001-0.0'\n",
       "22. '20008-0.1'\n",
       "23. '20008-0.0'\n",
       "\n",
       "\n"
      ],
      "text/plain": [
       " [1] \"eid\"       \"31-0.0\"    \"21003-0.0\" \"22005-0.0\" \"53-0.0\"    \"50-0.0\"   \n",
       " [7] \"52-0.0\"    \"34-0.0\"    \"1160-0.0\"  \"30610-0.0\" \"30690-0.0\" \"30720-0.0\"\n",
       "[13] \"30890-0.0\" \"46-0.0\"    \"47-0.0\"    \"20002-0.0\" \"20002-0.1\" \"20107-0.0\"\n",
       "[19] \"20110-0.0\" \"20111-0.0\" \"22001-0.0\" \"20008-0.1\" \"20008-0.0\""
      ]
     },
     "metadata": {},
     "output_type": "display_data"
    }
   ],
   "source": [
    "colnames(part.test)"
   ]
  },
  {
   "cell_type": "code",
   "execution_count": null,
   "id": "c4ee7c70-8d8a-4f82-9d71-407b9cedefa9",
   "metadata": {},
   "outputs": [],
   "source": [
    "## there are still issues withn character vectros after script on - so i will remove all character vectors except 40006\n",
    "# - because they are supposed to be character vectors i think\n",
    "\n",
    "[1] \"6138-0.0\"   \"6138-1.0\"   \"6138-2.0\"   \"6138-3.0\"   \"6159-0.0\"  \n",
    " [6] \"6159-1.0\"   \"6159-2.0\"   \"6159-3.0\"   \"20107-0.0\"  \"20107-1.0\" \n",
    "[11] \"20107-2.0\"  \"20107-3.0\"  \"20110-0.0\"  \"20110-1.0\"  \"20110-2.0\" \n",
    "[16] \"20110-3.0\"  \"20111-0.0\"  \"20111-1.0\"  \"20111-2.0\"  \"20111-3.0\" \n",
    "[21] \"30505-0.0\"  \"30505-1.0\"  \"30515-0.0\"  \"30525-0.0\"  \"30525-1.0\" \n",
    "[26] \"30535-0.0\"  \"30535-1.0\"  \"40006-0.0\"  \"40006-1.0\"  \"40006-2.0\" \n",
    "[31] \"40006-3.0\"  \"40006-4.0\"  \"40006-5.0\"  \"40006-6.0\"  \"40006-7.0\" \n",
    "[36] \"40006-8.0\"  \"40006-9.0\"  \"40006-10.0\" \"40006-11.0\" \"40006-12.0\"\n",
    "[41] \"40006-13.0\" \"40006-14.0\" \"40006-15.0\" \"40006-16.0\" \"40006-17.0\"\n",
    "[46] \"40006-18.0\" \"40006-19.0\" \"40006-20.0\" \"40006-21.0\"  "
   ]
  },
  {
   "cell_type": "code",
   "execution_count": null,
   "id": "33ac8366-b5ea-413b-88d9-1214008a6276",
   "metadata": {},
   "outputs": [],
   "source": [
    "write.table(dat1,file=\"min_tab_v2\",row.names=F,quote=F, col.names=T,sep=\"\\t\")"
   ]
  }
 ],
 "metadata": {
  "kernelspec": {
   "display_name": "R",
   "language": "R",
   "name": "ir"
  },
  "language_info": {
   "codemirror_mode": "r",
   "file_extension": ".r",
   "mimetype": "text/x-r-source",
   "name": "R",
   "pygments_lexer": "r",
   "version": "4.3.0"
  }
 },
 "nbformat": 4,
 "nbformat_minor": 5
}
